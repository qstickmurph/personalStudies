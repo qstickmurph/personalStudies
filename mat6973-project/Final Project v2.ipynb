{
 "cells": [
  {
   "cell_type": "markdown",
   "id": "severe-ambassador",
   "metadata": {},
   "source": [
    "# Time series predictions of global economic indicators using the IMF World Economic Overview dataset\n",
    "## By Quinn Murphey\n",
    "### UTSA Mathematics Department"
   ]
  },
  {
   "cell_type": "markdown",
   "id": "emotional-melissa",
   "metadata": {},
   "source": [
    "# Libraries\n",
    "\n",
    "- Data processing and manipulation: NumPy and Pandas\n",
    "- Graphics: Matplotlib Pyplot\n",
    "- Modelling: Tensorflow"
   ]
  },
  {
   "cell_type": "code",
   "execution_count": 1,
   "id": "removable-curtis",
   "metadata": {},
   "outputs": [],
   "source": [
    "import os\n",
    "import matplotlib as mpl\n",
    "import matplotlib.pyplot as plt\n",
    "import numpy as np\n",
    "import pandas as pd\n",
    "import tensorflow as tf\n",
    "os.environ['TF_FORCE_GPU_ALLOW_GROWTH'] = 'true'"
   ]
  },
  {
   "cell_type": "markdown",
   "id": "american-chapel",
   "metadata": {},
   "source": [
    "# Data\n",
    "\n",
    "All data used is publicly availiable at https://www.imf.org/en/Publications/WEO/weo-database/2021/October/download-entire-database.\n",
    "\n",
    "There were some minor changes to the database to help convert from .xls to .csv."
   ]
  },
  {
   "cell_type": "code",
   "execution_count": 2,
   "id": "bibliographic-happening",
   "metadata": {
    "scrolled": true
   },
   "outputs": [
    {
     "data": {
      "text/html": [
       "<div>\n",
       "<style scoped>\n",
       "    .dataframe tbody tr th:only-of-type {\n",
       "        vertical-align: middle;\n",
       "    }\n",
       "\n",
       "    .dataframe tbody tr th {\n",
       "        vertical-align: top;\n",
       "    }\n",
       "\n",
       "    .dataframe thead th {\n",
       "        text-align: right;\n",
       "    }\n",
       "</style>\n",
       "<table border=\"1\" class=\"dataframe\">\n",
       "  <thead>\n",
       "    <tr style=\"text-align: right;\">\n",
       "      <th></th>\n",
       "      <th>WEO Country Code</th>\n",
       "      <th>ISO</th>\n",
       "      <th>WEO Subject Code</th>\n",
       "      <th>Country</th>\n",
       "      <th>Subject Descriptor</th>\n",
       "      <th>Subject Notes</th>\n",
       "      <th>Units</th>\n",
       "      <th>Scale</th>\n",
       "      <th>Country/Series-specific Notes</th>\n",
       "      <th>1980</th>\n",
       "      <th>...</th>\n",
       "      <th>2018</th>\n",
       "      <th>2019</th>\n",
       "      <th>2020</th>\n",
       "      <th>2021</th>\n",
       "      <th>2022</th>\n",
       "      <th>2023</th>\n",
       "      <th>2024</th>\n",
       "      <th>2025</th>\n",
       "      <th>2026</th>\n",
       "      <th>Estimates Start After</th>\n",
       "    </tr>\n",
       "  </thead>\n",
       "  <tbody>\n",
       "    <tr>\n",
       "      <th>0</th>\n",
       "      <td>512</td>\n",
       "      <td>AFG</td>\n",
       "      <td>NGDP_R</td>\n",
       "      <td>Afghanistan</td>\n",
       "      <td>Gross domestic product, constant prices</td>\n",
       "      <td>Expressed in billions of national currency uni...</td>\n",
       "      <td>National currency</td>\n",
       "      <td>Billions</td>\n",
       "      <td>Source: National Statistics Office Latest actu...</td>\n",
       "      <td>NaN</td>\n",
       "      <td>...</td>\n",
       "      <td>1,270.22</td>\n",
       "      <td>1,319.90</td>\n",
       "      <td>1,288.87</td>\n",
       "      <td>NaN</td>\n",
       "      <td>NaN</td>\n",
       "      <td>NaN</td>\n",
       "      <td>NaN</td>\n",
       "      <td>NaN</td>\n",
       "      <td>NaN</td>\n",
       "      <td>2019.0</td>\n",
       "    </tr>\n",
       "    <tr>\n",
       "      <th>1</th>\n",
       "      <td>512</td>\n",
       "      <td>AFG</td>\n",
       "      <td>NGDP_RPCH</td>\n",
       "      <td>Afghanistan</td>\n",
       "      <td>Gross domestic product, constant prices</td>\n",
       "      <td>Annual percentages of constant price GDP are y...</td>\n",
       "      <td>Percent change</td>\n",
       "      <td>NaN</td>\n",
       "      <td>See notes for:  Gross domestic product, consta...</td>\n",
       "      <td>NaN</td>\n",
       "      <td>...</td>\n",
       "      <td>1.189</td>\n",
       "      <td>3.912</td>\n",
       "      <td>-2.351</td>\n",
       "      <td>NaN</td>\n",
       "      <td>NaN</td>\n",
       "      <td>NaN</td>\n",
       "      <td>NaN</td>\n",
       "      <td>NaN</td>\n",
       "      <td>NaN</td>\n",
       "      <td>2019.0</td>\n",
       "    </tr>\n",
       "    <tr>\n",
       "      <th>2</th>\n",
       "      <td>512</td>\n",
       "      <td>AFG</td>\n",
       "      <td>NGDP</td>\n",
       "      <td>Afghanistan</td>\n",
       "      <td>Gross domestic product, current prices</td>\n",
       "      <td>Expressed in billions of national currency uni...</td>\n",
       "      <td>National currency</td>\n",
       "      <td>Billions</td>\n",
       "      <td>Source: National Statistics Office Latest actu...</td>\n",
       "      <td>NaN</td>\n",
       "      <td>...</td>\n",
       "      <td>1,327.69</td>\n",
       "      <td>1,469.60</td>\n",
       "      <td>1,547.29</td>\n",
       "      <td>NaN</td>\n",
       "      <td>NaN</td>\n",
       "      <td>NaN</td>\n",
       "      <td>NaN</td>\n",
       "      <td>NaN</td>\n",
       "      <td>NaN</td>\n",
       "      <td>2019.0</td>\n",
       "    </tr>\n",
       "    <tr>\n",
       "      <th>3</th>\n",
       "      <td>512</td>\n",
       "      <td>AFG</td>\n",
       "      <td>NGDPD</td>\n",
       "      <td>Afghanistan</td>\n",
       "      <td>Gross domestic product, current prices</td>\n",
       "      <td>Values are based upon GDP in national currency...</td>\n",
       "      <td>U.S. dollars</td>\n",
       "      <td>Billions</td>\n",
       "      <td>See notes for:  Gross domestic product, curren...</td>\n",
       "      <td>NaN</td>\n",
       "      <td>...</td>\n",
       "      <td>18.401</td>\n",
       "      <td>18.876</td>\n",
       "      <td>20.136</td>\n",
       "      <td>NaN</td>\n",
       "      <td>NaN</td>\n",
       "      <td>NaN</td>\n",
       "      <td>NaN</td>\n",
       "      <td>NaN</td>\n",
       "      <td>NaN</td>\n",
       "      <td>2019.0</td>\n",
       "    </tr>\n",
       "    <tr>\n",
       "      <th>4</th>\n",
       "      <td>512</td>\n",
       "      <td>AFG</td>\n",
       "      <td>PPPGDP</td>\n",
       "      <td>Afghanistan</td>\n",
       "      <td>Gross domestic product, current prices</td>\n",
       "      <td>These data form the basis for the country weig...</td>\n",
       "      <td>Purchasing power parity; international dollars</td>\n",
       "      <td>Billions</td>\n",
       "      <td>See notes for:  Gross domestic product, curren...</td>\n",
       "      <td>NaN</td>\n",
       "      <td>...</td>\n",
       "      <td>77.406</td>\n",
       "      <td>81.873</td>\n",
       "      <td>80.912</td>\n",
       "      <td>NaN</td>\n",
       "      <td>NaN</td>\n",
       "      <td>NaN</td>\n",
       "      <td>NaN</td>\n",
       "      <td>NaN</td>\n",
       "      <td>NaN</td>\n",
       "      <td>2019.0</td>\n",
       "    </tr>\n",
       "    <tr>\n",
       "      <th>...</th>\n",
       "      <td>...</td>\n",
       "      <td>...</td>\n",
       "      <td>...</td>\n",
       "      <td>...</td>\n",
       "      <td>...</td>\n",
       "      <td>...</td>\n",
       "      <td>...</td>\n",
       "      <td>...</td>\n",
       "      <td>...</td>\n",
       "      <td>...</td>\n",
       "      <td>...</td>\n",
       "      <td>...</td>\n",
       "      <td>...</td>\n",
       "      <td>...</td>\n",
       "      <td>...</td>\n",
       "      <td>...</td>\n",
       "      <td>...</td>\n",
       "      <td>...</td>\n",
       "      <td>...</td>\n",
       "      <td>...</td>\n",
       "      <td>...</td>\n",
       "    </tr>\n",
       "    <tr>\n",
       "      <th>8815</th>\n",
       "      <td>698</td>\n",
       "      <td>ZWE</td>\n",
       "      <td>GGXWDG</td>\n",
       "      <td>Zimbabwe</td>\n",
       "      <td>General government gross debt</td>\n",
       "      <td>Gross debt consists of all liabilities that re...</td>\n",
       "      <td>National currency</td>\n",
       "      <td>Billions</td>\n",
       "      <td>Source: Ministry of Finance or Treasury Latest...</td>\n",
       "      <td>NaN</td>\n",
       "      <td>...</td>\n",
       "      <td>14.459</td>\n",
       "      <td>181.867</td>\n",
       "      <td>968.863</td>\n",
       "      <td>1,187.21</td>\n",
       "      <td>1,615.81</td>\n",
       "      <td>1,924.61</td>\n",
       "      <td>2,169.96</td>\n",
       "      <td>2,357.23</td>\n",
       "      <td>2,518.86</td>\n",
       "      <td>2019.0</td>\n",
       "    </tr>\n",
       "    <tr>\n",
       "      <th>8816</th>\n",
       "      <td>698</td>\n",
       "      <td>ZWE</td>\n",
       "      <td>GGXWDG_NGDP</td>\n",
       "      <td>Zimbabwe</td>\n",
       "      <td>General government gross debt</td>\n",
       "      <td>Gross debt consists of all liabilities that re...</td>\n",
       "      <td>Percent of GDP</td>\n",
       "      <td>NaN</td>\n",
       "      <td>See notes for:  General government gross debt ...</td>\n",
       "      <td>NaN</td>\n",
       "      <td>...</td>\n",
       "      <td>61.486</td>\n",
       "      <td>113.923</td>\n",
       "      <td>86.147</td>\n",
       "      <td>54.013</td>\n",
       "      <td>60.311</td>\n",
       "      <td>62.027</td>\n",
       "      <td>62.24</td>\n",
       "      <td>60.688</td>\n",
       "      <td>59.609</td>\n",
       "      <td>2019.0</td>\n",
       "    </tr>\n",
       "    <tr>\n",
       "      <th>8817</th>\n",
       "      <td>698</td>\n",
       "      <td>ZWE</td>\n",
       "      <td>NGDP_FY</td>\n",
       "      <td>Zimbabwe</td>\n",
       "      <td>Gross domestic product corresponding to fiscal...</td>\n",
       "      <td>Gross domestic product corresponding to fiscal...</td>\n",
       "      <td>National currency</td>\n",
       "      <td>Billions</td>\n",
       "      <td>Source: Ministry of Finance or Treasury Latest...</td>\n",
       "      <td>NaN</td>\n",
       "      <td>...</td>\n",
       "      <td>23.516</td>\n",
       "      <td>159.641</td>\n",
       "      <td>1,124.67</td>\n",
       "      <td>2,198.00</td>\n",
       "      <td>2,679.15</td>\n",
       "      <td>3,102.88</td>\n",
       "      <td>3,486.45</td>\n",
       "      <td>3,884.16</td>\n",
       "      <td>4,225.61</td>\n",
       "      <td>2019.0</td>\n",
       "    </tr>\n",
       "    <tr>\n",
       "      <th>8818</th>\n",
       "      <td>698</td>\n",
       "      <td>ZWE</td>\n",
       "      <td>BCA</td>\n",
       "      <td>Zimbabwe</td>\n",
       "      <td>Current account balance</td>\n",
       "      <td>Current account is all transactions other than...</td>\n",
       "      <td>U.S. dollars</td>\n",
       "      <td>Billions</td>\n",
       "      <td>Source: Reserve Bank of Zimbabwe and Ministry ...</td>\n",
       "      <td>-0.301</td>\n",
       "      <td>...</td>\n",
       "      <td>-1.38</td>\n",
       "      <td>0.92</td>\n",
       "      <td>1.275</td>\n",
       "      <td>1.262</td>\n",
       "      <td>1.06</td>\n",
       "      <td>0.621</td>\n",
       "      <td>0.148</td>\n",
       "      <td>-0.247</td>\n",
       "      <td>-0.683</td>\n",
       "      <td>2019.0</td>\n",
       "    </tr>\n",
       "    <tr>\n",
       "      <th>8819</th>\n",
       "      <td>698</td>\n",
       "      <td>ZWE</td>\n",
       "      <td>BCA_NGDPD</td>\n",
       "      <td>Zimbabwe</td>\n",
       "      <td>Current account balance</td>\n",
       "      <td>Current account is all transactions other than...</td>\n",
       "      <td>Percent of GDP</td>\n",
       "      <td>NaN</td>\n",
       "      <td>See notes for:  Gross domestic product, curren...</td>\n",
       "      <td>NaN</td>\n",
       "      <td>...</td>\n",
       "      <td>-5.867</td>\n",
       "      <td>4.699</td>\n",
       "      <td>5.815</td>\n",
       "      <td>4.894</td>\n",
       "      <td>3.811</td>\n",
       "      <td>2.217</td>\n",
       "      <td>0.519</td>\n",
       "      <td>-0.833</td>\n",
       "      <td>-2.162</td>\n",
       "      <td>2019.0</td>\n",
       "    </tr>\n",
       "  </tbody>\n",
       "</table>\n",
       "<p>8820 rows × 57 columns</p>\n",
       "</div>"
      ],
      "text/plain": [
       "      WEO Country Code  ISO WEO Subject Code      Country  \\\n",
       "0                  512  AFG           NGDP_R  Afghanistan   \n",
       "1                  512  AFG        NGDP_RPCH  Afghanistan   \n",
       "2                  512  AFG             NGDP  Afghanistan   \n",
       "3                  512  AFG            NGDPD  Afghanistan   \n",
       "4                  512  AFG           PPPGDP  Afghanistan   \n",
       "...                ...  ...              ...          ...   \n",
       "8815               698  ZWE           GGXWDG     Zimbabwe   \n",
       "8816               698  ZWE      GGXWDG_NGDP     Zimbabwe   \n",
       "8817               698  ZWE          NGDP_FY     Zimbabwe   \n",
       "8818               698  ZWE              BCA     Zimbabwe   \n",
       "8819               698  ZWE        BCA_NGDPD     Zimbabwe   \n",
       "\n",
       "                                     Subject Descriptor  \\\n",
       "0               Gross domestic product, constant prices   \n",
       "1               Gross domestic product, constant prices   \n",
       "2                Gross domestic product, current prices   \n",
       "3                Gross domestic product, current prices   \n",
       "4                Gross domestic product, current prices   \n",
       "...                                                 ...   \n",
       "8815                      General government gross debt   \n",
       "8816                      General government gross debt   \n",
       "8817  Gross domestic product corresponding to fiscal...   \n",
       "8818                            Current account balance   \n",
       "8819                            Current account balance   \n",
       "\n",
       "                                          Subject Notes  \\\n",
       "0     Expressed in billions of national currency uni...   \n",
       "1     Annual percentages of constant price GDP are y...   \n",
       "2     Expressed in billions of national currency uni...   \n",
       "3     Values are based upon GDP in national currency...   \n",
       "4     These data form the basis for the country weig...   \n",
       "...                                                 ...   \n",
       "8815  Gross debt consists of all liabilities that re...   \n",
       "8816  Gross debt consists of all liabilities that re...   \n",
       "8817  Gross domestic product corresponding to fiscal...   \n",
       "8818  Current account is all transactions other than...   \n",
       "8819  Current account is all transactions other than...   \n",
       "\n",
       "                                               Units     Scale  \\\n",
       "0                                  National currency  Billions   \n",
       "1                                     Percent change       NaN   \n",
       "2                                  National currency  Billions   \n",
       "3                                       U.S. dollars  Billions   \n",
       "4     Purchasing power parity; international dollars  Billions   \n",
       "...                                              ...       ...   \n",
       "8815                               National currency  Billions   \n",
       "8816                                  Percent of GDP       NaN   \n",
       "8817                               National currency  Billions   \n",
       "8818                                    U.S. dollars  Billions   \n",
       "8819                                  Percent of GDP       NaN   \n",
       "\n",
       "                          Country/Series-specific Notes    1980  ...  \\\n",
       "0     Source: National Statistics Office Latest actu...     NaN  ...   \n",
       "1     See notes for:  Gross domestic product, consta...     NaN  ...   \n",
       "2     Source: National Statistics Office Latest actu...     NaN  ...   \n",
       "3     See notes for:  Gross domestic product, curren...     NaN  ...   \n",
       "4     See notes for:  Gross domestic product, curren...     NaN  ...   \n",
       "...                                                 ...     ...  ...   \n",
       "8815  Source: Ministry of Finance or Treasury Latest...     NaN  ...   \n",
       "8816  See notes for:  General government gross debt ...     NaN  ...   \n",
       "8817  Source: Ministry of Finance or Treasury Latest...     NaN  ...   \n",
       "8818  Source: Reserve Bank of Zimbabwe and Ministry ...  -0.301  ...   \n",
       "8819  See notes for:  Gross domestic product, curren...     NaN  ...   \n",
       "\n",
       "          2018      2019      2020      2021      2022      2023      2024  \\\n",
       "0     1,270.22  1,319.90  1,288.87       NaN       NaN       NaN       NaN   \n",
       "1        1.189     3.912    -2.351       NaN       NaN       NaN       NaN   \n",
       "2     1,327.69  1,469.60  1,547.29       NaN       NaN       NaN       NaN   \n",
       "3       18.401    18.876    20.136       NaN       NaN       NaN       NaN   \n",
       "4       77.406    81.873    80.912       NaN       NaN       NaN       NaN   \n",
       "...        ...       ...       ...       ...       ...       ...       ...   \n",
       "8815    14.459   181.867   968.863  1,187.21  1,615.81  1,924.61  2,169.96   \n",
       "8816    61.486   113.923    86.147    54.013    60.311    62.027     62.24   \n",
       "8817    23.516   159.641  1,124.67  2,198.00  2,679.15  3,102.88  3,486.45   \n",
       "8818     -1.38      0.92     1.275     1.262      1.06     0.621     0.148   \n",
       "8819    -5.867     4.699     5.815     4.894     3.811     2.217     0.519   \n",
       "\n",
       "          2025      2026 Estimates Start After  \n",
       "0          NaN       NaN                2019.0  \n",
       "1          NaN       NaN                2019.0  \n",
       "2          NaN       NaN                2019.0  \n",
       "3          NaN       NaN                2019.0  \n",
       "4          NaN       NaN                2019.0  \n",
       "...        ...       ...                   ...  \n",
       "8815  2,357.23  2,518.86                2019.0  \n",
       "8816    60.688    59.609                2019.0  \n",
       "8817  3,884.16  4,225.61                2019.0  \n",
       "8818    -0.247    -0.683                2019.0  \n",
       "8819    -0.833    -2.162                2019.0  \n",
       "\n",
       "[8820 rows x 57 columns]"
      ]
     },
     "execution_count": 2,
     "metadata": {},
     "output_type": "execute_result"
    }
   ],
   "source": [
    "rawData = pd.read_csv(\"WEOOct2021all.csv\")\n",
    "rawData"
   ]
  },
  {
   "cell_type": "markdown",
   "id": "proud-queue",
   "metadata": {},
   "source": [
    "## Database Description\n",
    "The database used is a semi-annual publication by the International Monetary Fund tracking 44 various economic indicators for 194 countries from 1980 to 2020. One important note, is that the database is not full, meaning that we will have to carefully deal with NaN entries in our preprocessing. As a whole, our database has 8820 rows and 57 columns.\n",
    "\n",
    "### Columns\n",
    "- WEO Country Code: Integer code representing the country\n",
    "- ISO: 3 character code representing the country\n",
    "- WEO Subject Code: String representing a specific indicator\n",
    "- Country: Full name of country\n",
    "- Subject Descriptor: Definition of respective WEO Subject Code\n",
    "- Subject Notes: Further explanation of WEO Subject Code\n",
    "- Units: Unit of measurement of indicator\n",
    "- Scale: Scale of indicator\n",
    "- Country/Series-specific Notes: Indicator notes describing source + misc for country\n",
    "- 1980-2026: Float holding data for each year corresponding to the Country and WEO Subject Code\n",
    "- Estimates Start After: The last year of non predicted data"
   ]
  },
  {
   "cell_type": "markdown",
   "id": "stuck-patent",
   "metadata": {},
   "source": [
    "### Countries"
   ]
  },
  {
   "cell_type": "code",
   "execution_count": 3,
   "id": "voluntary-violence",
   "metadata": {
    "scrolled": true
   },
   "outputs": [
    {
     "name": "stdout",
     "output_type": "stream",
     "text": [
      "['Afghanistan' 'Albania' 'Algeria' 'Andorra' 'Angola'\n",
      " 'Antigua and Barbuda' 'Argentina' 'Armenia' 'Aruba' 'Australia' 'Austria'\n",
      " 'Azerbaijan' 'The Bahamas' 'Bahrain' 'Bangladesh' 'Barbados' 'Belarus'\n",
      " 'Belgium' 'Belize' 'Benin' 'Bhutan' 'Bolivia' 'Bosnia and Herzegovina'\n",
      " 'Botswana' 'Brazil' 'Brunei Darussalam' 'Bulgaria' 'Burkina Faso'\n",
      " 'Burundi' 'Cabo Verde' 'Cambodia' 'Cameroon' 'Canada'\n",
      " 'Central African Republic' 'Chad' 'Chile' 'China' 'Colombia' 'Comoros'\n",
      " 'Democratic Republic of the Congo' 'Republic of Congo' 'Costa Rica'\n",
      " 'Croatia' 'Cyprus' 'Czech Republic' 'Denmark' 'Djibouti' 'Dominica'\n",
      " 'Dominican Republic' 'Ecuador' 'Egypt' 'El Salvador' 'Equatorial Guinea'\n",
      " 'Eritrea' 'Estonia' 'Eswatini' 'Ethiopia' 'Fiji' 'Finland' 'France'\n",
      " 'Gabon' 'The Gambia' 'Georgia' 'Germany' 'Ghana' 'Greece' 'Grenada'\n",
      " 'Guatemala' 'Guinea' 'Guinea-Bissau' 'Guyana' 'Haiti' 'Honduras'\n",
      " 'Hong Kong SAR' 'Hungary' 'Iceland' 'India' 'Indonesia'\n",
      " 'Islamic Republic of Iran' 'Iraq' 'Ireland' 'Israel' 'Italy' 'Jamaica'\n",
      " 'Japan' 'Jordan' 'Kazakhstan' 'Kenya' 'Kiribati' 'Korea' 'Kosovo'\n",
      " 'Kuwait' 'Kyrgyz Republic' 'Lao P.D.R.' 'Latvia' 'Lebanon' 'Lesotho'\n",
      " 'Liberia' 'Libya' 'Lithuania' 'Luxembourg' 'Macao SAR' 'Madagascar'\n",
      " 'Malawi' 'Malaysia' 'Maldives' 'Mali' 'Malta' 'Marshall Islands'\n",
      " 'Mauritania' 'Mauritius' 'Mexico' 'Micronesia' 'Moldova' 'Mongolia'\n",
      " 'Montenegro' 'Morocco' 'Mozambique' 'Myanmar' 'Namibia' 'Nauru' 'Nepal'\n",
      " 'Netherlands' 'New Zealand' 'Nicaragua' 'Niger' 'Nigeria'\n",
      " 'North Macedonia' 'Norway' 'Oman' 'Pakistan' 'Palau' 'Panama'\n",
      " 'Papua New Guinea' 'Paraguay' 'Peru' 'Philippines' 'Poland' 'Portugal'\n",
      " 'Puerto Rico' 'Qatar' 'Romania' 'Russia' 'Rwanda' 'Samoa' 'San Marino'\n",
      " 'Saudi Arabia' 'Senegal' 'Serbia' 'Seychelles' 'Sierra Leone' 'Singapore'\n",
      " 'Slovak Republic' 'Slovenia' 'Solomon Islands' 'Somalia' 'South Africa'\n",
      " 'South Sudan' 'Spain' 'Sri Lanka' 'St. Kitts and Nevis' 'St. Lucia'\n",
      " 'St. Vincent and the Grenadines' 'Sudan' 'Suriname' 'Sweden'\n",
      " 'Switzerland' 'Syria' 'Taiwan Province of China' 'Tajikistan' 'Tanzania'\n",
      " 'Thailand' 'Timor-Leste' 'Togo' 'Tonga' 'Trinidad and Tobago' 'Tunisia'\n",
      " 'Turkey' 'Turkmenistan' 'Tuvalu' 'Uganda' 'Ukraine'\n",
      " 'United Arab Emirates' 'United Kingdom' 'United States' 'Uruguay'\n",
      " 'Uzbekistan' 'Vanuatu' 'Venezuela' 'Vietnam' 'West Bank and Gaza' 'Yemen'\n",
      " 'Zambia' 'Zimbabwe']\n"
     ]
    }
   ],
   "source": [
    "print(rawData[~rawData['Country'].isna()][\"Country\"].unique())"
   ]
  },
  {
   "cell_type": "markdown",
   "id": "critical-equivalent",
   "metadata": {},
   "source": [
    "### WEO Country Codes\n",
    "\n",
    "For the rest of the report, we will refer to each indicator by its WEO Subject Code, and for assistance, we will create a dict entry for each code to its description and units and scale. Here are our 44 codes and their descriptions."
   ]
  },
  {
   "cell_type": "code",
   "execution_count": 4,
   "id": "classical-auckland",
   "metadata": {
    "scrolled": true
   },
   "outputs": [
    {
     "data": {
      "text/plain": [
       "{'NGDP_R': 'Gross domestic product, constant prices (National currency; Billions)',\n",
       " 'NGDP_RPCH': 'Gross domestic product, constant prices (Percent change; nan)',\n",
       " 'NGDP': 'Gross domestic product, current prices (National currency; Billions)',\n",
       " 'NGDPD': 'Gross domestic product, current prices (U.S. dollars; Billions)',\n",
       " 'PPPGDP': 'Gross domestic product, current prices (Purchasing power parity; international dollars; Billions)',\n",
       " 'NGDP_D': 'Gross domestic product, deflator (Index; nan)',\n",
       " 'NGDPRPC': 'Gross domestic product per capita, constant prices (National currency; Units)',\n",
       " 'NGDPRPPPPC': 'Gross domestic product per capita, constant prices (Purchasing power parity; 2017 international dollar; Units)',\n",
       " 'NGDPPC': 'Gross domestic product per capita, current prices (National currency; Units)',\n",
       " 'NGDPDPC': 'Gross domestic product per capita, current prices (U.S. dollars; Units)',\n",
       " 'PPPPC': 'Gross domestic product per capita, current prices (Purchasing power parity; international dollars; Units)',\n",
       " 'NGAP_NPGDP': 'Output gap in percent of potential GDP (Percent of potential GDP; nan)',\n",
       " 'PPPSH': 'Gross domestic product based on purchasing-power-parity (PPP) share of world total (Percent; nan)',\n",
       " 'PPPEX': 'Implied PPP conversion rate (National currency per current international dollar; nan)',\n",
       " 'NID_NGDP': 'Total investment (Percent of GDP; nan)',\n",
       " 'NGSD_NGDP': 'Gross national savings (Percent of GDP; nan)',\n",
       " 'PCPI': 'Inflation, average consumer prices (Index; nan)',\n",
       " 'PCPIPCH': 'Inflation, average consumer prices (Percent change; nan)',\n",
       " 'PCPIE': 'Inflation, end of period consumer prices (Index; nan)',\n",
       " 'PCPIEPCH': 'Inflation, end of period consumer prices (Percent change; nan)',\n",
       " 'FLIBOR6': 'Six-month London interbank offered rate (LIBOR) (Percent; nan)',\n",
       " 'TM_RPCH': 'Volume of imports of goods and services (Percent change; nan)',\n",
       " 'TMG_RPCH': 'Volume of Imports of goods (Percent change; nan)',\n",
       " 'TX_RPCH': 'Volume of exports of goods and services (Percent change; nan)',\n",
       " 'TXG_RPCH': 'Volume of exports of goods (Percent change; nan)',\n",
       " 'LUR': 'Unemployment rate (Percent of total labor force; nan)',\n",
       " 'LE': 'Employment (Persons; Millions)',\n",
       " 'LP': 'Population (Persons; Millions)',\n",
       " 'GGR': 'General government revenue (National currency; Billions)',\n",
       " 'GGR_NGDP': 'General government revenue (Percent of GDP; nan)',\n",
       " 'GGX': 'General government total expenditure (National currency; Billions)',\n",
       " 'GGX_NGDP': 'General government total expenditure (Percent of GDP; nan)',\n",
       " 'GGXCNL': 'General government net lending/borrowing (National currency; Billions)',\n",
       " 'GGXCNL_NGDP': 'General government net lending/borrowing (Percent of GDP; nan)',\n",
       " 'GGSB': 'General government structural balance (National currency; Billions)',\n",
       " 'GGSB_NPGDP': 'General government structural balance (Percent of potential GDP; nan)',\n",
       " 'GGXONLB': 'General government primary net lending/borrowing (National currency; Billions)',\n",
       " 'GGXONLB_NGDP': 'General government primary net lending/borrowing (Percent of GDP; nan)',\n",
       " 'GGXWDN': 'General government net debt (National currency; Billions)',\n",
       " 'GGXWDN_NGDP': 'General government net debt (Percent of GDP; nan)',\n",
       " 'GGXWDG': 'General government gross debt (National currency; Billions)',\n",
       " 'GGXWDG_NGDP': 'General government gross debt (Percent of GDP; nan)',\n",
       " 'NGDP_FY': 'Gross domestic product corresponding to fiscal year, current prices (National currency; Billions)',\n",
       " 'BCA': 'Current account balance (U.S. dollars; Billions)'}"
      ]
     },
     "execution_count": 4,
     "metadata": {},
     "output_type": "execute_result"
    }
   ],
   "source": [
    "# Compile dict of WEO Subject Code to description\n",
    "codesDict = {}\n",
    "codes = rawData[[\"WEO Subject Code\",\"Subject Descriptor\",\"Units\", \"Scale\"]]\n",
    "for weocode in pd.unique(codes[\"WEO Subject Code\"])[:-1]:\n",
    "    codesDict[weocode] = codes[codes.values == weocode]['Subject Descriptor'].iloc[0] + \\\n",
    "        \" (\" + codes[codes.values == weocode]['Units'].iloc[0] + \"; \" + str(codes[codes.values == weocode]['Scale'].iloc[0]) + \")\"\n",
    "\n",
    "codesDict"
   ]
  },
  {
   "cell_type": "markdown",
   "id": "compatible-target",
   "metadata": {},
   "source": [
    "## Database preprocessing"
   ]
  },
  {
   "cell_type": "code",
   "execution_count": 5,
   "id": "uniform-immune",
   "metadata": {},
   "outputs": [],
   "source": [
    "# Constants for easier use later\n",
    "startYear = 1980\n",
    "endYear = 2026 \n",
    "\n",
    "# Create fresh copy of data\n",
    "data = rawData.copy()"
   ]
  },
  {
   "cell_type": "markdown",
   "id": "continued-wisdom",
   "metadata": {},
   "source": [
    "Remove any rows with a 'nan' entry for the Country column "
   ]
  },
  {
   "cell_type": "code",
   "execution_count": 6,
   "id": "sixth-weapon",
   "metadata": {},
   "outputs": [],
   "source": [
    "data = data[~data['Country'].isna()]"
   ]
  },
  {
   "cell_type": "markdown",
   "id": "contrary-drill",
   "metadata": {},
   "source": [
    "We are going to remove all columns from the dataframe other than the following:\n",
    "- WEO Subject Code\n",
    "- Country\n",
    "- 1980-2026\n",
    "- Estimates Start After (will be removed later)"
   ]
  },
  {
   "cell_type": "code",
   "execution_count": 7,
   "id": "imposed-puppy",
   "metadata": {},
   "outputs": [],
   "source": [
    "data = data.drop(columns=[\"WEO Country Code\", \"ISO\", \"Subject Descriptor\", \"Subject Notes\", \n",
    "                          \"Units\", \"Scale\", \"Country/Series-specific Notes\"])"
   ]
  },
  {
   "cell_type": "code",
   "execution_count": 8,
   "id": "virgin-gregory",
   "metadata": {},
   "outputs": [],
   "source": [
    "# Get unique values of Country and WEO Subject Codes\n",
    "countries = data[\"Country\"].unique()\n",
    "codes = list(codesDict.keys())"
   ]
  },
  {
   "cell_type": "markdown",
   "id": "productive-narrative",
   "metadata": {},
   "source": [
    "Next, we will remove all the predicted data contained in the database.\n",
    "\n",
    "To do this, we find where the estimates start for each country, store it in a dict, and fill the columns from there to 2026 with NaN. After this, we don't need the Estimates Start After column because we have our new dict."
   ]
  },
  {
   "cell_type": "code",
   "execution_count": 9,
   "id": "charitable-siemens",
   "metadata": {},
   "outputs": [],
   "source": [
    "# Find where the estimates start for each country\n",
    "estimatesStartAfter = {}\n",
    "for country in countries:\n",
    "    estimatesStartAfter[country] = np.int_(data.loc[rawData[\"Country\"] == country][\"Estimates Start After\"].min())\n",
    "    \n",
    "# Remove predicted data\n",
    "for country in countries:\n",
    "    for year in range(estimatesStartAfter[country] + 1, endYear + 1):\n",
    "        data.loc[data[\"Country\"] == country, str(year)] = np.nan\n",
    "\n",
    "# Remove Estimates start after column\n",
    "data = data.drop(columns=\"Estimates Start After\")"
   ]
  },
  {
   "cell_type": "markdown",
   "id": "unlikely-voluntary",
   "metadata": {},
   "source": [
    "Next, we will remove any full columns from 1980-2026 that do not contain any data."
   ]
  },
  {
   "cell_type": "code",
   "execution_count": 10,
   "id": "freelance-warrior",
   "metadata": {},
   "outputs": [],
   "source": [
    "# Remove any columns with all NaN\n",
    "numRows = len(data)\n",
    "dropColumns = []\n",
    "for column in range(startYear, endYear + 1):\n",
    "    if data[str(column)].isna().sum() == numRows:\n",
    "        dropColumns.append(str(column))\n",
    "data = data.drop(columns=dropColumns)\n",
    "endYear -= len(dropColumns)"
   ]
  },
  {
   "cell_type": "markdown",
   "id": "overhead-sheffield",
   "metadata": {},
   "source": [
    "Finally, we will correct the typing of our data."
   ]
  },
  {
   "cell_type": "code",
   "execution_count": 11,
   "id": "continuing-consortium",
   "metadata": {},
   "outputs": [],
   "source": [
    "# Turn float data into float64 dtype\n",
    "yearColumns = [str(x) for x in range(startYear, endYear + 1)]\n",
    "data[yearColumns] = data[yearColumns].replace(',','', regex=True)\n",
    "data[yearColumns] = data[yearColumns].replace('(-)+','', regex=True)\n",
    "data[yearColumns] = data[yearColumns].replace(r'^\\s*$', np.nan, regex=True)\n",
    "data[yearColumns] = data[yearColumns].astype('float64')"
   ]
  },
  {
   "cell_type": "code",
   "execution_count": 12,
   "id": "backed-joining",
   "metadata": {
    "scrolled": false
   },
   "outputs": [
    {
     "data": {
      "text/html": [
       "<div>\n",
       "<style scoped>\n",
       "    .dataframe tbody tr th:only-of-type {\n",
       "        vertical-align: middle;\n",
       "    }\n",
       "\n",
       "    .dataframe tbody tr th {\n",
       "        vertical-align: top;\n",
       "    }\n",
       "\n",
       "    .dataframe thead th {\n",
       "        text-align: right;\n",
       "    }\n",
       "</style>\n",
       "<table border=\"1\" class=\"dataframe\">\n",
       "  <thead>\n",
       "    <tr style=\"text-align: right;\">\n",
       "      <th></th>\n",
       "      <th>WEO Subject Code</th>\n",
       "      <th>Country</th>\n",
       "      <th>1980</th>\n",
       "      <th>1981</th>\n",
       "      <th>1982</th>\n",
       "      <th>1983</th>\n",
       "      <th>1984</th>\n",
       "      <th>1985</th>\n",
       "      <th>1986</th>\n",
       "      <th>1987</th>\n",
       "      <th>...</th>\n",
       "      <th>2011</th>\n",
       "      <th>2012</th>\n",
       "      <th>2013</th>\n",
       "      <th>2014</th>\n",
       "      <th>2015</th>\n",
       "      <th>2016</th>\n",
       "      <th>2017</th>\n",
       "      <th>2018</th>\n",
       "      <th>2019</th>\n",
       "      <th>2020</th>\n",
       "    </tr>\n",
       "  </thead>\n",
       "  <tbody>\n",
       "    <tr>\n",
       "      <th>0</th>\n",
       "      <td>NGDP_R</td>\n",
       "      <td>Afghanistan</td>\n",
       "      <td>NaN</td>\n",
       "      <td>NaN</td>\n",
       "      <td>NaN</td>\n",
       "      <td>NaN</td>\n",
       "      <td>NaN</td>\n",
       "      <td>NaN</td>\n",
       "      <td>NaN</td>\n",
       "      <td>NaN</td>\n",
       "      <td>...</td>\n",
       "      <td>958.266</td>\n",
       "      <td>1092.120</td>\n",
       "      <td>1154.180</td>\n",
       "      <td>1185.310</td>\n",
       "      <td>1197.010</td>\n",
       "      <td>1222.920</td>\n",
       "      <td>1255.290</td>\n",
       "      <td>1270.220</td>\n",
       "      <td>1319.900</td>\n",
       "      <td>NaN</td>\n",
       "    </tr>\n",
       "    <tr>\n",
       "      <th>1</th>\n",
       "      <td>NGDP_RPCH</td>\n",
       "      <td>Afghanistan</td>\n",
       "      <td>NaN</td>\n",
       "      <td>NaN</td>\n",
       "      <td>NaN</td>\n",
       "      <td>NaN</td>\n",
       "      <td>NaN</td>\n",
       "      <td>NaN</td>\n",
       "      <td>NaN</td>\n",
       "      <td>NaN</td>\n",
       "      <td>...</td>\n",
       "      <td>6.479</td>\n",
       "      <td>13.968</td>\n",
       "      <td>5.683</td>\n",
       "      <td>2.697</td>\n",
       "      <td>0.988</td>\n",
       "      <td>2.164</td>\n",
       "      <td>2.647</td>\n",
       "      <td>1.189</td>\n",
       "      <td>3.912</td>\n",
       "      <td>NaN</td>\n",
       "    </tr>\n",
       "    <tr>\n",
       "      <th>2</th>\n",
       "      <td>NGDP</td>\n",
       "      <td>Afghanistan</td>\n",
       "      <td>NaN</td>\n",
       "      <td>NaN</td>\n",
       "      <td>NaN</td>\n",
       "      <td>NaN</td>\n",
       "      <td>NaN</td>\n",
       "      <td>NaN</td>\n",
       "      <td>NaN</td>\n",
       "      <td>NaN</td>\n",
       "      <td>...</td>\n",
       "      <td>836.222</td>\n",
       "      <td>1033.590</td>\n",
       "      <td>1116.830</td>\n",
       "      <td>1183.040</td>\n",
       "      <td>1226.570</td>\n",
       "      <td>1222.920</td>\n",
       "      <td>1285.460</td>\n",
       "      <td>1327.690</td>\n",
       "      <td>1469.600</td>\n",
       "      <td>NaN</td>\n",
       "    </tr>\n",
       "    <tr>\n",
       "      <th>3</th>\n",
       "      <td>NGDPD</td>\n",
       "      <td>Afghanistan</td>\n",
       "      <td>NaN</td>\n",
       "      <td>NaN</td>\n",
       "      <td>NaN</td>\n",
       "      <td>NaN</td>\n",
       "      <td>NaN</td>\n",
       "      <td>NaN</td>\n",
       "      <td>NaN</td>\n",
       "      <td>NaN</td>\n",
       "      <td>...</td>\n",
       "      <td>17.890</td>\n",
       "      <td>20.293</td>\n",
       "      <td>20.170</td>\n",
       "      <td>20.616</td>\n",
       "      <td>20.057</td>\n",
       "      <td>18.020</td>\n",
       "      <td>18.883</td>\n",
       "      <td>18.401</td>\n",
       "      <td>18.876</td>\n",
       "      <td>NaN</td>\n",
       "    </tr>\n",
       "    <tr>\n",
       "      <th>4</th>\n",
       "      <td>PPPGDP</td>\n",
       "      <td>Afghanistan</td>\n",
       "      <td>NaN</td>\n",
       "      <td>NaN</td>\n",
       "      <td>NaN</td>\n",
       "      <td>NaN</td>\n",
       "      <td>NaN</td>\n",
       "      <td>NaN</td>\n",
       "      <td>NaN</td>\n",
       "      <td>NaN</td>\n",
       "      <td>...</td>\n",
       "      <td>50.334</td>\n",
       "      <td>59.945</td>\n",
       "      <td>63.784</td>\n",
       "      <td>69.444</td>\n",
       "      <td>72.056</td>\n",
       "      <td>70.098</td>\n",
       "      <td>74.712</td>\n",
       "      <td>77.406</td>\n",
       "      <td>81.873</td>\n",
       "      <td>NaN</td>\n",
       "    </tr>\n",
       "    <tr>\n",
       "      <th>...</th>\n",
       "      <td>...</td>\n",
       "      <td>...</td>\n",
       "      <td>...</td>\n",
       "      <td>...</td>\n",
       "      <td>...</td>\n",
       "      <td>...</td>\n",
       "      <td>...</td>\n",
       "      <td>...</td>\n",
       "      <td>...</td>\n",
       "      <td>...</td>\n",
       "      <td>...</td>\n",
       "      <td>...</td>\n",
       "      <td>...</td>\n",
       "      <td>...</td>\n",
       "      <td>...</td>\n",
       "      <td>...</td>\n",
       "      <td>...</td>\n",
       "      <td>...</td>\n",
       "      <td>...</td>\n",
       "      <td>...</td>\n",
       "      <td>...</td>\n",
       "    </tr>\n",
       "    <tr>\n",
       "      <th>8815</th>\n",
       "      <td>GGXWDG</td>\n",
       "      <td>Zimbabwe</td>\n",
       "      <td>NaN</td>\n",
       "      <td>NaN</td>\n",
       "      <td>NaN</td>\n",
       "      <td>NaN</td>\n",
       "      <td>NaN</td>\n",
       "      <td>NaN</td>\n",
       "      <td>NaN</td>\n",
       "      <td>NaN</td>\n",
       "      <td>...</td>\n",
       "      <td>6.044</td>\n",
       "      <td>6.549</td>\n",
       "      <td>7.053</td>\n",
       "      <td>8.230</td>\n",
       "      <td>9.477</td>\n",
       "      <td>10.089</td>\n",
       "      <td>11.998</td>\n",
       "      <td>NaN</td>\n",
       "      <td>NaN</td>\n",
       "      <td>NaN</td>\n",
       "    </tr>\n",
       "    <tr>\n",
       "      <th>8816</th>\n",
       "      <td>GGXWDG_NGDP</td>\n",
       "      <td>Zimbabwe</td>\n",
       "      <td>NaN</td>\n",
       "      <td>NaN</td>\n",
       "      <td>NaN</td>\n",
       "      <td>NaN</td>\n",
       "      <td>NaN</td>\n",
       "      <td>NaN</td>\n",
       "      <td>NaN</td>\n",
       "      <td>NaN</td>\n",
       "      <td>...</td>\n",
       "      <td>42.858</td>\n",
       "      <td>38.265</td>\n",
       "      <td>36.944</td>\n",
       "      <td>42.211</td>\n",
       "      <td>47.473</td>\n",
       "      <td>49.096</td>\n",
       "      <td>54.433</td>\n",
       "      <td>NaN</td>\n",
       "      <td>NaN</td>\n",
       "      <td>NaN</td>\n",
       "    </tr>\n",
       "    <tr>\n",
       "      <th>8817</th>\n",
       "      <td>NGDP_FY</td>\n",
       "      <td>Zimbabwe</td>\n",
       "      <td>NaN</td>\n",
       "      <td>NaN</td>\n",
       "      <td>NaN</td>\n",
       "      <td>NaN</td>\n",
       "      <td>NaN</td>\n",
       "      <td>NaN</td>\n",
       "      <td>NaN</td>\n",
       "      <td>NaN</td>\n",
       "      <td>...</td>\n",
       "      <td>14.102</td>\n",
       "      <td>17.115</td>\n",
       "      <td>19.091</td>\n",
       "      <td>19.496</td>\n",
       "      <td>19.963</td>\n",
       "      <td>20.549</td>\n",
       "      <td>22.041</td>\n",
       "      <td>NaN</td>\n",
       "      <td>NaN</td>\n",
       "      <td>NaN</td>\n",
       "    </tr>\n",
       "    <tr>\n",
       "      <th>8818</th>\n",
       "      <td>BCA</td>\n",
       "      <td>Zimbabwe</td>\n",
       "      <td>0.301</td>\n",
       "      <td>0.674</td>\n",
       "      <td>0.748</td>\n",
       "      <td>0.504</td>\n",
       "      <td>0.171</td>\n",
       "      <td>0.153</td>\n",
       "      <td>0.051</td>\n",
       "      <td>0.0</td>\n",
       "      <td>...</td>\n",
       "      <td>2.750</td>\n",
       "      <td>2.278</td>\n",
       "      <td>2.649</td>\n",
       "      <td>2.334</td>\n",
       "      <td>1.597</td>\n",
       "      <td>0.697</td>\n",
       "      <td>0.271</td>\n",
       "      <td>NaN</td>\n",
       "      <td>NaN</td>\n",
       "      <td>NaN</td>\n",
       "    </tr>\n",
       "    <tr>\n",
       "      <th>8819</th>\n",
       "      <td>BCA_NGDPD</td>\n",
       "      <td>Zimbabwe</td>\n",
       "      <td>NaN</td>\n",
       "      <td>NaN</td>\n",
       "      <td>NaN</td>\n",
       "      <td>NaN</td>\n",
       "      <td>NaN</td>\n",
       "      <td>NaN</td>\n",
       "      <td>NaN</td>\n",
       "      <td>NaN</td>\n",
       "      <td>...</td>\n",
       "      <td>19.497</td>\n",
       "      <td>13.308</td>\n",
       "      <td>13.874</td>\n",
       "      <td>11.971</td>\n",
       "      <td>7.998</td>\n",
       "      <td>3.394</td>\n",
       "      <td>1.230</td>\n",
       "      <td>NaN</td>\n",
       "      <td>NaN</td>\n",
       "      <td>NaN</td>\n",
       "    </tr>\n",
       "  </tbody>\n",
       "</table>\n",
       "<p>8730 rows × 43 columns</p>\n",
       "</div>"
      ],
      "text/plain": [
       "     WEO Subject Code      Country   1980   1981   1982   1983   1984   1985  \\\n",
       "0              NGDP_R  Afghanistan    NaN    NaN    NaN    NaN    NaN    NaN   \n",
       "1           NGDP_RPCH  Afghanistan    NaN    NaN    NaN    NaN    NaN    NaN   \n",
       "2                NGDP  Afghanistan    NaN    NaN    NaN    NaN    NaN    NaN   \n",
       "3               NGDPD  Afghanistan    NaN    NaN    NaN    NaN    NaN    NaN   \n",
       "4              PPPGDP  Afghanistan    NaN    NaN    NaN    NaN    NaN    NaN   \n",
       "...               ...          ...    ...    ...    ...    ...    ...    ...   \n",
       "8815           GGXWDG     Zimbabwe    NaN    NaN    NaN    NaN    NaN    NaN   \n",
       "8816      GGXWDG_NGDP     Zimbabwe    NaN    NaN    NaN    NaN    NaN    NaN   \n",
       "8817          NGDP_FY     Zimbabwe    NaN    NaN    NaN    NaN    NaN    NaN   \n",
       "8818              BCA     Zimbabwe  0.301  0.674  0.748  0.504  0.171  0.153   \n",
       "8819        BCA_NGDPD     Zimbabwe    NaN    NaN    NaN    NaN    NaN    NaN   \n",
       "\n",
       "       1986  1987  ...     2011      2012      2013      2014      2015  \\\n",
       "0       NaN   NaN  ...  958.266  1092.120  1154.180  1185.310  1197.010   \n",
       "1       NaN   NaN  ...    6.479    13.968     5.683     2.697     0.988   \n",
       "2       NaN   NaN  ...  836.222  1033.590  1116.830  1183.040  1226.570   \n",
       "3       NaN   NaN  ...   17.890    20.293    20.170    20.616    20.057   \n",
       "4       NaN   NaN  ...   50.334    59.945    63.784    69.444    72.056   \n",
       "...     ...   ...  ...      ...       ...       ...       ...       ...   \n",
       "8815    NaN   NaN  ...    6.044     6.549     7.053     8.230     9.477   \n",
       "8816    NaN   NaN  ...   42.858    38.265    36.944    42.211    47.473   \n",
       "8817    NaN   NaN  ...   14.102    17.115    19.091    19.496    19.963   \n",
       "8818  0.051   0.0  ...    2.750     2.278     2.649     2.334     1.597   \n",
       "8819    NaN   NaN  ...   19.497    13.308    13.874    11.971     7.998   \n",
       "\n",
       "          2016      2017      2018      2019  2020  \n",
       "0     1222.920  1255.290  1270.220  1319.900   NaN  \n",
       "1        2.164     2.647     1.189     3.912   NaN  \n",
       "2     1222.920  1285.460  1327.690  1469.600   NaN  \n",
       "3       18.020    18.883    18.401    18.876   NaN  \n",
       "4       70.098    74.712    77.406    81.873   NaN  \n",
       "...        ...       ...       ...       ...   ...  \n",
       "8815    10.089    11.998       NaN       NaN   NaN  \n",
       "8816    49.096    54.433       NaN       NaN   NaN  \n",
       "8817    20.549    22.041       NaN       NaN   NaN  \n",
       "8818     0.697     0.271       NaN       NaN   NaN  \n",
       "8819     3.394     1.230       NaN       NaN   NaN  \n",
       "\n",
       "[8730 rows x 43 columns]"
      ]
     },
     "execution_count": 12,
     "metadata": {},
     "output_type": "execute_result"
    }
   ],
   "source": [
    "data"
   ]
  },
  {
   "cell_type": "markdown",
   "id": "demanding-posting",
   "metadata": {},
   "source": [
    "## Data Plotting\n",
    "\n",
    "First we will define our ```plot``` function that we will use throughout the report to help us visualize our data and predictions."
   ]
  },
  {
   "cell_type": "code",
   "execution_count": 13,
   "id": "cordless-squad",
   "metadata": {},
   "outputs": [],
   "source": [
    "def plot(data, inputWidth=0, labelWidth=0, predictions=None, countries=None, codes=None, startYear=startYear, endYear=endYear):\n",
    "    fig = plt.figure(figsize=(12, 12))\n",
    "    yearColumnsStr = [str(x) for x in range(startYear, endYear + 1)]\n",
    "    yearColumnsInt = [x for x in range(startYear, endYear + 1)]\n",
    "    \n",
    "    # Loop over Countries, Code\n",
    "    subfigs = fig.subfigures(nrows=max(len(countries),2), ncols=1)\n",
    "    i = 1\n",
    "    for subfig, country in zip(subfigs,countries):\n",
    "        subfig.suptitle(country)\n",
    "        for col, code in enumerate(codes,start=1):\n",
    "            # Create subplot and set values\n",
    "            ax = fig.add_subplot(len(countries),len(codes),i)\n",
    "            ax.set_title(' ')\n",
    "            i += 1\n",
    "            plt.ylabel(f'{code}')\n",
    "            plt.xlabel(\"Year\")\n",
    "\n",
    "            # Plot inputs\n",
    "            plt.plot(yearColumnsInt, \n",
    "                    data[(data[\"Country\"] == country) & (data[\"WEO Subject Code\"] == code)][yearColumns].values[0], \n",
    "                    label='Inputs', marker='.', zorder=-10)\n",
    "\n",
    "            # Plot labels\n",
    "            if inputWidth != 0 and labelWidth != 0:\n",
    "                plt.scatter(yearColumnsInt[inputWidth:], \n",
    "                        data[(data[\"Country\"] == country) & (data[\"WEO Subject Code\"] == code)][yearColumns[inputWidth:]].values[0], \n",
    "                        edgecolors='k', label='Labels', c='#2ca02c', s=64)\n",
    "\n",
    "            # Plot predictions\n",
    "            if predictions is not None:\n",
    "                if labelWidth == 1:\n",
    "                    plt.scatter(yearColumnsInt[inputWidth:], \n",
    "                                predictions,\n",
    "                      marker='X', edgecolors='k', label='Predictions',\n",
    "                      c='#ff7f0e', s=64)\n",
    "                else:\n",
    "                    for i in range(len(predictions)):\n",
    "                        if i == 0:\n",
    "                            plt.plot(yearColumnsInt[inputWidth + i :inputWidth + labelWidth + i], \n",
    "                                    predictions[i],\n",
    "                                    marker='X', label='Predictions',\n",
    "                                    c='#ff7f0e')\n",
    "                        else:\n",
    "                            plt.plot(yearColumnsInt[inputWidth + i :inputWidth + labelWidth + i], \n",
    "                                    predictions[i],\n",
    "                                    marker='X',\n",
    "                                    c='#ff7f0e')\n",
    "            \n",
    "            plt.legend()\n",
    "    \n",
    "    plt.tight_layout(h_pad=2)\n",
    "    plt.show()\n",
    "    \n"
   ]
  },
  {
   "cell_type": "markdown",
   "id": "western-logistics",
   "metadata": {},
   "source": [
    "For example, we can print the GDP (PPP) and GDP per capita (PPP) for the United States and the United Kingdom"
   ]
  },
  {
   "cell_type": "code",
   "execution_count": 14,
   "id": "scenic-mounting",
   "metadata": {
    "scrolled": false
   },
   "outputs": [
    {
     "data": {
      "image/png": "[encoded data removed]",
      "text/plain": [
       "<Figure size 864x864 with 6 Axes>"
      ]
     },
     "metadata": {
      "needs_background": "light"
     },
     "output_type": "display_data"
    }
   ],
   "source": [
    "plot(data,countries=[\"United States\", \"United Kingdom\"],codes=[\"PPPGDP\", \"PPPPC\",\"PCPIPCH\"])"
   ]
  },
  {
   "cell_type": "code",
   "execution_count": 15,
   "id": "floral-country",
   "metadata": {},
   "outputs": [],
   "source": [
    "def data_subset(data, countries, codes):\n",
    "    return data[(data[\"Country\"].isin(countries)) & (data[\"WEO Subject Code\"].isin(codes))]"
   ]
  },
  {
   "cell_type": "code",
   "execution_count": 16,
   "id": "korean-engagement",
   "metadata": {},
   "outputs": [],
   "source": [
    "def normalize(data):\n",
    "    normalized_data = data.copy()\n",
    "        \n",
    "    codes = data[\"WEO Subject Code\"].unique()\n",
    "    \n",
    "    yearColumns = data.columns[2:]\n",
    "    \n",
    "    for code in codes:\n",
    "        mean = data[data[\"WEO Subject Code\"] == code][yearColumns].stack().mean()\n",
    "        std = data[data[\"WEO Subject Code\"] == code][yearColumns].stack().std()\n",
    "        \n",
    "        normalized_data.loc[normalized_data[\"WEO Subject Code\"] == code, yearColumns] = \\\n",
    "                data.loc[normalized_data[\"WEO Subject Code\"] == code,yearColumns].applymap(\n",
    "                    lambda x : (x - mean) / std)    \n",
    "    return normalized_data"
   ]
  },
  {
   "cell_type": "code",
   "execution_count": 17,
   "id": "offensive-thickness",
   "metadata": {},
   "outputs": [],
   "source": [
    "def data_to_time_series(data, width, startYear, endYear):\n",
    "    \n",
    "    countries = data[\"Country\"].unique()\n",
    "    codes = data[\"WEO Subject Code\"].unique()\n",
    "\n",
    "    columns = [\"Country\", \"End Year\"]\n",
    "    for code in codes:\n",
    "        for year in range(width):\n",
    "            columns.append(code + \"-\" + str(year))\n",
    "    \n",
    "    numRows = len(countries) * ((endYear - startYear) - width + 2)\n",
    "    numCols = len(columns)\n",
    "    \n",
    "    time_series = pd.DataFrame(data=np.empty((numRows, len(columns))),columns=columns)\n",
    "    \n",
    "    index = 0\n",
    "    for country in countries:\n",
    "        for endYear in range(startYear + width - 1, endYear + 1):\n",
    "            newRow = np.empty(numCols, dtype=np.object)\n",
    "            newRow[0:2] = [country,endYear]\n",
    "            \n",
    "            yearColumns = [str(x) for x in range(endYear - width + 1, endYear + 1)]\n",
    "            startSlice = 2\n",
    "            endSlice = startSlice + width\n",
    "            for code in codes:\n",
    "                test = data[(data[\"Country\"] == country) & (data[\"WEO Subject Code\"] == code)][yearColumns]\n",
    "                if test.shape == (1, width):\n",
    "                    newRow[startSlice:endSlice] = test\n",
    "                startSlice += width\n",
    "                endSlice += width            \n",
    "            time_series.iloc[index] = newRow\n",
    "            index += 1\n",
    "    \n",
    "    time_series[\"Country\"] = time_series[\"Country\"].astype(str)\n",
    "    time_series[\"End Year\"] = time_series[\"End Year\"].astype(\"int64\")\n",
    "                \n",
    "    return time_series"
   ]
  },
  {
   "cell_type": "code",
   "execution_count": 18,
   "id": "fifteen-columbia",
   "metadata": {},
   "outputs": [],
   "source": [
    "def feature_label_split_time_series(timeSeries, featureWidth=9, labelWidth=1, \n",
    "                                    featureParams=None, labelParams=None):    \n",
    "    # Determine which columns of the timeSeries are features and which are labels\n",
    "    featureColumns = []\n",
    "    for code in featureParams:\n",
    "        for year in range(featureWidth):\n",
    "            featureColumns.append(code + '-' + str(year))\n",
    "    \n",
    "    labelColumns = []\n",
    "    for code in labelParams:\n",
    "        for year in range(featureWidth, featureWidth + labelWidth):\n",
    "            labelColumns.append(code + '-' + str(year))\n",
    "    \n",
    "    timeSeriesTrimmed = timeSeries[featureColumns + labelColumns].dropna()\n",
    "    \n",
    "    features = pd.DataFrame(\n",
    "            data=timeSeriesTrimmed[featureColumns],\n",
    "            columns=featureColumns)\n",
    "    \n",
    "    labels = pd.DataFrame(\n",
    "            data=timeSeriesTrimmed[labelColumns],\n",
    "            columns=labelColumns)\n",
    "    \n",
    "    return features, labels\n",
    "    "
   ]
  },
  {
   "cell_type": "code",
   "execution_count": 19,
   "id": "better-medicaid",
   "metadata": {},
   "outputs": [],
   "source": [
    "def time_series_to_tf_dataset(features, labels, featureWidth, labelWidth):\n",
    "    # Turn each dataframe into their ndarray equivalents\n",
    "    featureArray = features.values\n",
    "    labelArray = labels.values\n",
    "    \n",
    "    numEntries = len(featureArray)\n",
    "    \n",
    "    # Reshape from (Entry, feature/time) -> (Entry, time, feature)\n",
    "    featureArray = \\\n",
    "            np.array([ \n",
    "                [ \n",
    "                    [ entry[i * featureWidth + time ] for i in range(len(entry) // featureWidth)]\n",
    "                for time in range(featureWidth)]\n",
    "            for entry in featureArray ])\n",
    "    \n",
    "    labelArray = \\\n",
    "            np.array([ \n",
    "                [ \n",
    "                    [ entry[i * labelWidth + time ] for i in range(len(entry) // labelWidth)]\n",
    "                for time in range(labelWidth)]\n",
    "            for entry in labelArray ])\n",
    "    \n",
    "    featureDataset = tf.data.Dataset.from_tensor_slices(featureArray)\n",
    "    labelDataset = tf.data.Dataset.from_tensor_slices(labelArray)\n",
    "    return tf.data.Dataset.zip((featureDataset, labelDataset))"
   ]
  },
  {
   "cell_type": "code",
   "execution_count": 20,
   "id": "nominated-commissioner",
   "metadata": {},
   "outputs": [],
   "source": [
    "def train_validate_test_split(dataset, trainSplit=0.8, valSplit=0.1, testSplit=0.1, shuffle=True):\n",
    "    assert (trainSplit + valSplit + testSplit) == 1\n",
    "    shuffleSize=10000\n",
    "    if shuffle:\n",
    "        # Specify seed to always have the same split distribution between runs\n",
    "        dataset = dataset.shuffle(shuffleSize, seed=0)\n",
    "    \n",
    "    dsSize = len(dataset)\n",
    "    \n",
    "    trainSize = int(trainSplit * dsSize)\n",
    "    valSize = int(valSplit * dsSize)\n",
    "    \n",
    "    trainDataset = dataset.take(trainSize).repeat(3).batch(1)\n",
    "    valDataset = dataset.skip(trainSize).take(valSize).repeat(3).batch(1)\n",
    "    testDataset = dataset.skip(trainSize).skip(valSize).repeat(3).batch(1)\n",
    "    \n",
    "    return trainDataset, valDataset, testDataset"
   ]
  },
  {
   "cell_type": "markdown",
   "id": "functioning-colleague",
   "metadata": {},
   "source": [
    "## Trim out sparse WEO Subject Codes\n",
    "\n",
    "We will trim any WEO Subject Codes from our data that have less than 90% of the values that the largest indicator has. This is in order to balance between having a high number of data points and parameters to help us generate a better model."
   ]
  },
  {
   "cell_type": "code",
   "execution_count": 21,
   "id": "introductory-savage",
   "metadata": {},
   "outputs": [],
   "source": [
    "# Constants\n",
    "cutoff = .90\n",
    "\n",
    "countries = data[\"Country\"].unique()\n",
    "codes = data[\"WEO Subject Code\"].unique()\n",
    "\n",
    "results = {}\n",
    "maxS = 0\n",
    "for code in codes:\n",
    "    s = 0\n",
    "    for country in countries:\n",
    "        s += data[(data[\"Country\"] == country) & (data[\"WEO Subject Code\"] == code)].stack().count() \n",
    "    results[code] = s\n",
    "    if s > maxS:\n",
    "        maxS = s\n",
    "\n",
    "usedCodes = []\n",
    "for code in codes:\n",
    "    if results[code] >= cutoff * maxS:\n",
    "        usedCodes.append(code)\n",
    "data = data_subset(data, data[\"Country\"].unique(), usedCodes)"
   ]
  },
  {
   "cell_type": "code",
   "execution_count": null,
   "id": "commercial-inflation",
   "metadata": {},
   "outputs": [],
   "source": [
    "usedCodes"
   ]
  },
  {
   "cell_type": "markdown",
   "id": "binding-parcel",
   "metadata": {},
   "source": [
    "## Single parameter input and label\n",
    "Our preprocessing of our data has several steps."
   ]
  },
  {
   "cell_type": "code",
   "execution_count": 108,
   "id": "unlikely-nylon",
   "metadata": {},
   "outputs": [],
   "source": [
    "inputWidth = 9\n",
    "labelWidth = 1\n",
    "width = inputWidth + labelWidth\n",
    "inputParams = [\"PPPGDP\"]\n",
    "labelParams = [\"PPPGDP\"]\n",
    "trainSplit=0.8\n",
    "valSplit=0.1\n",
    "testSplit=0.1\n",
    "shuffle=True"
   ]
  },
  {
   "cell_type": "markdown",
   "id": "catholic-adams",
   "metadata": {},
   "source": [
    "### Normalize Data\n",
    "For each WEO Subject Code, we subtract the mean and divide by the std of the data"
   ]
  },
  {
   "cell_type": "code",
   "execution_count": 109,
   "id": "passing-field",
   "metadata": {},
   "outputs": [],
   "source": [
    "normalizedData = normalize(data)"
   ]
  },
  {
   "cell_type": "markdown",
   "id": "affected-gospel",
   "metadata": {},
   "source": [
    "### Turn data into a time series\n",
    "For each country, we take window of width inputWidth+labelWidth over the columns startYear to endYear and label it by the largest year in the window to create a time series.\n",
    "\n",
    "The data containing columns of the time series are of the form {code}-{year} where year represents their place in the window."
   ]
  },
  {
   "cell_type": "code",
   "execution_count": 110,
   "id": "optimum-inventory",
   "metadata": {},
   "outputs": [],
   "source": [
    "timeSeries = data_to_time_series(data, width, startYear, endYear)\n",
    "normalizedTimeSeries = data_to_time_series(normalizedData, width, startYear, endYear)"
   ]
  },
  {
   "cell_type": "code",
   "execution_count": 111,
   "id": "removable-memorial",
   "metadata": {
    "scrolled": true
   },
   "outputs": [
    {
     "data": {
      "text/html": [
       "<div>\n",
       "<style scoped>\n",
       "    .dataframe tbody tr th:only-of-type {\n",
       "        vertical-align: middle;\n",
       "    }\n",
       "\n",
       "    .dataframe tbody tr th {\n",
       "        vertical-align: top;\n",
       "    }\n",
       "\n",
       "    .dataframe thead th {\n",
       "        text-align: right;\n",
       "    }\n",
       "</style>\n",
       "<table border=\"1\" class=\"dataframe\">\n",
       "  <thead>\n",
       "    <tr style=\"text-align: right;\">\n",
       "      <th></th>\n",
       "      <th>Country</th>\n",
       "      <th>End Year</th>\n",
       "      <th>NGDP_R-0</th>\n",
       "      <th>NGDP_R-1</th>\n",
       "      <th>NGDP_R-2</th>\n",
       "      <th>NGDP_R-3</th>\n",
       "      <th>NGDP_R-4</th>\n",
       "      <th>NGDP_R-5</th>\n",
       "      <th>NGDP_R-6</th>\n",
       "      <th>NGDP_R-7</th>\n",
       "      <th>...</th>\n",
       "      <th>BCA_NGDPD-0</th>\n",
       "      <th>BCA_NGDPD-1</th>\n",
       "      <th>BCA_NGDPD-2</th>\n",
       "      <th>BCA_NGDPD-3</th>\n",
       "      <th>BCA_NGDPD-4</th>\n",
       "      <th>BCA_NGDPD-5</th>\n",
       "      <th>BCA_NGDPD-6</th>\n",
       "      <th>BCA_NGDPD-7</th>\n",
       "      <th>BCA_NGDPD-8</th>\n",
       "      <th>BCA_NGDPD-9</th>\n",
       "    </tr>\n",
       "  </thead>\n",
       "  <tbody>\n",
       "    <tr>\n",
       "      <th>0</th>\n",
       "      <td>Afghanistan</td>\n",
       "      <td>1989</td>\n",
       "      <td>NaN</td>\n",
       "      <td>NaN</td>\n",
       "      <td>NaN</td>\n",
       "      <td>NaN</td>\n",
       "      <td>NaN</td>\n",
       "      <td>NaN</td>\n",
       "      <td>NaN</td>\n",
       "      <td>NaN</td>\n",
       "      <td>...</td>\n",
       "      <td>NaN</td>\n",
       "      <td>NaN</td>\n",
       "      <td>NaN</td>\n",
       "      <td>NaN</td>\n",
       "      <td>NaN</td>\n",
       "      <td>NaN</td>\n",
       "      <td>NaN</td>\n",
       "      <td>NaN</td>\n",
       "      <td>NaN</td>\n",
       "      <td>NaN</td>\n",
       "    </tr>\n",
       "    <tr>\n",
       "      <th>1</th>\n",
       "      <td>Afghanistan</td>\n",
       "      <td>1990</td>\n",
       "      <td>NaN</td>\n",
       "      <td>NaN</td>\n",
       "      <td>NaN</td>\n",
       "      <td>NaN</td>\n",
       "      <td>NaN</td>\n",
       "      <td>NaN</td>\n",
       "      <td>NaN</td>\n",
       "      <td>NaN</td>\n",
       "      <td>...</td>\n",
       "      <td>NaN</td>\n",
       "      <td>NaN</td>\n",
       "      <td>NaN</td>\n",
       "      <td>NaN</td>\n",
       "      <td>NaN</td>\n",
       "      <td>NaN</td>\n",
       "      <td>NaN</td>\n",
       "      <td>NaN</td>\n",
       "      <td>NaN</td>\n",
       "      <td>NaN</td>\n",
       "    </tr>\n",
       "    <tr>\n",
       "      <th>2</th>\n",
       "      <td>Afghanistan</td>\n",
       "      <td>1991</td>\n",
       "      <td>NaN</td>\n",
       "      <td>NaN</td>\n",
       "      <td>NaN</td>\n",
       "      <td>NaN</td>\n",
       "      <td>NaN</td>\n",
       "      <td>NaN</td>\n",
       "      <td>NaN</td>\n",
       "      <td>NaN</td>\n",
       "      <td>...</td>\n",
       "      <td>NaN</td>\n",
       "      <td>NaN</td>\n",
       "      <td>NaN</td>\n",
       "      <td>NaN</td>\n",
       "      <td>NaN</td>\n",
       "      <td>NaN</td>\n",
       "      <td>NaN</td>\n",
       "      <td>NaN</td>\n",
       "      <td>NaN</td>\n",
       "      <td>NaN</td>\n",
       "    </tr>\n",
       "    <tr>\n",
       "      <th>3</th>\n",
       "      <td>Afghanistan</td>\n",
       "      <td>1992</td>\n",
       "      <td>NaN</td>\n",
       "      <td>NaN</td>\n",
       "      <td>NaN</td>\n",
       "      <td>NaN</td>\n",
       "      <td>NaN</td>\n",
       "      <td>NaN</td>\n",
       "      <td>NaN</td>\n",
       "      <td>NaN</td>\n",
       "      <td>...</td>\n",
       "      <td>NaN</td>\n",
       "      <td>NaN</td>\n",
       "      <td>NaN</td>\n",
       "      <td>NaN</td>\n",
       "      <td>NaN</td>\n",
       "      <td>NaN</td>\n",
       "      <td>NaN</td>\n",
       "      <td>NaN</td>\n",
       "      <td>NaN</td>\n",
       "      <td>NaN</td>\n",
       "    </tr>\n",
       "    <tr>\n",
       "      <th>4</th>\n",
       "      <td>Afghanistan</td>\n",
       "      <td>1993</td>\n",
       "      <td>NaN</td>\n",
       "      <td>NaN</td>\n",
       "      <td>NaN</td>\n",
       "      <td>NaN</td>\n",
       "      <td>NaN</td>\n",
       "      <td>NaN</td>\n",
       "      <td>NaN</td>\n",
       "      <td>NaN</td>\n",
       "      <td>...</td>\n",
       "      <td>NaN</td>\n",
       "      <td>NaN</td>\n",
       "      <td>NaN</td>\n",
       "      <td>NaN</td>\n",
       "      <td>NaN</td>\n",
       "      <td>NaN</td>\n",
       "      <td>NaN</td>\n",
       "      <td>NaN</td>\n",
       "      <td>NaN</td>\n",
       "      <td>NaN</td>\n",
       "    </tr>\n",
       "    <tr>\n",
       "      <th>...</th>\n",
       "      <td>...</td>\n",
       "      <td>...</td>\n",
       "      <td>...</td>\n",
       "      <td>...</td>\n",
       "      <td>...</td>\n",
       "      <td>...</td>\n",
       "      <td>...</td>\n",
       "      <td>...</td>\n",
       "      <td>...</td>\n",
       "      <td>...</td>\n",
       "      <td>...</td>\n",
       "      <td>...</td>\n",
       "      <td>...</td>\n",
       "      <td>...</td>\n",
       "      <td>...</td>\n",
       "      <td>...</td>\n",
       "      <td>...</td>\n",
       "      <td>...</td>\n",
       "      <td>...</td>\n",
       "      <td>...</td>\n",
       "      <td>...</td>\n",
       "    </tr>\n",
       "    <tr>\n",
       "      <th>6203</th>\n",
       "      <td>Zimbabwe</td>\n",
       "      <td>2016</td>\n",
       "      <td>11.946</td>\n",
       "      <td>9.996</td>\n",
       "      <td>10.735</td>\n",
       "      <td>12.848</td>\n",
       "      <td>14.672</td>\n",
       "      <td>17.116</td>\n",
       "      <td>17.454</td>\n",
       "      <td>17.870</td>\n",
       "      <td>...</td>\n",
       "      <td>3.829</td>\n",
       "      <td>2.061</td>\n",
       "      <td>7.557</td>\n",
       "      <td>13.747</td>\n",
       "      <td>19.497</td>\n",
       "      <td>13.308</td>\n",
       "      <td>13.874</td>\n",
       "      <td>11.971</td>\n",
       "      <td>7.998</td>\n",
       "      <td>3.394</td>\n",
       "    </tr>\n",
       "    <tr>\n",
       "      <th>6204</th>\n",
       "      <td>Zimbabwe</td>\n",
       "      <td>2017</td>\n",
       "      <td>9.996</td>\n",
       "      <td>10.735</td>\n",
       "      <td>12.848</td>\n",
       "      <td>14.672</td>\n",
       "      <td>17.116</td>\n",
       "      <td>17.454</td>\n",
       "      <td>17.870</td>\n",
       "      <td>18.190</td>\n",
       "      <td>...</td>\n",
       "      <td>2.061</td>\n",
       "      <td>7.557</td>\n",
       "      <td>13.747</td>\n",
       "      <td>19.497</td>\n",
       "      <td>13.308</td>\n",
       "      <td>13.874</td>\n",
       "      <td>11.971</td>\n",
       "      <td>7.998</td>\n",
       "      <td>3.394</td>\n",
       "      <td>1.230</td>\n",
       "    </tr>\n",
       "    <tr>\n",
       "      <th>6205</th>\n",
       "      <td>Zimbabwe</td>\n",
       "      <td>2018</td>\n",
       "      <td>10.735</td>\n",
       "      <td>12.848</td>\n",
       "      <td>14.672</td>\n",
       "      <td>17.116</td>\n",
       "      <td>17.454</td>\n",
       "      <td>17.870</td>\n",
       "      <td>18.190</td>\n",
       "      <td>18.279</td>\n",
       "      <td>...</td>\n",
       "      <td>7.557</td>\n",
       "      <td>13.747</td>\n",
       "      <td>19.497</td>\n",
       "      <td>13.308</td>\n",
       "      <td>13.874</td>\n",
       "      <td>11.971</td>\n",
       "      <td>7.998</td>\n",
       "      <td>3.394</td>\n",
       "      <td>1.230</td>\n",
       "      <td>NaN</td>\n",
       "    </tr>\n",
       "    <tr>\n",
       "      <th>6206</th>\n",
       "      <td>Zimbabwe</td>\n",
       "      <td>2019</td>\n",
       "      <td>12.848</td>\n",
       "      <td>14.672</td>\n",
       "      <td>17.116</td>\n",
       "      <td>17.454</td>\n",
       "      <td>17.870</td>\n",
       "      <td>18.190</td>\n",
       "      <td>18.279</td>\n",
       "      <td>19.187</td>\n",
       "      <td>...</td>\n",
       "      <td>13.747</td>\n",
       "      <td>19.497</td>\n",
       "      <td>13.308</td>\n",
       "      <td>13.874</td>\n",
       "      <td>11.971</td>\n",
       "      <td>7.998</td>\n",
       "      <td>3.394</td>\n",
       "      <td>1.230</td>\n",
       "      <td>NaN</td>\n",
       "      <td>NaN</td>\n",
       "    </tr>\n",
       "    <tr>\n",
       "      <th>6207</th>\n",
       "      <td>Zimbabwe</td>\n",
       "      <td>2020</td>\n",
       "      <td>14.672</td>\n",
       "      <td>17.116</td>\n",
       "      <td>17.454</td>\n",
       "      <td>17.870</td>\n",
       "      <td>18.190</td>\n",
       "      <td>18.279</td>\n",
       "      <td>19.187</td>\n",
       "      <td>NaN</td>\n",
       "      <td>...</td>\n",
       "      <td>19.497</td>\n",
       "      <td>13.308</td>\n",
       "      <td>13.874</td>\n",
       "      <td>11.971</td>\n",
       "      <td>7.998</td>\n",
       "      <td>3.394</td>\n",
       "      <td>1.230</td>\n",
       "      <td>NaN</td>\n",
       "      <td>NaN</td>\n",
       "      <td>NaN</td>\n",
       "    </tr>\n",
       "  </tbody>\n",
       "</table>\n",
       "<p>6208 rows × 212 columns</p>\n",
       "</div>"
      ],
      "text/plain": [
       "          Country  End Year  NGDP_R-0  NGDP_R-1  NGDP_R-2  NGDP_R-3  NGDP_R-4  \\\n",
       "0     Afghanistan      1989       NaN       NaN       NaN       NaN       NaN   \n",
       "1     Afghanistan      1990       NaN       NaN       NaN       NaN       NaN   \n",
       "2     Afghanistan      1991       NaN       NaN       NaN       NaN       NaN   \n",
       "3     Afghanistan      1992       NaN       NaN       NaN       NaN       NaN   \n",
       "4     Afghanistan      1993       NaN       NaN       NaN       NaN       NaN   \n",
       "...           ...       ...       ...       ...       ...       ...       ...   \n",
       "6203     Zimbabwe      2016    11.946     9.996    10.735    12.848    14.672   \n",
       "6204     Zimbabwe      2017     9.996    10.735    12.848    14.672    17.116   \n",
       "6205     Zimbabwe      2018    10.735    12.848    14.672    17.116    17.454   \n",
       "6206     Zimbabwe      2019    12.848    14.672    17.116    17.454    17.870   \n",
       "6207     Zimbabwe      2020    14.672    17.116    17.454    17.870    18.190   \n",
       "\n",
       "      NGDP_R-5  NGDP_R-6  NGDP_R-7  ...  BCA_NGDPD-0  BCA_NGDPD-1  \\\n",
       "0          NaN       NaN       NaN  ...          NaN          NaN   \n",
       "1          NaN       NaN       NaN  ...          NaN          NaN   \n",
       "2          NaN       NaN       NaN  ...          NaN          NaN   \n",
       "3          NaN       NaN       NaN  ...          NaN          NaN   \n",
       "4          NaN       NaN       NaN  ...          NaN          NaN   \n",
       "...        ...       ...       ...  ...          ...          ...   \n",
       "6203    17.116    17.454    17.870  ...        3.829        2.061   \n",
       "6204    17.454    17.870    18.190  ...        2.061        7.557   \n",
       "6205    17.870    18.190    18.279  ...        7.557       13.747   \n",
       "6206    18.190    18.279    19.187  ...       13.747       19.497   \n",
       "6207    18.279    19.187       NaN  ...       19.497       13.308   \n",
       "\n",
       "      BCA_NGDPD-2  BCA_NGDPD-3  BCA_NGDPD-4  BCA_NGDPD-5  BCA_NGDPD-6  \\\n",
       "0             NaN          NaN          NaN          NaN          NaN   \n",
       "1             NaN          NaN          NaN          NaN          NaN   \n",
       "2             NaN          NaN          NaN          NaN          NaN   \n",
       "3             NaN          NaN          NaN          NaN          NaN   \n",
       "4             NaN          NaN          NaN          NaN          NaN   \n",
       "...           ...          ...          ...          ...          ...   \n",
       "6203        7.557       13.747       19.497       13.308       13.874   \n",
       "6204       13.747       19.497       13.308       13.874       11.971   \n",
       "6205       19.497       13.308       13.874       11.971        7.998   \n",
       "6206       13.308       13.874       11.971        7.998        3.394   \n",
       "6207       13.874       11.971        7.998        3.394        1.230   \n",
       "\n",
       "      BCA_NGDPD-7  BCA_NGDPD-8  BCA_NGDPD-9  \n",
       "0             NaN          NaN          NaN  \n",
       "1             NaN          NaN          NaN  \n",
       "2             NaN          NaN          NaN  \n",
       "3             NaN          NaN          NaN  \n",
       "4             NaN          NaN          NaN  \n",
       "...           ...          ...          ...  \n",
       "6203       11.971        7.998        3.394  \n",
       "6204        7.998        3.394        1.230  \n",
       "6205        3.394        1.230          NaN  \n",
       "6206        1.230          NaN          NaN  \n",
       "6207          NaN          NaN          NaN  \n",
       "\n",
       "[6208 rows x 212 columns]"
      ]
     },
     "execution_count": 111,
     "metadata": {},
     "output_type": "execute_result"
    }
   ],
   "source": [
    "timeSeries"
   ]
  },
  {
   "cell_type": "markdown",
   "id": "extensive-supplement",
   "metadata": {},
   "source": [
    "### Split inputs and labels\n",
    "\n",
    "Then, from the above time series, we gather our features and labels. \n",
    "\n",
    "From each row, we take the columns {code}-{year} where code is in inputParams and year is < inputWidth and place them in our input dataframe.\n",
    "Then, we take take the columns {code}-{year} where code is in inputParams and year is >= inputWidth and place them in our input dataframe."
   ]
  },
  {
   "cell_type": "markdown",
   "id": "proper-loading",
   "metadata": {
    "scrolled": false
   },
   "source": [
    "performance[\"linear\"] = linear.evaluate(testDataset, verbose=0)[1]\n",
    "print(\"Mean absolute error (test): \" + str(performance[\"linear\"]))\n",
    "\n",
    "timeSeries = data_to_time_series(normalizedData[(data[\"Country\"] == \"United States\")], width, startYear, endYear)\n",
    "inputs, labels = feature_label_split_time_series(\n",
    "        timeSeries, inputWidth, labelWidth, inputParams, labelParams)\n",
    "usDataset = time_series_to_tf_dataset(inputs, labels, inputWidth, labelWidth).batch(1)\n",
    "predictions=np.ndarray((len(usDataset), labelWidth, len(labelParams)))\n",
    "print(predictions.shape)\n",
    "for i, tensor in enumerate(iter(usDataset)):\n",
    "    predictions[i] = (linear(tensor[0]).numpy())\n",
    "print(len(predictions))\n",
    "plot(data, inputWidth=inputWidth, labelWidth=labelWidth, predictions=predictions, countries=[\"United States\"], codes=labelParams)"
   ]
  },
  {
   "cell_type": "code",
   "execution_count": null,
   "id": "environmental-occasion",
   "metadata": {},
   "outputs": [],
   "source": []
  },
  {
   "cell_type": "code",
   "execution_count": 112,
   "id": "becoming-dinner",
   "metadata": {},
   "outputs": [],
   "source": [
    "inputs, labels = feature_label_split_time_series(\n",
    "        timeSeries, inputWidth, labelWidth, inputParams, labelParams)\n",
    "normalizedInputs, normalizedLabels = feature_label_split_time_series(\n",
    "        normalizedTimeSeries, inputWidth, labelWidth, inputParams, labelParams)"
   ]
  },
  {
   "cell_type": "code",
   "execution_count": 113,
   "id": "statistical-equation",
   "metadata": {
    "scrolled": true
   },
   "outputs": [
    {
     "data": {
      "text/html": [
       "<div>\n",
       "<style scoped>\n",
       "    .dataframe tbody tr th:only-of-type {\n",
       "        vertical-align: middle;\n",
       "    }\n",
       "\n",
       "    .dataframe tbody tr th {\n",
       "        vertical-align: top;\n",
       "    }\n",
       "\n",
       "    .dataframe thead th {\n",
       "        text-align: right;\n",
       "    }\n",
       "</style>\n",
       "<table border=\"1\" class=\"dataframe\">\n",
       "  <thead>\n",
       "    <tr style=\"text-align: right;\">\n",
       "      <th></th>\n",
       "      <th>PPPGDP-0</th>\n",
       "      <th>PPPGDP-1</th>\n",
       "      <th>PPPGDP-2</th>\n",
       "      <th>PPPGDP-3</th>\n",
       "      <th>PPPGDP-4</th>\n",
       "      <th>PPPGDP-5</th>\n",
       "      <th>PPPGDP-6</th>\n",
       "      <th>PPPGDP-7</th>\n",
       "      <th>PPPGDP-8</th>\n",
       "    </tr>\n",
       "  </thead>\n",
       "  <tbody>\n",
       "    <tr>\n",
       "      <th>22</th>\n",
       "      <td>19.661</td>\n",
       "      <td>21.792</td>\n",
       "      <td>22.527</td>\n",
       "      <td>25.982</td>\n",
       "      <td>28.220</td>\n",
       "      <td>32.848</td>\n",
       "      <td>34.772</td>\n",
       "      <td>42.198</td>\n",
       "      <td>46.309</td>\n",
       "    </tr>\n",
       "    <tr>\n",
       "      <th>23</th>\n",
       "      <td>21.792</td>\n",
       "      <td>22.527</td>\n",
       "      <td>25.982</td>\n",
       "      <td>28.220</td>\n",
       "      <td>32.848</td>\n",
       "      <td>34.772</td>\n",
       "      <td>42.198</td>\n",
       "      <td>46.309</td>\n",
       "      <td>50.334</td>\n",
       "    </tr>\n",
       "    <tr>\n",
       "      <th>24</th>\n",
       "      <td>22.527</td>\n",
       "      <td>25.982</td>\n",
       "      <td>28.220</td>\n",
       "      <td>32.848</td>\n",
       "      <td>34.772</td>\n",
       "      <td>42.198</td>\n",
       "      <td>46.309</td>\n",
       "      <td>50.334</td>\n",
       "      <td>59.945</td>\n",
       "    </tr>\n",
       "    <tr>\n",
       "      <th>25</th>\n",
       "      <td>25.982</td>\n",
       "      <td>28.220</td>\n",
       "      <td>32.848</td>\n",
       "      <td>34.772</td>\n",
       "      <td>42.198</td>\n",
       "      <td>46.309</td>\n",
       "      <td>50.334</td>\n",
       "      <td>59.945</td>\n",
       "      <td>63.784</td>\n",
       "    </tr>\n",
       "    <tr>\n",
       "      <th>26</th>\n",
       "      <td>28.220</td>\n",
       "      <td>32.848</td>\n",
       "      <td>34.772</td>\n",
       "      <td>42.198</td>\n",
       "      <td>46.309</td>\n",
       "      <td>50.334</td>\n",
       "      <td>59.945</td>\n",
       "      <td>63.784</td>\n",
       "      <td>69.444</td>\n",
       "    </tr>\n",
       "    <tr>\n",
       "      <th>...</th>\n",
       "      <td>...</td>\n",
       "      <td>...</td>\n",
       "      <td>...</td>\n",
       "      <td>...</td>\n",
       "      <td>...</td>\n",
       "      <td>...</td>\n",
       "      <td>...</td>\n",
       "      <td>...</td>\n",
       "      <td>...</td>\n",
       "    </tr>\n",
       "    <tr>\n",
       "      <th>6200</th>\n",
       "      <td>22.110</td>\n",
       "      <td>21.113</td>\n",
       "      <td>20.990</td>\n",
       "      <td>20.824</td>\n",
       "      <td>17.759</td>\n",
       "      <td>19.195</td>\n",
       "      <td>23.249</td>\n",
       "      <td>27.102</td>\n",
       "      <td>31.161</td>\n",
       "    </tr>\n",
       "    <tr>\n",
       "      <th>6201</th>\n",
       "      <td>21.113</td>\n",
       "      <td>20.990</td>\n",
       "      <td>20.824</td>\n",
       "      <td>17.759</td>\n",
       "      <td>19.195</td>\n",
       "      <td>23.249</td>\n",
       "      <td>27.102</td>\n",
       "      <td>31.161</td>\n",
       "      <td>34.187</td>\n",
       "    </tr>\n",
       "    <tr>\n",
       "      <th>6202</th>\n",
       "      <td>20.990</td>\n",
       "      <td>20.824</td>\n",
       "      <td>17.759</td>\n",
       "      <td>19.195</td>\n",
       "      <td>23.249</td>\n",
       "      <td>27.102</td>\n",
       "      <td>31.161</td>\n",
       "      <td>34.187</td>\n",
       "      <td>35.496</td>\n",
       "    </tr>\n",
       "    <tr>\n",
       "      <th>6203</th>\n",
       "      <td>20.824</td>\n",
       "      <td>17.759</td>\n",
       "      <td>19.195</td>\n",
       "      <td>23.249</td>\n",
       "      <td>27.102</td>\n",
       "      <td>31.161</td>\n",
       "      <td>34.187</td>\n",
       "      <td>35.496</td>\n",
       "      <td>37.016</td>\n",
       "    </tr>\n",
       "    <tr>\n",
       "      <th>6204</th>\n",
       "      <td>17.759</td>\n",
       "      <td>19.195</td>\n",
       "      <td>23.249</td>\n",
       "      <td>27.102</td>\n",
       "      <td>31.161</td>\n",
       "      <td>34.187</td>\n",
       "      <td>35.496</td>\n",
       "      <td>37.016</td>\n",
       "      <td>37.953</td>\n",
       "    </tr>\n",
       "  </tbody>\n",
       "</table>\n",
       "<p>4982 rows × 9 columns</p>\n",
       "</div>"
      ],
      "text/plain": [
       "      PPPGDP-0  PPPGDP-1  PPPGDP-2  PPPGDP-3  PPPGDP-4  PPPGDP-5  PPPGDP-6  \\\n",
       "22      19.661    21.792    22.527    25.982    28.220    32.848    34.772   \n",
       "23      21.792    22.527    25.982    28.220    32.848    34.772    42.198   \n",
       "24      22.527    25.982    28.220    32.848    34.772    42.198    46.309   \n",
       "25      25.982    28.220    32.848    34.772    42.198    46.309    50.334   \n",
       "26      28.220    32.848    34.772    42.198    46.309    50.334    59.945   \n",
       "...        ...       ...       ...       ...       ...       ...       ...   \n",
       "6200    22.110    21.113    20.990    20.824    17.759    19.195    23.249   \n",
       "6201    21.113    20.990    20.824    17.759    19.195    23.249    27.102   \n",
       "6202    20.990    20.824    17.759    19.195    23.249    27.102    31.161   \n",
       "6203    20.824    17.759    19.195    23.249    27.102    31.161    34.187   \n",
       "6204    17.759    19.195    23.249    27.102    31.161    34.187    35.496   \n",
       "\n",
       "      PPPGDP-7  PPPGDP-8  \n",
       "22      42.198    46.309  \n",
       "23      46.309    50.334  \n",
       "24      50.334    59.945  \n",
       "25      59.945    63.784  \n",
       "26      63.784    69.444  \n",
       "...        ...       ...  \n",
       "6200    27.102    31.161  \n",
       "6201    31.161    34.187  \n",
       "6202    34.187    35.496  \n",
       "6203    35.496    37.016  \n",
       "6204    37.016    37.953  \n",
       "\n",
       "[4982 rows x 9 columns]"
      ]
     },
     "execution_count": 113,
     "metadata": {},
     "output_type": "execute_result"
    }
   ],
   "source": [
    "inputs"
   ]
  },
  {
   "cell_type": "code",
   "execution_count": 114,
   "id": "increased-maintenance",
   "metadata": {
    "scrolled": true
   },
   "outputs": [
    {
     "data": {
      "text/html": [
       "<div>\n",
       "<style scoped>\n",
       "    .dataframe tbody tr th:only-of-type {\n",
       "        vertical-align: middle;\n",
       "    }\n",
       "\n",
       "    .dataframe tbody tr th {\n",
       "        vertical-align: top;\n",
       "    }\n",
       "\n",
       "    .dataframe thead th {\n",
       "        text-align: right;\n",
       "    }\n",
       "</style>\n",
       "<table border=\"1\" class=\"dataframe\">\n",
       "  <thead>\n",
       "    <tr style=\"text-align: right;\">\n",
       "      <th></th>\n",
       "      <th>PPPGDP-9</th>\n",
       "    </tr>\n",
       "  </thead>\n",
       "  <tbody>\n",
       "    <tr>\n",
       "      <th>22</th>\n",
       "      <td>50.334</td>\n",
       "    </tr>\n",
       "    <tr>\n",
       "      <th>23</th>\n",
       "      <td>59.945</td>\n",
       "    </tr>\n",
       "    <tr>\n",
       "      <th>24</th>\n",
       "      <td>63.784</td>\n",
       "    </tr>\n",
       "    <tr>\n",
       "      <th>25</th>\n",
       "      <td>69.444</td>\n",
       "    </tr>\n",
       "    <tr>\n",
       "      <th>26</th>\n",
       "      <td>72.056</td>\n",
       "    </tr>\n",
       "    <tr>\n",
       "      <th>...</th>\n",
       "      <td>...</td>\n",
       "    </tr>\n",
       "    <tr>\n",
       "      <th>6200</th>\n",
       "      <td>34.187</td>\n",
       "    </tr>\n",
       "    <tr>\n",
       "      <th>6201</th>\n",
       "      <td>35.496</td>\n",
       "    </tr>\n",
       "    <tr>\n",
       "      <th>6202</th>\n",
       "      <td>37.016</td>\n",
       "    </tr>\n",
       "    <tr>\n",
       "      <th>6203</th>\n",
       "      <td>37.953</td>\n",
       "    </tr>\n",
       "    <tr>\n",
       "      <th>6204</th>\n",
       "      <td>34.396</td>\n",
       "    </tr>\n",
       "  </tbody>\n",
       "</table>\n",
       "<p>4982 rows × 1 columns</p>\n",
       "</div>"
      ],
      "text/plain": [
       "      PPPGDP-9\n",
       "22      50.334\n",
       "23      59.945\n",
       "24      63.784\n",
       "25      69.444\n",
       "26      72.056\n",
       "...        ...\n",
       "6200    34.187\n",
       "6201    35.496\n",
       "6202    37.016\n",
       "6203    37.953\n",
       "6204    34.396\n",
       "\n",
       "[4982 rows x 1 columns]"
      ]
     },
     "execution_count": 114,
     "metadata": {},
     "output_type": "execute_result"
    }
   ],
   "source": [
    "labels"
   ]
  },
  {
   "cell_type": "markdown",
   "id": "european-substitute",
   "metadata": {},
   "source": [
    "### Create tf dataset\n",
    "\n",
    "We then create a tf dataset of the form\n",
    "(input, label)\n",
    "where input and label both have shape (time, parameter)"
   ]
  },
  {
   "cell_type": "code",
   "execution_count": 115,
   "id": "leading-carter",
   "metadata": {},
   "outputs": [],
   "source": [
    "dataset = time_series_to_tf_dataset(normalizedInputs, labels, inputWidth, labelWidth)"
   ]
  },
  {
   "cell_type": "code",
   "execution_count": 116,
   "id": "federal-argentina",
   "metadata": {},
   "outputs": [
    {
     "data": {
      "text/plain": [
       "<ZipDataset shapes: ((9, 1), (1, 1)), types: (tf.float64, tf.float64)>"
      ]
     },
     "execution_count": 116,
     "metadata": {},
     "output_type": "execute_result"
    }
   ],
   "source": [
    "dataset"
   ]
  },
  {
   "cell_type": "markdown",
   "id": "perceived-reasoning",
   "metadata": {},
   "source": [
    "### Split dataset into train, validate, and test"
   ]
  },
  {
   "cell_type": "code",
   "execution_count": 117,
   "id": "exciting-administrator",
   "metadata": {
    "scrolled": true
   },
   "outputs": [],
   "source": [
    "trainDataset, valDataset, testDataset = \\\n",
    "        train_validate_test_split(dataset, trainSplit, valSplit, testSplit, shuffle)"
   ]
  },
  {
   "cell_type": "markdown",
   "id": "comfortable-address",
   "metadata": {},
   "source": [
    "# Models\n",
    "First we create a generic compile and fit function for any of our models using MeanSquaredError as our loss."
   ]
  },
  {
   "cell_type": "code",
   "execution_count": 118,
   "id": "manual-communications",
   "metadata": {},
   "outputs": [],
   "source": [
    "MAX_EPOCHS = 100\n",
    "\n",
    "def compile_and_fit(model, train_ds, val_ds, patience=4):\n",
    "  early_stopping = tf.keras.callbacks.EarlyStopping(monitor='val_loss',\n",
    "                                                    patience=patience,\n",
    "                                                    mode='min')\n",
    "\n",
    "  model.compile(loss=tf.losses.MeanSquaredError(),\n",
    "                optimizer=tf.optimizers.Adam(),\n",
    "                metrics=[tf.metrics.MeanAbsoluteError()])\n",
    "\n",
    "  history = model.fit(train_ds, epochs=MAX_EPOCHS,\n",
    "                      validation_data=val_ds,\n",
    "                     callbacks=[early_stopping])optimizer=rmsprop \n",
    "  return history"
   ]
  },
  {
   "cell_type": "markdown",
   "id": "bridal-address",
   "metadata": {},
   "source": [
    "## Single Step / Single Label"
   ]
  },
  {
   "cell_type": "code",
   "execution_count": 119,
   "id": "improving-appeal",
   "metadata": {},
   "outputs": [],
   "source": [
    "performance = {}"
   ]
  },
  {
   "cell_type": "markdown",
   "id": "continuous-opposition",
   "metadata": {},
   "source": [
    "### Linear"
   ]
  },
  {
   "cell_type": "code",
   "execution_count": 120,
   "id": "married-directive",
   "metadata": {
    "scrolled": true
   },
   "outputs": [
    {
     "name": "stdout",
     "output_type": "stream",
     "text": [
      "Epoch 1/100\n",
      "11955/11955 [==============================] - 11s 870us/step - loss: 2388961.5000 - mean_absolute_error: 420.0892 - val_loss: 2212692.5000 - val_mean_absolute_error: 434.4649\n",
      "Epoch 2/100\n",
      "11955/11955 [==============================] - 10s 864us/step - loss: 2335034.7500 - mean_absolute_error: 410.0103 - val_loss: 2664121.2500 - val_mean_absolute_error: 431.7945\n",
      "Epoch 3/100\n",
      "11955/11955 [==============================] - 10s 857us/step - loss: 2303815.7500 - mean_absolute_error: 413.6470 - val_loss: 2214386.2500 - val_mean_absolute_error: 415.5681\n",
      "Epoch 4/100\n",
      "11955/11955 [==============================] - 10s 850us/step - loss: 2543456.2500 - mean_absolute_error: 426.2147 - val_loss: 2004789.7500 - val_mean_absolute_error: 386.8702\n",
      "Epoch 5/100\n",
      "11955/11955 [==============================] - 10s 855us/step - loss: 2366584.7500 - mean_absolute_error: 417.1051 - val_loss: 2384525.2500 - val_mean_absolute_error: 403.2966\n",
      "Epoch 6/100\n",
      "11955/11955 [==============================] - 10s 855us/step - loss: 2389928.5000 - mean_absolute_error: 412.5371 - val_loss: 2665032.2500 - val_mean_absolute_error: 433.6165\n",
      "Epoch 7/100\n",
      "11955/11955 [==============================] - 10s 857us/step - loss: 2359328.0000 - mean_absolute_error: 411.3608 - val_loss: 1626525.6250 - val_mean_absolute_error: 358.9158\n",
      "Epoch 8/100\n",
      "11955/11955 [==============================] - 10s 868us/step - loss: 2160212.0000 - mean_absolute_error: 398.6061 - val_loss: 2494111.7500 - val_mean_absolute_error: 421.4351\n",
      "Epoch 9/100\n",
      "11955/11955 [==============================] - 10s 868us/step - loss: 2122505.5000 - mean_absolute_error: 396.3933 - val_loss: 1851353.2500 - val_mean_absolute_error: 382.5244\n",
      "Epoch 10/100\n",
      "11955/11955 [==============================] - 10s 861us/step - loss: 2057381.0000 - mean_absolute_error: 391.6436 - val_loss: 1711683.1250 - val_mean_absolute_error: 346.1930\n",
      "Epoch 11/100\n",
      "11955/11955 [==============================] - 10s 858us/step - loss: 2037520.3750 - mean_absolute_error: 384.4709 - val_loss: 1960357.1250 - val_mean_absolute_error: 403.2594\n"
     ]
    }
   ],
   "source": [
    "linear = tf.keras.Sequential([\n",
    "    tf.keras.layers.Flatten(),\n",
    "    tf.keras.layers.Dense(units=labelWidth*len(labelParams)),\n",
    "    tf.keras.layers.Reshape([labelWidth, -1])\n",
    "])\n",
    "\n",
    "history = compile_and_fit(linear, trainDataset, valDataset)"
   ]
  },
  {
   "cell_type": "code",
   "execution_count": 121,
   "id": "atmospheric-bride",
   "metadata": {
    "scrolled": true
   },
   "outputs": [
    {
     "name": "stdout",
     "output_type": "stream",
     "text": [
      "Model: \"sequential_13\"\n",
      "_________________________________________________________________\n",
      " Layer (type)                Output Shape              Param #   \n",
      "=================================================================\n",
      " flatten_11 (Flatten)        (None, 9)                 0         \n",
      "                                                                 \n",
      " dense_22 (Dense)            (None, 1)                 10        \n",
      "                                                                 \n",
      " reshape_13 (Reshape)        (None, 1, 1)              0         \n",
      "                                                                 \n",
      "=================================================================\n",
      "Total params: 10\n",
      "Trainable params: 10\n",
      "Non-trainable params: 0\n",
      "_________________________________________________________________\n"
     ]
    }
   ],
   "source": [
    "linear.summary()"
   ]
  },
  {
   "cell_type": "code",
   "execution_count": 186,
   "id": "stainless-fancy",
   "metadata": {},
   "outputs": [
    {
     "name": "stdout",
     "output_type": "stream",
     "text": [
      "Mean absolute error (test): 379.37042236328125\n"
     ]
    },
    {
     "data": {
      "image/png": "[encoded data removed]",
      "text/plain": [
       "<Figure size 864x864 with 1 Axes>"
      ]
     },
     "metadata": {
      "needs_background": "light"
     },
     "output_type": "display_data"
    }
   ],
   "source": [
    "performance[\"Linear\"] = linear.evaluate(testDataset, verbose=0)[1]\n",
    "print(\"Mean absolute error (test): \" + str(performance[\"Linear\"]))\n",
    "\n",
    "timeSeries = data_to_time_series(normalizedData[(data[\"Country\"] == \"United States\")], width, startYear, endYear)\n",
    "inputs, labels = feature_label_split_time_series(\n",
    "        timeSeries, inputWidth, labelWidth, inputParams, labelParams)\n",
    "usDataset = time_series_to_tf_dataset(inputs, labels, inputWidth, labelWidth).batch(1)\n",
    "predictions = linear.predict(usDataset)\n",
    "plot(data, inputWidth=inputWidth, labelWidth=labelWidth, predictions=predictions, countries=[\"United States\"], codes=labelParams)"
   ]
  },
  {
   "cell_type": "markdown",
   "id": "taken-designation",
   "metadata": {},
   "source": [
    "### Single Layer Perceptron"
   ]
  },
  {
   "cell_type": "code",
   "execution_count": 156,
   "id": "given-pixel",
   "metadata": {
    "scrolled": true
   },
   "outputs": [
    {
     "name": "stdout",
     "output_type": "stream",
     "text": [
      "Epoch 1/100\n",
      "11955/11955 [==============================] - 12s 986us/step - loss: 676945.8125 - mean_absolute_error: 152.0944 - val_loss: 20724.0098 - val_mean_absolute_error: 37.9190\n",
      "Epoch 2/100\n",
      "11955/11955 [==============================] - 12s 983us/step - loss: 27507.4844 - mean_absolute_error: 38.7321 - val_loss: 15361.5488 - val_mean_absolute_error: 36.2120\n",
      "Epoch 3/100\n",
      "11955/11955 [==============================] - 12s 992us/step - loss: 21611.5117 - mean_absolute_error: 35.0724 - val_loss: 19098.9922 - val_mean_absolute_error: 34.0978\n",
      "Epoch 4/100\n",
      "11955/11955 [==============================] - 12s 984us/step - loss: 18877.3984 - mean_absolute_error: 30.5853 - val_loss: 15629.2988 - val_mean_absolute_error: 29.5397\n",
      "Epoch 5/100\n",
      "11955/11955 [==============================] - 12s 962us/step - loss: 12709.8955 - mean_absolute_error: 26.2242 - val_loss: 4981.4609 - val_mean_absolute_error: 21.5982\n",
      "Epoch 6/100\n",
      "11955/11955 [==============================] - 12s 981us/step - loss: 9542.8887 - mean_absolute_error: 23.6983 - val_loss: 5886.7236 - val_mean_absolute_error: 20.2836\n",
      "Epoch 7/100\n",
      "11955/11955 [==============================] - 12s 987us/step - loss: 6880.5796 - mean_absolute_error: 21.7466 - val_loss: 7615.4858 - val_mean_absolute_error: 18.8631\n",
      "Epoch 8/100\n",
      "11955/11955 [==============================] - 12s 977us/step - loss: 5758.0186 - mean_absolute_error: 20.9418 - val_loss: 5102.6919 - val_mean_absolute_error: 24.3712\n",
      "Epoch 9/100\n",
      "11955/11955 [==============================] - 12s 989us/step - loss: 5777.5825 - mean_absolute_error: 19.9958 - val_loss: 3637.1982 - val_mean_absolute_error: 17.6829\n",
      "Epoch 10/100\n",
      "11955/11955 [==============================] - 12s 984us/step - loss: 5407.9336 - mean_absolute_error: 19.5574 - val_loss: 2262.6387 - val_mean_absolute_error: 16.1131\n",
      "Epoch 11/100\n",
      "11955/11955 [==============================] - 12s 992us/step - loss: 4762.1499 - mean_absolute_error: 19.5648 - val_loss: 3345.1135 - val_mean_absolute_error: 16.5936\n",
      "Epoch 12/100\n",
      "11955/11955 [==============================] - 12s 980us/step - loss: 5359.9849 - mean_absolute_error: 19.0332 - val_loss: 1660.8813 - val_mean_absolute_error: 13.2692\n",
      "Epoch 13/100\n",
      "11955/11955 [==============================] - 12s 989us/step - loss: 5637.1636 - mean_absolute_error: 19.8842 - val_loss: 5232.7002 - val_mean_absolute_error: 20.5671\n",
      "Epoch 14/100\n",
      "11955/11955 [==============================] - 12s 990us/step - loss: 4979.0396 - mean_absolute_error: 19.4256 - val_loss: 4291.0059 - val_mean_absolute_error: 16.7342\n",
      "Epoch 15/100\n",
      "11955/11955 [==============================] - 12s 975us/step - loss: 4833.1455 - mean_absolute_error: 19.2568 - val_loss: 21890.6484 - val_mean_absolute_error: 39.5973\n",
      "Epoch 16/100\n",
      "11955/11955 [==============================] - 12s 984us/step - loss: 5384.0581 - mean_absolute_error: 19.8475 - val_loss: 2677.9895 - val_mean_absolute_error: 15.0159\n"
     ]
    }
   ],
   "source": [
    "single = tf.keras.Sequential([\n",
    "    tf.keras.layers.Flatten(),\n",
    "    tf.keras.layers.Dense(units=512, activation='relu'),\n",
    "    tf.keras.layers.Dense(units=labelWidth*len(labelParams)),\n",
    "    tf.keras.layers.Reshape([labelWidth, -1])\n",
    "])\n",
    "\n",
    "history = compile_and_fit(single, trainDataset, valDataset)"
   ]
  },
  {
   "cell_type": "code",
   "execution_count": 158,
   "id": "upset-tiffany",
   "metadata": {
    "scrolled": true
   },
   "outputs": [
    {
     "name": "stdout",
     "output_type": "stream",
     "text": [
      "Model: \"sequential_20\"\n",
      "_________________________________________________________________\n",
      " Layer (type)                Output Shape              Param #   \n",
      "=================================================================\n",
      " flatten_17 (Flatten)        (None, 9)                 0         \n",
      "                                                                 \n",
      " dense_35 (Dense)            (None, 512)               5120      \n",
      "                                                                 \n",
      " dense_36 (Dense)            (None, 1)                 513       \n",
      "                                                                 \n",
      " reshape_20 (Reshape)        (None, 1, 1)              0         \n",
      "                                                                 \n",
      "=================================================================\n",
      "Total params: 5,633\n",
      "Trainable params: 5,633\n",
      "Non-trainable params: 0\n",
      "_________________________________________________________________\n"
     ]
    }
   ],
   "source": [
    "single.summary()"
   ]
  },
  {
   "cell_type": "code",
   "execution_count": 185,
   "id": "interracial-reverse",
   "metadata": {},
   "outputs": [
    {
     "name": "stdout",
     "output_type": "stream",
     "text": [
      "Mean absolute error (test): 15.996286392211914\n"
     ]
    },
    {
     "data": {
      "image/png": "[encoded data removed]",
      "text/plain": [
       "<Figure size 864x864 with 1 Axes>"
      ]
     },
     "metadata": {
      "needs_background": "light"
     },
     "output_type": "display_data"
    }
   ],
   "source": [
    "performance[\"Singlelayer Perceptron\"] = single.evaluate(testDataset, verbose=0)[1]\n",
    "print(\"Mean absolute error (test): \" + str(performance[\"Singlelayer Perceptron\"]))\n",
    "\n",
    "timeSeries = data_to_time_series(normalizedData[(data[\"Country\"] == \"United States\")], width, startYear, endYear)\n",
    "inputs, labels = feature_label_split_time_series(\n",
    "        timeSeries, inputWidth, labelWidth, inputParams, labelParams)\n",
    "usDataset = time_series_to_tf_dataset(inputs, labels, inputWidth, labelWidth).batch(1)\n",
    "predictions = single.predict(usDataset)\n",
    "plot(data, inputWidth=inputWidth, labelWidth=labelWidth, predictions=predictions, countries=[\"United States\"], codes=labelParams)"
   ]
  },
  {
   "cell_type": "markdown",
   "id": "automatic-macintosh",
   "metadata": {},
   "source": [
    "### Multi Layer Perceptron"
   ]
  },
  {
   "cell_type": "code",
   "execution_count": 160,
   "id": "therapeutic-living",
   "metadata": {
    "scrolled": true
   },
   "outputs": [
    {
     "name": "stdout",
     "output_type": "stream",
     "text": [
      "Epoch 1/100\n",
      "11955/11955 [==============================] - 14s 1ms/step - loss: 167052.3594 - mean_absolute_error: 66.7170 - val_loss: 135558.9219 - val_mean_absolute_error: 89.9321\n",
      "Epoch 2/100\n",
      "11955/11955 [==============================] - 14s 1ms/step - loss: 35474.3906 - mean_absolute_error: 45.7454 - val_loss: 4065.2898 - val_mean_absolute_error: 19.6923\n",
      "Epoch 3/100\n",
      "11955/11955 [==============================] - 14s 1ms/step - loss: 27450.0039 - mean_absolute_error: 37.7881 - val_loss: 15463.8438 - val_mean_absolute_error: 29.0566\n",
      "Epoch 4/100\n",
      "11955/11955 [==============================] - 14s 1ms/step - loss: 29886.6465 - mean_absolute_error: 35.9637 - val_loss: 6647.9995 - val_mean_absolute_error: 21.0876\n",
      "Epoch 5/100\n",
      "11955/11955 [==============================] - 14s 1ms/step - loss: 28119.1973 - mean_absolute_error: 36.8014 - val_loss: 9648.7510 - val_mean_absolute_error: 26.5447\n",
      "Epoch 6/100\n",
      "11955/11955 [==============================] - 14s 1ms/step - loss: 21109.5137 - mean_absolute_error: 35.8713 - val_loss: 5524.8960 - val_mean_absolute_error: 20.3202\n"
     ]
    }
   ],
   "source": [
    "dense = tf.keras.Sequential([\n",
    "    tf.keras.layers.Flatten(),\n",
    "    tf.keras.layers.Dense(units=512, activation='relu'),\n",
    "    tf.keras.layers.Dense(units=512, activation='relu'),\n",
    "    tf.keras.layers.Dense(units=labelWidth*len(labelParams)),\n",
    "    tf.keras.layers.Reshape([labelWidth, -1])\n",
    "])\n",
    "\n",
    "history = compile_and_fit(dense, trainDataset, valDataset)"
   ]
  },
  {
   "cell_type": "code",
   "execution_count": 161,
   "id": "induced-filling",
   "metadata": {},
   "outputs": [
    {
     "name": "stdout",
     "output_type": "stream",
     "text": [
      "Model: \"sequential_21\"\n",
      "_________________________________________________________________\n",
      " Layer (type)                Output Shape              Param #   \n",
      "=================================================================\n",
      " flatten_18 (Flatten)        (None, 9)                 0         \n",
      "                                                                 \n",
      " dense_37 (Dense)            (None, 512)               5120      \n",
      "                                                                 \n",
      " dense_38 (Dense)            (None, 512)               262656    \n",
      "                                                                 \n",
      " dense_39 (Dense)            (None, 1)                 513       \n",
      "                                                                 \n",
      " reshape_21 (Reshape)        (None, 1, 1)              0         \n",
      "                                                                 \n",
      "=================================================================\n",
      "Total params: 268,289\n",
      "Trainable params: 268,289\n",
      "Non-trainable params: 0\n",
      "_________________________________________________________________\n"
     ]
    }
   ],
   "source": [
    "dense.summary()"
   ]
  },
  {
   "cell_type": "code",
   "execution_count": 183,
   "id": "unusual-appendix",
   "metadata": {},
   "outputs": [
    {
     "name": "stdout",
     "output_type": "stream",
     "text": [
      "Mean absolute error (test): 19.735973358154297\n"
     ]
    },
    {
     "data": {
      "image/png": "[encoded data removed]",
      "text/plain": [
       "<Figure size 864x864 with 1 Axes>"
      ]
     },
     "metadata": {
      "needs_background": "light"
     },
     "output_type": "display_data"
    }
   ],
   "source": [
    "performance[\"Multilayer Perceptron\"] = dense.evaluate(testDataset, verbose=0)[1]\n",
    "print(\"Mean absolute error (test): \" + str(performance[\"Multilayer Perceptron\"]))\n",
    "\n",
    "timeSeries = data_to_time_series(normalizedData[(data[\"Country\"] == \"United States\")], width, startYear, endYear)\n",
    "inputs, labels = feature_label_split_time_series(\n",
    "        timeSeries, inputWidth, labelWidth, inputParams, labelParams)\n",
    "usDataset = time_series_to_tf_dataset(inputs, labels, inputWidth, labelWidth).batch(1)\n",
    "predictions = dense.predict(usDataset)\n",
    "plot(data, inputWidth=inputWidth, labelWidth=labelWidth, predictions=predictions, countries=[\"United States\"], codes=labelParams)"
   ]
  },
  {
   "cell_type": "markdown",
   "id": "opened-albuquerque",
   "metadata": {},
   "source": [
    "### Convolutional Neural Network Without Pooling"
   ]
  },
  {
   "cell_type": "code",
   "execution_count": 133,
   "id": "golden-essex",
   "metadata": {
    "scrolled": true
   },
   "outputs": [
    {
     "name": "stdout",
     "output_type": "stream",
     "text": [
      "Epoch 1/100\n",
      "11955/11955 [==============================] - 28s 2ms/step - loss: 292284.9375 - mean_absolute_error: 113.5081 - val_loss: 115668.2109 - val_mean_absolute_error: 101.0816\n",
      "Epoch 2/100\n",
      "11955/11955 [==============================] - 28s 2ms/step - loss: 84357.9297 - mean_absolute_error: 75.2918 - val_loss: 38953.4062 - val_mean_absolute_error: 56.5622\n",
      "Epoch 3/100\n",
      "11955/11955 [==============================] - 28s 2ms/step - loss: 152322.5781 - mean_absolute_error: 78.8973 - val_loss: 40759.3203 - val_mean_absolute_error: 48.0491\n",
      "Epoch 4/100\n",
      "11955/11955 [==============================] - 28s 2ms/step - loss: 68595.8047 - mean_absolute_error: 71.7693 - val_loss: 111693.6641 - val_mean_absolute_error: 104.4463\n",
      "Epoch 5/100\n",
      "11955/11955 [==============================] - 28s 2ms/step - loss: 104595.4766 - mean_absolute_error: 77.6718 - val_loss: 18934.9180 - val_mean_absolute_error: 33.5836\n",
      "Epoch 6/100\n",
      "11955/11955 [==============================] - 28s 2ms/step - loss: 87747.0938 - mean_absolute_error: 78.0098 - val_loss: 34681.6719 - val_mean_absolute_error: 47.8821\n",
      "Epoch 7/100\n",
      "11955/11955 [==============================] - 28s 2ms/step - loss: 49634.6328 - mean_absolute_error: 63.9182 - val_loss: 33833.5898 - val_mean_absolute_error: 71.4070\n",
      "Epoch 8/100\n",
      "11955/11955 [==============================] - 28s 2ms/step - loss: 76219.4531 - mean_absolute_error: 70.4150 - val_loss: 73897.3359 - val_mean_absolute_error: 120.1888\n",
      "Epoch 9/100\n",
      "11955/11955 [==============================] - 28s 2ms/step - loss: 51267.8047 - mean_absolute_error: 65.3353 - val_loss: 13534.9531 - val_mean_absolute_error: 37.1159\n",
      "Epoch 10/100\n",
      "11955/11955 [==============================] - 29s 2ms/step - loss: 54948.9648 - mean_absolute_error: 64.4339 - val_loss: 26882.2461 - val_mean_absolute_error: 122.5646\n",
      "Epoch 11/100\n",
      "11955/11955 [==============================] - 30s 2ms/step - loss: 44005.8398 - mean_absolute_error: 55.3355 - val_loss: 23998.1367 - val_mean_absolute_error: 45.6442\n",
      "Epoch 12/100\n",
      "11955/11955 [==============================] - 29s 2ms/step - loss: 40222.4844 - mean_absolute_error: 57.5942 - val_loss: 9021.7979 - val_mean_absolute_error: 24.7798\n",
      "Epoch 13/100\n",
      "11955/11955 [==============================] - 29s 2ms/step - loss: 39974.1172 - mean_absolute_error: 51.8592 - val_loss: 9425.3018 - val_mean_absolute_error: 29.3660\n",
      "Epoch 14/100\n",
      "11955/11955 [==============================] - 30s 2ms/step - loss: 36711.5547 - mean_absolute_error: 50.0241 - val_loss: 40334.6445 - val_mean_absolute_error: 59.3322\n",
      "Epoch 15/100\n",
      "11955/11955 [==============================] - 30s 2ms/step - loss: 37862.8750 - mean_absolute_error: 50.1286 - val_loss: 5301.5571 - val_mean_absolute_error: 21.0367\n",
      "Epoch 16/100\n",
      "11955/11955 [==============================] - 29s 2ms/step - loss: 34007.9180 - mean_absolute_error: 48.6279 - val_loss: 181838.7188 - val_mean_absolute_error: 132.9059\n",
      "Epoch 17/100\n",
      "11955/11955 [==============================] - 30s 2ms/step - loss: 32109.2363 - mean_absolute_error: 46.5563 - val_loss: 19930.2793 - val_mean_absolute_error: 48.6482\n",
      "Epoch 18/100\n",
      "11955/11955 [==============================] - 29s 2ms/step - loss: 25285.2383 - mean_absolute_error: 44.1062 - val_loss: 36563.8555 - val_mean_absolute_error: 67.7815\n",
      "Epoch 19/100\n",
      "11955/11955 [==============================] - 29s 2ms/step - loss: 27947.1719 - mean_absolute_error: 44.6480 - val_loss: 5780.9976 - val_mean_absolute_error: 19.2952\n"
     ]
    }
   ],
   "source": [
    "cnnNoPooling = tf.keras.Sequential([\n",
    "    tf.keras.layers.Conv1D(\n",
    "            filters=256,\n",
    "            kernel_size=(3,),\n",
    "            activation='relu',\n",
    "            input_shape=(inputWidth,len(inputParams))),\n",
    "    tf.keras.layers.Conv1D(\n",
    "            filters=128,\n",
    "            kernel_size=(3,),\n",
    "            activation='relu',\n",
    "            input_shape=(inputWidth,len(inputParams))),\n",
    "        tf.keras.layers.Conv1D(\n",
    "            filters=64,\n",
    "            kernel_size=(3,),\n",
    "            activation='relu',\n",
    "            input_shape=(inputWidth,len(inputParams))),\n",
    "    tf.keras.layers.Flatten(),\n",
    "    tf.keras.layers.Dense(units=256, activation='relu'),\n",
    "    tf.keras.layers.Dense(units=labelWidth*len(labelParams)),\n",
    "    tf.keras.layers.Reshape([labelWidth, -1])\n",
    "])\n",
    "\n",
    "history = compile_and_fit(cnnNoPooling, trainDataset, valDataset)"
   ]
  },
  {
   "cell_type": "code",
   "execution_count": 134,
   "id": "upper-third",
   "metadata": {},
   "outputs": [
    {
     "name": "stdout",
     "output_type": "stream",
     "text": [
      "Model: \"sequential_15\"\n",
      "_________________________________________________________________\n",
      " Layer (type)                Output Shape              Param #   \n",
      "=================================================================\n",
      " conv1d_11 (Conv1D)          (None, 7, 32)             128       \n",
      "                                                                 \n",
      " conv1d_12 (Conv1D)          (None, 5, 64)             6208      \n",
      "                                                                 \n",
      " conv1d_13 (Conv1D)          (None, 3, 128)            24704     \n",
      "                                                                 \n",
      " flatten_13 (Flatten)        (None, 384)               0         \n",
      "                                                                 \n",
      " dense_26 (Dense)            (None, 256)               98560     \n",
      "                                                                 \n",
      " dense_27 (Dense)            (None, 1)                 257       \n",
      "                                                                 \n",
      " reshape_15 (Reshape)        (None, 1, 1)              0         \n",
      "                                                                 \n",
      "=================================================================\n",
      "Total params: 129,857\n",
      "Trainable params: 129,857\n",
      "Non-trainable params: 0\n",
      "_________________________________________________________________\n"
     ]
    }
   ],
   "source": [
    "cnnNoPooling.summary()"
   ]
  },
  {
   "cell_type": "code",
   "execution_count": 182,
   "id": "fresh-repair",
   "metadata": {
    "scrolled": false
   },
   "outputs": [
    {
     "name": "stdout",
     "output_type": "stream",
     "text": [
      "Mean absolute error (test): 20.311906814575195\n"
     ]
    },
    {
     "data": {
      "image/png": "[encoded data removed]",
      "text/plain": [
       "<Figure size 864x864 with 1 Axes>"
      ]
     },
     "metadata": {
      "needs_background": "light"
     },
     "output_type": "display_data"
    }
   ],
   "source": [
    "performance[\"CNN (No Pooling)\"] = cnnNoPooling.evaluate(testDataset, verbose=0)[1]\n",
    "print(\"Mean absolute error (test): \" + str(performance[\"CNN (No Pooling)\"]))\n",
    "\n",
    "timeSeries = data_to_time_series(normalizedData[(data[\"Country\"] == \"United States\")], width, startYear, endYear)\n",
    "inputs, labels = feature_label_split_time_series(\n",
    "        timeSeries, inputWidth, labelWidth, inputParams, labelParams)\n",
    "usDataset = time_series_to_tf_dataset(inputs, labels, inputWidth, labelWidth).batch(1)\n",
    "predictions = cnnNoPooling.predict(usDataset)\n",
    "plot(data, inputWidth=inputWidth, labelWidth=labelWidth, predictions=predictions, countries=[\"United States\"], codes=labelParams)"
   ]
  },
  {
   "cell_type": "markdown",
   "id": "suspended-soviet",
   "metadata": {},
   "source": [
    "### Convolutional Neural Network With Pooling"
   ]
  },
  {
   "cell_type": "code",
   "execution_count": 168,
   "id": "varied-singles",
   "metadata": {
    "scrolled": true
   },
   "outputs": [
    {
     "name": "stdout",
     "output_type": "stream",
     "text": [
      "Epoch 1/100\n",
      "11955/11955 [==============================] - 20s 2ms/step - loss: 117899.6250 - mean_absolute_error: 87.3875 - val_loss: 154184.7656 - val_mean_absolute_error: 97.6098\n",
      "Epoch 2/100\n",
      "11955/11955 [==============================] - 19s 2ms/step - loss: 82789.0312 - mean_absolute_error: 72.3546 - val_loss: 34352.6602 - val_mean_absolute_error: 43.4579\n",
      "Epoch 3/100\n",
      "11955/11955 [==============================] - 19s 2ms/step - loss: 57722.4102 - mean_absolute_error: 60.3570 - val_loss: 32663.2715 - val_mean_absolute_error: 51.0714\n",
      "Epoch 4/100\n",
      "11955/11955 [==============================] - 19s 2ms/step - loss: 50149.1094 - mean_absolute_error: 57.6102 - val_loss: 45611.7266 - val_mean_absolute_error: 53.6791\n",
      "Epoch 5/100\n",
      "11955/11955 [==============================] - 19s 2ms/step - loss: 39543.5938 - mean_absolute_error: 54.3273 - val_loss: 81322.9688 - val_mean_absolute_error: 69.3510\n",
      "Epoch 6/100\n",
      "11955/11955 [==============================] - 19s 2ms/step - loss: 45712.6055 - mean_absolute_error: 54.0726 - val_loss: 17490.0742 - val_mean_absolute_error: 40.0927\n",
      "Epoch 7/100\n",
      "11955/11955 [==============================] - 19s 2ms/step - loss: 37688.0039 - mean_absolute_error: 48.8824 - val_loss: 7988.6064 - val_mean_absolute_error: 27.4306\n",
      "Epoch 8/100\n",
      "11955/11955 [==============================] - 19s 2ms/step - loss: 35047.4375 - mean_absolute_error: 44.7379 - val_loss: 49119.3945 - val_mean_absolute_error: 68.7425\n",
      "Epoch 9/100\n",
      "11955/11955 [==============================] - 20s 2ms/step - loss: 33689.8555 - mean_absolute_error: 47.1043 - val_loss: 22514.0430 - val_mean_absolute_error: 41.3141\n",
      "Epoch 10/100\n",
      "11955/11955 [==============================] - 19s 2ms/step - loss: 25334.9609 - mean_absolute_error: 44.8379 - val_loss: 17901.8008 - val_mean_absolute_error: 31.7798\n",
      "Epoch 11/100\n",
      "11955/11955 [==============================] - 19s 2ms/step - loss: 26889.4277 - mean_absolute_error: 41.9727 - val_loss: 26911.8281 - val_mean_absolute_error: 43.9346\n"
     ]
    }
   ],
   "source": [
    "cnnPooling = tf.keras.Sequential([\n",
    "    tf.keras.layers.Conv1D(\n",
    "            filters=512,\n",
    "            kernel_size=(3,),\n",
    "            activation='relu',\n",
    "            input_shape=(inputWidth,len(inputParams))),\n",
    "    tf.keras.layers.AveragePooling1D(2),\n",
    "    tf.keras.layers.Flatten(),\n",
    "    tf.keras.layers.Dense(units=512, activation='relu'),\n",
    "    tf.keras.layers.Dense(units=labelWidth*len(labelParams)),\n",
    "    tf.keras.layers.Reshape([labelWidth, -1])\n",
    "])\n",
    "\n",
    "history = compile_and_fit(cnnPooling, trainDataset, valDataset)"
   ]
  },
  {
   "cell_type": "code",
   "execution_count": 169,
   "id": "interim-policy",
   "metadata": {
    "scrolled": false
   },
   "outputs": [
    {
     "name": "stdout",
     "output_type": "stream",
     "text": [
      "Model: \"sequential_25\"\n",
      "_________________________________________________________________\n",
      " Layer (type)                Output Shape              Param #   \n",
      "=================================================================\n",
      " conv1d_20 (Conv1D)          (None, 7, 512)            2048      \n",
      "                                                                 \n",
      " average_pooling1d_8 (Averag  (None, 3, 512)           0         \n",
      " ePooling1D)                                                     \n",
      "                                                                 \n",
      " flatten_22 (Flatten)        (None, 1536)              0         \n",
      "                                                                 \n",
      " dense_46 (Dense)            (None, 512)               786944    \n",
      "                                                                 \n",
      " dense_47 (Dense)            (None, 1)                 513       \n",
      "                                                                 \n",
      " reshape_25 (Reshape)        (None, 1, 1)              0         \n",
      "                                                                 \n",
      "=================================================================\n",
      "Total params: 789,505\n",
      "Trainable params: 789,505\n",
      "Non-trainable params: 0\n",
      "_________________________________________________________________\n"
     ]
    }
   ],
   "source": [
    "cnnPooling.summary()"
   ]
  },
  {
   "cell_type": "code",
   "execution_count": 181,
   "id": "fancy-cattle",
   "metadata": {},
   "outputs": [
    {
     "name": "stdout",
     "output_type": "stream",
     "text": [
      "Mean absolute error (test): 50.56627655029297\n"
     ]
    },
    {
     "data": {
      "image/png": "[encoded data removed]",
      "text/plain": [
       "<Figure size 864x864 with 1 Axes>"
      ]
     },
     "metadata": {
      "needs_background": "light"
     },
     "output_type": "display_data"
    }
   ],
   "source": [
    "performance[\"CNN (With Pooling)\"] = cnnPooling.evaluate(testDataset, verbose=0)[1]\n",
    "print(\"Mean absolute error (test): \" + str(performance[\"CNN (With Pooling)\"]))\n",
    "\n",
    "timeSeries = data_to_time_series(normalizedData[(data[\"Country\"] == \"United States\")], width, startYear, endYear)\n",
    "inputs, labels = feature_label_split_time_series(\n",
    "        timeSeries, inputWidth, labelWidth, inputParams, labelParams)\n",
    "usDataset = time_series_to_tf_dataset(inputs, labels, inputWidth, labelWidth).batch(1)\n",
    "predictions = cnnPooling.predict(usDataset)\n",
    "plot(data, inputWidth=inputWidth, labelWidth=labelWidth, predictions=predictions, countries=[\"United States\"], codes=labelParams)"
   ]
  },
  {
   "cell_type": "markdown",
   "id": "brutal-frost",
   "metadata": {},
   "source": [
    "### LSTM"
   ]
  },
  {
   "cell_type": "code",
   "execution_count": 171,
   "id": "scientific-design",
   "metadata": {
    "scrolled": true
   },
   "outputs": [
    {
     "name": "stdout",
     "output_type": "stream",
     "text": [
      "Epoch 1/100\n",
      "11955/11955 [==============================] - 28s 2ms/step - loss: 2268832.0000 - mean_absolute_error: 416.7444 - val_loss: 2125567.0000 - val_mean_absolute_error: 268.0982\n",
      "Epoch 2/100\n",
      "11955/11955 [==============================] - 27s 2ms/step - loss: 2002060.8750 - mean_absolute_error: 247.3506 - val_loss: 2384836.2500 - val_mean_absolute_error: 252.7121\n",
      "Epoch 3/100\n",
      "11955/11955 [==============================] - 27s 2ms/step - loss: 1709192.6250 - mean_absolute_error: 204.1369 - val_loss: 2187012.2500 - val_mean_absolute_error: 222.2413\n",
      "Epoch 4/100\n",
      "11955/11955 [==============================] - 27s 2ms/step - loss: 1540706.5000 - mean_absolute_error: 185.3769 - val_loss: 1535819.8750 - val_mean_absolute_error: 175.1195\n",
      "Epoch 5/100\n",
      "11955/11955 [==============================] - 27s 2ms/step - loss: 1252473.7500 - mean_absolute_error: 160.0573 - val_loss: 1649854.8750 - val_mean_absolute_error: 184.6306\n",
      "Epoch 6/100\n",
      "11955/11955 [==============================] - 26s 2ms/step - loss: 1305160.8750 - mean_absolute_error: 156.0744 - val_loss: 1113252.8750 - val_mean_absolute_error: 140.1293\n",
      "Epoch 7/100\n",
      "11955/11955 [==============================] - 26s 2ms/step - loss: 1255102.0000 - mean_absolute_error: 156.9837 - val_loss: 1078380.7500 - val_mean_absolute_error: 149.6647\n",
      "Epoch 8/100\n",
      "11955/11955 [==============================] - 25s 2ms/step - loss: 1238828.3750 - mean_absolute_error: 154.7222 - val_loss: 822497.8125 - val_mean_absolute_error: 123.0725\n",
      "Epoch 9/100\n",
      "11955/11955 [==============================] - 25s 2ms/step - loss: 1055551.5000 - mean_absolute_error: 140.1836 - val_loss: 1237451.3750 - val_mean_absolute_error: 137.6790\n",
      "Epoch 10/100\n",
      "11955/11955 [==============================] - 25s 2ms/step - loss: 1067344.5000 - mean_absolute_error: 147.0420 - val_loss: 945050.1250 - val_mean_absolute_error: 143.8504\n",
      "Epoch 11/100\n",
      "11955/11955 [==============================] - 25s 2ms/step - loss: 894310.4375 - mean_absolute_error: 130.8756 - val_loss: 1091712.6250 - val_mean_absolute_error: 138.2924\n",
      "Epoch 12/100\n",
      "11955/11955 [==============================] - 25s 2ms/step - loss: 803909.3750 - mean_absolute_error: 127.1450 - val_loss: 722449.6250 - val_mean_absolute_error: 116.4735\n",
      "Epoch 13/100\n",
      "11955/11955 [==============================] - 25s 2ms/step - loss: 873806.7500 - mean_absolute_error: 134.7218 - val_loss: 524150.9688 - val_mean_absolute_error: 131.0137\n",
      "Epoch 14/100\n",
      "11955/11955 [==============================] - 25s 2ms/step - loss: 861427.0625 - mean_absolute_error: 133.8017 - val_loss: 933362.4375 - val_mean_absolute_error: 150.2563\n",
      "Epoch 15/100\n",
      "11955/11955 [==============================] - 25s 2ms/step - loss: 804411.0625 - mean_absolute_error: 130.6221 - val_loss: 465851.0312 - val_mean_absolute_error: 130.9030\n",
      "Epoch 16/100\n",
      "11955/11955 [==============================] - 26s 2ms/step - loss: 698579.8750 - mean_absolute_error: 122.6350 - val_loss: 800277.0000 - val_mean_absolute_error: 166.0867\n",
      "Epoch 17/100\n",
      "11955/11955 [==============================] - 26s 2ms/step - loss: 625086.6250 - mean_absolute_error: 114.1097 - val_loss: 446002.3750 - val_mean_absolute_error: 102.9411\n",
      "Epoch 18/100\n",
      "11955/11955 [==============================] - 26s 2ms/step - loss: 574860.1250 - mean_absolute_error: 112.3142 - val_loss: 869232.1250 - val_mean_absolute_error: 142.1174\n",
      "Epoch 19/100\n",
      "11955/11955 [==============================] - 26s 2ms/step - loss: 640758.7500 - mean_absolute_error: 116.1377 - val_loss: 565330.3125 - val_mean_absolute_error: 105.5638\n",
      "Epoch 20/100\n",
      "11955/11955 [==============================] - 26s 2ms/step - loss: 524449.1250 - mean_absolute_error: 107.4385 - val_loss: 303402.0625 - val_mean_absolute_error: 103.7056\n",
      "Epoch 21/100\n",
      "11955/11955 [==============================] - 26s 2ms/step - loss: 489549.0938 - mean_absolute_error: 105.2965 - val_loss: 573860.4375 - val_mean_absolute_error: 110.4666\n",
      "Epoch 22/100\n",
      "11955/11955 [==============================] - 26s 2ms/step - loss: 470471.6875 - mean_absolute_error: 104.2872 - val_loss: 502930.0625 - val_mean_absolute_error: 99.4516\n",
      "Epoch 23/100\n",
      "11955/11955 [==============================] - 26s 2ms/step - loss: 481034.8125 - mean_absolute_error: 109.3400 - val_loss: 394303.2188 - val_mean_absolute_error: 101.2840\n",
      "Epoch 24/100\n",
      "11955/11955 [==============================] - 26s 2ms/step - loss: 394191.3125 - mean_absolute_error: 98.6607 - val_loss: 500185.4375 - val_mean_absolute_error: 113.8978\n"
     ]
    }
   ],
   "source": [
    "lstm = tf.keras.Sequential([\n",
    "    tf.keras.layers.LSTM(64, return_sequences=True),\n",
    "    tf.keras.layers.LSTM(128, return_sequences=True),\n",
    "    tf.keras.layers.LSTM(256, return_sequences=True),\n",
    "    tf.keras.layers.LSTM(128, return_sequences=True),\n",
    "    tf.keras.layers.LSTM(64, return_sequences=True),\n",
    "    tf.keras.layers.LSTM(labelWidth*len(labelParams), return_sequences=False),\n",
    "    tf.keras.layers.Reshape([labelWidth, -1])\n",
    "])\n",
    "\n",
    "history = compile_and_fit(cnnPooling, trainDataset, valDataset)"
   ]
  },
  {
   "cell_type": "code",
   "execution_count": 172,
   "id": "understanding-palmer",
   "metadata": {
    "scrolled": false
   },
   "outputs": [
    {
     "name": "stdout",
     "output_type": "stream",
     "text": [
      "Model: \"sequential_26\"\n",
      "_________________________________________________________________\n",
      " Layer (type)                Output Shape              Param #   \n",
      "=================================================================\n",
      " lstm_3 (LSTM)               (None, 512)               1052672   \n",
      "                                                                 \n",
      " dense_48 (Dense)            (None, 1)                 513       \n",
      "                                                                 \n",
      " reshape_26 (Reshape)        (None, 1, 1)              0         \n",
      "                                                                 \n",
      "=================================================================\n",
      "Total params: 1,053,185\n",
      "Trainable params: 1,053,185\n",
      "Non-trainable params: 0\n",
      "_________________________________________________________________\n"
     ]
    }
   ],
   "source": [
    "lstm.summary()"
   ]
  },
  {
   "cell_type": "code",
   "execution_count": 179,
   "id": "under-embassy",
   "metadata": {
    "scrolled": false
   },
   "outputs": [
    {
     "name": "stdout",
     "output_type": "stream",
     "text": [
      "Mean absolute error (test): 84.0154800415039\n"
     ]
    },
    {
     "data": {
      "image/png": "[encoded data removed]",
      "text/plain": [
       "<Figure size 864x864 with 1 Axes>"
      ]
     },
     "metadata": {
      "needs_background": "light"
     },
     "output_type": "display_data"
    }
   ],
   "source": [
    "performance[\"LSTM\"] = lstm.evaluate(testDataset, verbose=0)[1]\n",
    "print(\"Mean absolute error (test): \" + str(performance[\"LSTM\"]))\n",
    "\n",
    "timeSeries = data_to_time_series(normalizedData[(data[\"Country\"] == \"United States\")], width, startYear, endYear)\n",
    "inputs, labels = feature_label_split_time_series(\n",
    "        timeSeries, inputWidth, labelWidth, inputParams, labelParams)\n",
    "usDataset = time_series_to_tf_dataset(inputs, labels, inputWidth, labelWidth).batch(1)\n",
    "predictions = lstm.predict(usDataset)\n",
    "plot(data, inputWidth=inputWidth, labelWidth=labelWidth, predictions=predictions, countries=[\"United States\"], codes=labelParams)"
   ]
  },
  {
   "cell_type": "markdown",
   "id": "incident-prime",
   "metadata": {},
   "source": [
    "## Total Performance Report"
   ]
  },
  {
   "cell_type": "code",
   "execution_count": 174,
   "id": "removed-spread",
   "metadata": {
    "scrolled": true
   },
   "outputs": [
    {
     "name": "stdout",
     "output_type": "stream",
     "text": [
      "linear: 421.0787353515625\n",
      "multilayer perceptron: 23.417512893676758\n",
      "CNN (No Pooling): 22.541515350341797\n",
      "CNN (With Pooling): 42.628170013427734\n",
      "LSTM: 95.48458099365234\n",
      "Singlelayer Perceptron: 16.05059814453125\n",
      "Multilayer Perceptron: 18.210262298583984\n"
     ]
    }
   ],
   "source": [
    "for key in performance:\n",
    "    print(key + \": \" + str(performance[key]))"
   ]
  },
  {
   "cell_type": "markdown",
   "id": "furnished-pizza",
   "metadata": {},
   "source": [
    "## Single Step / Multiple input parameters / Single Label"
   ]
  },
  {
   "cell_type": "code",
   "execution_count": 187,
   "id": "sacred-munich",
   "metadata": {},
   "outputs": [],
   "source": [
    "inputWidth = 9\n",
    "labelWidth = 1\n",
    "width = inputWidth + labelWidth\n",
    "inputParams = data[\"WEO Subject Code\"].unique()\n",
    "labelParams = [\"PPPGDP\"]\n",
    "trainSplit=0.8\n",
    "valSplit=0.1\n",
    "testSplit=0.1\n",
    "shuffle=True"
   ]
  },
  {
   "cell_type": "code",
   "execution_count": 188,
   "id": "flying-skill",
   "metadata": {},
   "outputs": [],
   "source": [
    "normalizedData = normalize(data)\n",
    "\n",
    "timeSeries = data_to_time_series(data, width, startYear, endYear)\n",
    "normalizedTimeSeries = data_to_time_series(normalizedData, width, startYear, endYear)\n",
    "\n",
    "inputs, labels = feature_label_split_time_series(\n",
    "        timeSeries, inputWidth, labelWidth, inputParams, labelParams)\n",
    "normalizedInputs, normalizedLabels = feature_label_split_time_series(\n",
    "        normalizedTimeSeries, inputWidth, labelWidth, inputParams, labelParams)\n",
    "\n",
    "dataset = time_series_to_tf_dataset(normalizedInputs, labels, inputWidth, labelWidth)\n",
    "\n",
    "trainDataset, valDataset, testDataset = \\\n",
    "        train_validate_test_split(dataset, trainSplit, valSplit, testSplit, shuffle)"
   ]
  },
  {
   "cell_type": "markdown",
   "id": "sufficient-moisture",
   "metadata": {},
   "source": [
    "## Models"
   ]
  },
  {
   "cell_type": "code",
   "execution_count": 189,
   "id": "later-recognition",
   "metadata": {},
   "outputs": [],
   "source": [
    "performance = {}"
   ]
  },
  {
   "cell_type": "markdown",
   "id": "english-sunrise",
   "metadata": {},
   "source": [
    "### Linear"
   ]
  },
  {
   "cell_type": "code",
   "execution_count": 190,
   "id": "municipal-average",
   "metadata": {
    "scrolled": true
   },
   "outputs": [
    {
     "name": "stdout",
     "output_type": "stream",
     "text": [
      "Epoch 1/100\n",
      "8976/8976 [==============================] - 8s 823us/step - loss: 3089793.2500 - mean_absolute_error: 511.8059 - val_loss: 2617773.5000 - val_mean_absolute_error: 508.5364\n",
      "Epoch 2/100\n",
      "8976/8976 [==============================] - 7s 817us/step - loss: 2920877.0000 - mean_absolute_error: 506.1305 - val_loss: 3219902.2500 - val_mean_absolute_error: 559.9168\n",
      "Epoch 3/100\n",
      "8976/8976 [==============================] - 7s 808us/step - loss: 2800066.7500 - mean_absolute_error: 505.7004 - val_loss: 3276187.0000 - val_mean_absolute_error: 561.8959\n",
      "Epoch 4/100\n",
      "8976/8976 [==============================] - 7s 821us/step - loss: 2825505.0000 - mean_absolute_error: 515.4570 - val_loss: 2160349.2500 - val_mean_absolute_error: 498.7086\n",
      "Epoch 5/100\n",
      "8976/8976 [==============================] - 7s 806us/step - loss: 2371349.0000 - mean_absolute_error: 490.0941 - val_loss: 3047380.0000 - val_mean_absolute_error: 508.1354\n",
      "Epoch 6/100\n",
      "8976/8976 [==============================] - 7s 794us/step - loss: 2514163.7500 - mean_absolute_error: 498.2970 - val_loss: 2027167.7500 - val_mean_absolute_error: 500.0410\n",
      "Epoch 7/100\n",
      "8976/8976 [==============================] - 7s 811us/step - loss: 2252634.7500 - mean_absolute_error: 490.6763 - val_loss: 1378137.0000 - val_mean_absolute_error: 417.6945\n",
      "Epoch 8/100\n",
      "8976/8976 [==============================] - 7s 801us/step - loss: 2084591.1250 - mean_absolute_error: 480.9577 - val_loss: 1575806.1250 - val_mean_absolute_error: 426.4778\n",
      "Epoch 9/100\n",
      "8976/8976 [==============================] - 7s 812us/step - loss: 2036640.1250 - mean_absolute_error: 478.3865 - val_loss: 2918028.5000 - val_mean_absolute_error: 563.6901\n",
      "Epoch 10/100\n",
      "8976/8976 [==============================] - 7s 799us/step - loss: 1940711.1250 - mean_absolute_error: 477.1353 - val_loss: 1977617.6250 - val_mean_absolute_error: 461.3101\n",
      "Epoch 11/100\n",
      "8976/8976 [==============================] - 7s 802us/step - loss: 1793000.5000 - mean_absolute_error: 469.9068 - val_loss: 2592999.5000 - val_mean_absolute_error: 522.9081\n"
     ]
    }
   ],
   "source": [
    "linear = tf.keras.Sequential([\n",
    "    tf.keras.layers.Flatten(),\n",
    "    tf.keras.layers.Dense(units=labelWidth*len(labelParams)),\n",
    "    tf.keras.layers.Reshape([labelWidth, -1])\n",
    "])\n",
    "\n",
    "history = compile_and_fit(linear, trainDataset, valDataset)"
   ]
  },
  {
   "cell_type": "code",
   "execution_count": 191,
   "id": "surrounded-kidney",
   "metadata": {},
   "outputs": [
    {
     "name": "stdout",
     "output_type": "stream",
     "text": [
      "Model: \"sequential_27\"\n",
      "_________________________________________________________________\n",
      " Layer (type)                Output Shape              Param #   \n",
      "=================================================================\n",
      " flatten_23 (Flatten)        (None, 189)               0         \n",
      "                                                                 \n",
      " dense_49 (Dense)            (None, 1)                 190       \n",
      "                                                                 \n",
      " reshape_27 (Reshape)        (None, 1, 1)              0         \n",
      "                                                                 \n",
      "=================================================================\n",
      "Total params: 190\n",
      "Trainable params: 190\n",
      "Non-trainable params: 0\n",
      "_________________________________________________________________\n"
     ]
    }
   ],
   "source": [
    "linear.summary()"
   ]
  },
  {
   "cell_type": "code",
   "execution_count": 192,
   "id": "packed-footage",
   "metadata": {
    "scrolled": false
   },
   "outputs": [
    {
     "name": "stdout",
     "output_type": "stream",
     "text": [
      "Mean absolute error (test): 475.5084228515625\n"
     ]
    },
    {
     "data": {
      "image/png": "[encoded data removed]",
      "text/plain": [
       "<Figure size 864x864 with 1 Axes>"
      ]
     },
     "metadata": {
      "needs_background": "light"
     },
     "output_type": "display_data"
    }
   ],
   "source": [
    "performance[\"Linear\"] = linear.evaluate(testDataset, verbose=0)[1]\n",
    "print(\"Mean absolute error (test): \" + str(performance[\"Linear\"]))\n",
    "\n",
    "timeSeries = data_to_time_series(normalizedData[(data[\"Country\"] == \"United States\")], width, startYear, endYear)\n",
    "inputs, labels = feature_label_split_time_series(\n",
    "        timeSeries, inputWidth, labelWidth, inputParams, labelParams)\n",
    "usDataset = time_series_to_tf_dataset(inputs, labels, inputWidth, labelWidth).batch(1)\n",
    "predictions = linear.predict(usDataset)\n",
    "plot(data, inputWidth=inputWidth, labelWidth=labelWidth, predictions=predictions, countries=[\"United States\"], codes=labelParams)"
   ]
  },
  {
   "cell_type": "markdown",
   "id": "beautiful-privacy",
   "metadata": {},
   "source": [
    "### Single Layer Perceptron"
   ]
  },
  {
   "cell_type": "code",
   "execution_count": 197,
   "id": "rising-draft",
   "metadata": {
    "scrolled": false
   },
   "outputs": [
    {
     "name": "stdout",
     "output_type": "stream",
     "text": [
      "Epoch 1/100\n",
      "8976/8976 [==============================] - 8s 920us/step - loss: 299159.6875 - mean_absolute_error: 153.3826 - val_loss: 77041.2891 - val_mean_absolute_error: 98.3135\n",
      "Epoch 2/100\n",
      "8976/8976 [==============================] - 8s 900us/step - loss: 49988.4336 - mean_absolute_error: 82.5571 - val_loss: 47377.1641 - val_mean_absolute_error: 103.3468\n",
      "Epoch 3/100\n",
      "8976/8976 [==============================] - 8s 914us/step - loss: 21320.6074 - mean_absolute_error: 63.9514 - val_loss: 9532.5957 - val_mean_absolute_error: 51.7950\n",
      "Epoch 4/100\n",
      "8976/8976 [==============================] - 8s 902us/step - loss: 12503.6357 - mean_absolute_error: 50.4505 - val_loss: 7046.3750 - val_mean_absolute_error: 45.1873\n",
      "Epoch 5/100\n",
      "8976/8976 [==============================] - 8s 916us/step - loss: 10872.0029 - mean_absolute_error: 46.8253 - val_loss: 4703.8037 - val_mean_absolute_error: 32.4511\n",
      "Epoch 6/100\n",
      "8976/8976 [==============================] - 8s 920us/step - loss: 10234.4902 - mean_absolute_error: 42.5512 - val_loss: 16376.2852 - val_mean_absolute_error: 49.6518\n",
      "Epoch 7/100\n",
      "8976/8976 [==============================] - 8s 915us/step - loss: 8422.7754 - mean_absolute_error: 39.7218 - val_loss: 6402.1860 - val_mean_absolute_error: 35.5817\n",
      "Epoch 8/100\n",
      "8976/8976 [==============================] - 8s 935us/step - loss: 9441.1973 - mean_absolute_error: 38.2322 - val_loss: 6177.0029 - val_mean_absolute_error: 33.5805\n",
      "Epoch 9/100\n",
      "8976/8976 [==============================] - 8s 945us/step - loss: 8345.1699 - mean_absolute_error: 36.6527 - val_loss: 9942.8525 - val_mean_absolute_error: 47.5523\n"
     ]
    }
   ],
   "source": [
    "single = tf.keras.Sequential([\n",
    "    tf.keras.layers.Flatten(),\n",
    "    tf.keras.layers.Dense(units=512, activation='relu'),\n",
    "    tf.keras.layers.Dense(units=labelWidth*len(labelParams)),\n",
    "    tf.keras.layers.Reshape([labelWidth, -1])\n",
    "])\n",
    "\n",
    "history = compile_and_fit(single, trainDataset, valDataset)"
   ]
  },
  {
   "cell_type": "code",
   "execution_count": 198,
   "id": "acknowledged-narrow",
   "metadata": {},
   "outputs": [
    {
     "name": "stdout",
     "output_type": "stream",
     "text": [
      "Model: \"sequential_32\"\n",
      "_________________________________________________________________\n",
      " Layer (type)                Output Shape              Param #   \n",
      "=================================================================\n",
      " flatten_28 (Flatten)        (None, 189)               0         \n",
      "                                                                 \n",
      " dense_59 (Dense)            (None, 512)               97280     \n",
      "                                                                 \n",
      " dense_60 (Dense)            (None, 1)                 513       \n",
      "                                                                 \n",
      " reshape_32 (Reshape)        (None, 1, 1)              0         \n",
      "                                                                 \n",
      "=================================================================\n",
      "Total params: 97,793\n",
      "Trainable params: 97,793\n",
      "Non-trainable params: 0\n",
      "_________________________________________________________________\n"
     ]
    }
   ],
   "source": [
    "single.summary()"
   ]
  },
  {
   "cell_type": "code",
   "execution_count": 216,
   "id": "virgin-leave",
   "metadata": {},
   "outputs": [
    {
     "name": "stdout",
     "output_type": "stream",
     "text": [
      "Mean absolute error (test): 49.23954391479492\n"
     ]
    },
    {
     "data": {
      "image/png": "[encoded data removed]",
      "text/plain": [
       "<Figure size 864x864 with 1 Axes>"
      ]
     },
     "metadata": {
      "needs_background": "light"
     },
     "output_type": "display_data"
    }
   ],
   "source": [
    "performance[\"Singlelayer Perceptron\"] = single.evaluate(testDataset, verbose=0)[1]\n",
    "print(\"Mean absolute error (test): \" + str(performance[\"Singlelayer Perceptron\"]))\n",
    "\n",
    "timeSeries = data_to_time_series(normalizedData[(data[\"Country\"] == \"United States\")], width, startYear, endYear)\n",
    "inputs, labels = feature_label_split_time_series(\n",
    "        timeSeries, inputWidth, labelWidth, inputParams, labelParams)\n",
    "usDataset = time_series_to_tf_dataset(inputs, labels, inputWidth, labelWidth).batch(1)\n",
    "predictions = single.predict(usDataset)\n",
    "plot(data, inputWidth=inputWidth, labelWidth=labelWidth, predictions=predictions, countries=[\"United States\"], codes=labelParams)"
   ]
  },
  {
   "cell_type": "markdown",
   "id": "powerful-child",
   "metadata": {},
   "source": [
    "### Multilayer Perceptron"
   ]
  },
  {
   "cell_type": "code",
   "execution_count": 218,
   "id": "normal-embassy",
   "metadata": {
    "scrolled": true
   },
   "outputs": [
    {
     "name": "stdout",
     "output_type": "stream",
     "text": [
      "Epoch 1/100\n",
      "8976/8976 [==============================] - 9s 932us/step - loss: 344254.5938 - mean_absolute_error: 155.4617 - val_loss: 159723.6250 - val_mean_absolute_error: 161.3820\n",
      "Epoch 2/100\n",
      "8976/8976 [==============================] - 8s 930us/step - loss: 88171.1484 - mean_absolute_error: 101.4837 - val_loss: 19228.7773 - val_mean_absolute_error: 72.8852\n",
      "Epoch 3/100\n",
      "8976/8976 [==============================] - 8s 924us/step - loss: 49957.8516 - mean_absolute_error: 77.2842 - val_loss: 22712.0508 - val_mean_absolute_error: 64.3667\n",
      "Epoch 4/100\n",
      "8976/8976 [==============================] - 8s 915us/step - loss: 58755.8398 - mean_absolute_error: 73.6287 - val_loss: 14797.3506 - val_mean_absolute_error: 51.1892\n",
      "Epoch 5/100\n",
      "8976/8976 [==============================] - 8s 919us/step - loss: 45699.0000 - mean_absolute_error: 69.0906 - val_loss: 18754.1699 - val_mean_absolute_error: 52.1025\n",
      "Epoch 6/100\n",
      "8976/8976 [==============================] - 8s 925us/step - loss: 42867.3945 - mean_absolute_error: 62.2143 - val_loss: 44665.1094 - val_mean_absolute_error: 83.1746\n",
      "Epoch 7/100\n",
      "8976/8976 [==============================] - 8s 917us/step - loss: 35400.4922 - mean_absolute_error: 53.9467 - val_loss: 74977.5781 - val_mean_absolute_error: 89.6900\n",
      "Epoch 8/100\n",
      "8976/8976 [==============================] - 8s 917us/step - loss: 30136.6309 - mean_absolute_error: 51.3730 - val_loss: 6125.5474 - val_mean_absolute_error: 34.2959\n",
      "Epoch 9/100\n",
      "8976/8976 [==============================] - 8s 925us/step - loss: 27960.4902 - mean_absolute_error: 50.2620 - val_loss: 14290.6289 - val_mean_absolute_error: 47.4832\n",
      "Epoch 10/100\n",
      "8976/8976 [==============================] - 8s 923us/step - loss: 29378.3926 - mean_absolute_error: 50.0581 - val_loss: 18871.3418 - val_mean_absolute_error: 55.1155\n",
      "Epoch 11/100\n",
      "8976/8976 [==============================] - 8s 932us/step - loss: 25742.4004 - mean_absolute_error: 43.1697 - val_loss: 2810.3174 - val_mean_absolute_error: 22.6495\n",
      "Epoch 12/100\n",
      "8976/8976 [==============================] - 8s 925us/step - loss: 25703.7988 - mean_absolute_error: 47.9969 - val_loss: 22169.7852 - val_mean_absolute_error: 47.1129\n",
      "Epoch 13/100\n",
      "8976/8976 [==============================] - 8s 918us/step - loss: 21331.2422 - mean_absolute_error: 40.7287 - val_loss: 4586.6367 - val_mean_absolute_error: 29.9677\n",
      "Epoch 14/100\n",
      "8976/8976 [==============================] - 8s 919us/step - loss: 20282.5527 - mean_absolute_error: 42.5197 - val_loss: 4125.6377 - val_mean_absolute_error: 24.7981\n",
      "Epoch 15/100\n",
      "8976/8976 [==============================] - 8s 926us/step - loss: 21832.9512 - mean_absolute_error: 40.7040 - val_loss: 4517.0649 - val_mean_absolute_error: 23.5238\n"
     ]
    }
   ],
   "source": [
    "dense = tf.keras.Sequential([\n",
    "    tf.keras.layers.Flatten(),\n",
    "    tf.keras.layers.Dense(units=512, activation='relu'),\n",
    "    tf.keras.layers.Dense(units=512, activation='relu'),\n",
    "    tf.keras.layers.Dense(units=labelWidth*len(labelParams)),\n",
    "    tf.keras.layers.Reshape([labelWidth, -1])\n",
    "])\n",
    "\n",
    "history = compile_and_fit(dense, trainDataset, valDataset)"
   ]
  },
  {
   "cell_type": "code",
   "execution_count": 219,
   "id": "acting-sitting",
   "metadata": {},
   "outputs": [
    {
     "name": "stdout",
     "output_type": "stream",
     "text": [
      "Model: \"sequential_41\"\n",
      "_________________________________________________________________\n",
      " Layer (type)                Output Shape              Param #   \n",
      "=================================================================\n",
      " flatten_33 (Flatten)        (None, 189)               0         \n",
      "                                                                 \n",
      " dense_71 (Dense)            (None, 512)               97280     \n",
      "                                                                 \n",
      " dense_72 (Dense)            (None, 512)               262656    \n",
      "                                                                 \n",
      " dense_73 (Dense)            (None, 1)                 513       \n",
      "                                                                 \n",
      " reshape_41 (Reshape)        (None, 1, 1)              0         \n",
      "                                                                 \n",
      "=================================================================\n",
      "Total params: 360,449\n",
      "Trainable params: 360,449\n",
      "Non-trainable params: 0\n",
      "_________________________________________________________________\n"
     ]
    }
   ],
   "source": [
    "dense.summary()"
   ]
  },
  {
   "cell_type": "code",
   "execution_count": 220,
   "id": "local-boston",
   "metadata": {},
   "outputs": [
    {
     "name": "stdout",
     "output_type": "stream",
     "text": [
      "Mean absolute error (test): 24.721458435058594\n"
     ]
    },
    {
     "data": {
      "image/png": "[encoded data removed]",
      "text/plain": [
       "<Figure size 864x864 with 1 Axes>"
      ]
     },
     "metadata": {
      "needs_background": "light"
     },
     "output_type": "display_data"
    }
   ],
   "source": [
    "performance[\"Multilayer perceptron\"] = dense.evaluate(testDataset, verbose=0)[1]\n",
    "print(\"Mean absolute error (test): \" + str(performance[\"Multilayer perceptron\"]))\n",
    "\n",
    "timeSeries = data_to_time_series(normalizedData[(data[\"Country\"] == \"United States\")], width, startYear, endYear)\n",
    "inputs, labels = feature_label_split_time_series(\n",
    "        timeSeries, inputWidth, labelWidth, inputParams, labelParams)\n",
    "usDataset = time_series_to_tf_dataset(inputs, labels, inputWidth, labelWidth).batch(1)\n",
    "predictions = dense.predict(usDataset)\n",
    "plot(data, inputWidth=inputWidth, labelWidth=labelWidth, predictions=predictions, countries=[\"United States\"], codes=labelParams)"
   ]
  },
  {
   "cell_type": "markdown",
   "id": "requested-humanity",
   "metadata": {},
   "source": [
    "### Convolutional Neural Network Without Pooling"
   ]
  },
  {
   "cell_type": "code",
   "execution_count": 221,
   "id": "indie-polls",
   "metadata": {
    "scrolled": true
   },
   "outputs": [
    {
     "name": "stdout",
     "output_type": "stream",
     "text": [
      "Epoch 1/100\n",
      "8976/8976 [==============================] - 21s 2ms/step - loss: 504048.7812 - mean_absolute_error: 175.2977 - val_loss: 162126.2500 - val_mean_absolute_error: 141.1726\n",
      "Epoch 2/100\n",
      "8976/8976 [==============================] - 21s 2ms/step - loss: 128237.5078 - mean_absolute_error: 99.2710 - val_loss: 20943.2754 - val_mean_absolute_error: 55.0767\n",
      "Epoch 3/100\n",
      "8976/8976 [==============================] - 21s 2ms/step - loss: 141420.6094 - mean_absolute_error: 113.8138 - val_loss: 34849.6719 - val_mean_absolute_error: 75.2952\n",
      "Epoch 4/100\n",
      "8976/8976 [==============================] - 21s 2ms/step - loss: 150467.9375 - mean_absolute_error: 100.9689 - val_loss: 21457.1094 - val_mean_absolute_error: 62.5913\n",
      "Epoch 5/100\n",
      "8976/8976 [==============================] - 21s 2ms/step - loss: 107496.0625 - mean_absolute_error: 80.4962 - val_loss: 17339.3887 - val_mean_absolute_error: 44.3702\n",
      "Epoch 6/100\n",
      "8976/8976 [==============================] - 21s 2ms/step - loss: 137067.7969 - mean_absolute_error: 88.8166 - val_loss: 13825.8623 - val_mean_absolute_error: 52.2046\n",
      "Epoch 7/100\n",
      "8976/8976 [==============================] - 21s 2ms/step - loss: 90822.9062 - mean_absolute_error: 73.1085 - val_loss: 28856.8086 - val_mean_absolute_error: 55.5217\n",
      "Epoch 8/100\n",
      "8976/8976 [==============================] - 21s 2ms/step - loss: 76491.6641 - mean_absolute_error: 70.8007 - val_loss: 54524.5352 - val_mean_absolute_error: 74.8287\n",
      "Epoch 9/100\n",
      "8976/8976 [==============================] - 21s 2ms/step - loss: 70966.0312 - mean_absolute_error: 70.8393 - val_loss: 7515.8628 - val_mean_absolute_error: 36.7010\n",
      "Epoch 10/100\n",
      "8976/8976 [==============================] - 21s 2ms/step - loss: 89449.2891 - mean_absolute_error: 74.3314 - val_loss: 12475.7373 - val_mean_absolute_error: 43.3329\n",
      "Epoch 11/100\n",
      "8976/8976 [==============================] - 21s 2ms/step - loss: 67067.0625 - mean_absolute_error: 73.2375 - val_loss: 25091.9570 - val_mean_absolute_error: 56.4184\n",
      "Epoch 12/100\n",
      "8976/8976 [==============================] - 21s 2ms/step - loss: 54937.0391 - mean_absolute_error: 61.9564 - val_loss: 292421.0312 - val_mean_absolute_error: 135.5213\n",
      "Epoch 13/100\n",
      "8976/8976 [==============================] - 21s 2ms/step - loss: 59667.1289 - mean_absolute_error: 63.2768 - val_loss: 14853.1689 - val_mean_absolute_error: 40.1628\n"
     ]
    }
   ],
   "source": [
    "cnnNoPooling = tf.keras.Sequential([\n",
    "    tf.keras.layers.Conv1D(\n",
    "            filters=32,\n",
    "            kernel_size=(3,),\n",
    "            activation='relu',\n",
    "            input_shape=(inputWidth,len(inputParams))),\n",
    "    tf.keras.layers.Conv1D(\n",
    "            filters=64,\n",
    "            kernel_size=(3,),\n",
    "            activation='relu',\n",
    "            input_shape=(inputWidth,len(inputParams))),\n",
    "        tf.keras.layers.Conv1D(\n",
    "            filters=128,\n",
    "            kernel_size=(3,),\n",
    "            activation='relu',\n",
    "            input_shape=(inputWidth,len(inputParams))),\n",
    "    tf.keras.layers.Flatten(),\n",
    "    tf.keras.layers.Dense(units=256, activation='relu'),\n",
    "    tf.keras.layers.Dense(units=labelWidth*len(labelParams)),\n",
    "    tf.keras.layers.Reshape([labelWidth, -1])\n",
    "])\n",
    "\n",
    "history = compile_and_fit(cnnNoPooling, trainDataset, valDataset)"
   ]
  },
  {
   "cell_type": "code",
   "execution_count": 222,
   "id": "going-ranking",
   "metadata": {},
   "outputs": [
    {
     "name": "stdout",
     "output_type": "stream",
     "text": [
      "Model: \"sequential_42\"\n",
      "_________________________________________________________________\n",
      " Layer (type)                Output Shape              Param #   \n",
      "=================================================================\n",
      " conv1d_25 (Conv1D)          (None, 7, 32)             2048      \n",
      "                                                                 \n",
      " conv1d_26 (Conv1D)          (None, 5, 64)             6208      \n",
      "                                                                 \n",
      " conv1d_27 (Conv1D)          (None, 3, 128)            24704     \n",
      "                                                                 \n",
      " flatten_34 (Flatten)        (None, 384)               0         \n",
      "                                                                 \n",
      " dense_74 (Dense)            (None, 256)               98560     \n",
      "                                                                 \n",
      " dense_75 (Dense)            (None, 1)                 257       \n",
      "                                                                 \n",
      " reshape_42 (Reshape)        (None, 1, 1)              0         \n",
      "                                                                 \n",
      "=================================================================\n",
      "Total params: 131,777\n",
      "Trainable params: 131,777\n",
      "Non-trainable params: 0\n",
      "_________________________________________________________________\n"
     ]
    }
   ],
   "source": [
    "cnnNoPooling.summary()"
   ]
  },
  {
   "cell_type": "code",
   "execution_count": 223,
   "id": "cooked-guidance",
   "metadata": {
    "scrolled": false
   },
   "outputs": [
    {
     "name": "stdout",
     "output_type": "stream",
     "text": [
      "Mean absolute error (test): 48.29820251464844\n"
     ]
    },
    {
     "data": {
      "image/png": "[encoded data removed]",
      "text/plain": [
       "<Figure size 864x864 with 1 Axes>"
      ]
     },
     "metadata": {
      "needs_background": "light"
     },
     "output_type": "display_data"
    }
   ],
   "source": [
    "performance[\"CNN (No Pooling)\"] = cnnNoPooling.evaluate(testDataset, verbose=0)[1]\n",
    "print(\"Mean absolute error (test): \" + str(performance[\"CNN (No Pooling)\"]))\n",
    "\n",
    "timeSeries = data_to_time_series(normalizedData[(data[\"Country\"] == \"United States\")], width, startYear, endYear)\n",
    "inputs, labels = feature_label_split_time_series(\n",
    "        timeSeries, inputWidth, labelWidth, inputParams, labelParams)\n",
    "usDataset = time_series_to_tf_dataset(inputs, labels, inputWidth, labelWidth).batch(1)\n",
    "predictions = cnnNoPooling.predict(usDataset)\n",
    "plot(data, inputWidth=inputWidth, labelWidth=labelWidth, predictions=predictions, countries=[\"United States\"], codes=labelParams)"
   ]
  },
  {
   "cell_type": "markdown",
   "id": "accessible-sharing",
   "metadata": {},
   "source": [
    "### Convolutional Neural Network With Pooling"
   ]
  },
  {
   "cell_type": "code",
   "execution_count": 228,
   "id": "southern-glass",
   "metadata": {},
   "outputs": [
    {
     "name": "stdout",
     "output_type": "stream",
     "text": [
      "Epoch 1/100\n",
      "8976/8976 [==============================] - 15s 2ms/step - loss: 221693.7344 - mean_absolute_error: 147.9404 - val_loss: 63189.1406 - val_mean_absolute_error: 89.9063\n",
      "Epoch 2/100\n",
      "8976/8976 [==============================] - 15s 2ms/step - loss: 66418.4844 - mean_absolute_error: 93.8185 - val_loss: 17352.8809 - val_mean_absolute_error: 59.4965\n",
      "Epoch 3/100\n",
      "8976/8976 [==============================] - 14s 2ms/step - loss: 53688.5547 - mean_absolute_error: 77.9488 - val_loss: 109232.0078 - val_mean_absolute_error: 110.3512\n",
      "Epoch 4/100\n",
      "8976/8976 [==============================] - 14s 2ms/step - loss: 42433.9727 - mean_absolute_error: 72.0894 - val_loss: 26754.6133 - val_mean_absolute_error: 72.9713\n",
      "Epoch 5/100\n",
      "8976/8976 [==============================] - 14s 2ms/step - loss: 40286.0156 - mean_absolute_error: 66.1984 - val_loss: 33041.3750 - val_mean_absolute_error: 67.3224\n",
      "Epoch 6/100\n",
      "8976/8976 [==============================] - 15s 2ms/step - loss: 36161.1250 - mean_absolute_error: 60.9025 - val_loss: 15483.5986 - val_mean_absolute_error: 72.6551\n",
      "Epoch 7/100\n",
      "8976/8976 [==============================] - 15s 2ms/step - loss: 33093.8047 - mean_absolute_error: 58.1680 - val_loss: 13965.3535 - val_mean_absolute_error: 38.8130\n",
      "Epoch 8/100\n",
      "8976/8976 [==============================] - 15s 2ms/step - loss: 28585.3418 - mean_absolute_error: 53.2462 - val_loss: 56355.2461 - val_mean_absolute_error: 66.6077\n",
      "Epoch 9/100\n",
      "8976/8976 [==============================] - 15s 2ms/step - loss: 25447.2422 - mean_absolute_error: 51.2035 - val_loss: 6794.5703 - val_mean_absolute_error: 37.1792\n",
      "Epoch 10/100\n",
      "8976/8976 [==============================] - 15s 2ms/step - loss: 28140.9375 - mean_absolute_error: 53.4942 - val_loss: 6119.1357 - val_mean_absolute_error: 36.3830\n",
      "Epoch 11/100\n",
      "8976/8976 [==============================] - 14s 2ms/step - loss: 20931.4434 - mean_absolute_error: 45.8265 - val_loss: 4707.2412 - val_mean_absolute_error: 27.6688\n",
      "Epoch 12/100\n",
      "8976/8976 [==============================] - 15s 2ms/step - loss: 23643.1543 - mean_absolute_error: 46.7556 - val_loss: 4951.1763 - val_mean_absolute_error: 30.3786\n",
      "Epoch 13/100\n",
      "8976/8976 [==============================] - 15s 2ms/step - loss: 21115.5938 - mean_absolute_error: 46.9705 - val_loss: 10271.3213 - val_mean_absolute_error: 35.3401\n",
      "Epoch 14/100\n",
      "8976/8976 [==============================] - 15s 2ms/step - loss: 20394.5938 - mean_absolute_error: 42.6101 - val_loss: 4693.7896 - val_mean_absolute_error: 27.2897\n",
      "Epoch 15/100\n",
      "8976/8976 [==============================] - 15s 2ms/step - loss: 15851.1279 - mean_absolute_error: 40.3293 - val_loss: 8148.5063 - val_mean_absolute_error: 31.3394\n",
      "Epoch 16/100\n",
      "8976/8976 [==============================] - 15s 2ms/step - loss: 15535.4170 - mean_absolute_error: 38.4319 - val_loss: 73527.4062 - val_mean_absolute_error: 85.7654\n",
      "Epoch 17/100\n",
      "8976/8976 [==============================] - 15s 2ms/step - loss: 16883.5312 - mean_absolute_error: 38.6397 - val_loss: 10904.3135 - val_mean_absolute_error: 35.1286\n",
      "Epoch 18/100\n",
      "8976/8976 [==============================] - 15s 2ms/step - loss: 17512.4746 - mean_absolute_error: 37.6639 - val_loss: 14527.4131 - val_mean_absolute_error: 49.0557\n"
     ]
    }
   ],
   "source": [
    "cnnPooling = tf.keras.Sequential([\n",
    "    tf.keras.layers.Conv1D(\n",
    "            filters=256,\n",
    "            kernel_size=(3,),\n",
    "            activation='relu',\n",
    "            input_shape=(inputWidth,len(inputParams))),\n",
    "    tf.keras.layers.AveragePooling1D(2),\n",
    "    tf.keras.layers.Flatten(),\n",
    "    tf.keras.layers.Dense(units=256, activation='relu'),\n",
    "    tf.keras.layers.Dense(units=labelWidth*len(labelParams)),\n",
    "    tf.keras.layers.Reshape([labelWidth, -1])\n",
    "])\n",
    "\n",
    "history = compile_and_fit(cnnPooling, trainDataset, valDataset)"
   ]
  },
  {
   "cell_type": "code",
   "execution_count": 229,
   "id": "uniform-holocaust",
   "metadata": {
    "scrolled": false
   },
   "outputs": [
    {
     "name": "stdout",
     "output_type": "stream",
     "text": [
      "Model: \"sequential_45\"\n",
      "_________________________________________________________________\n",
      " Layer (type)                Output Shape              Param #   \n",
      "=================================================================\n",
      " conv1d_29 (Conv1D)          (None, 7, 256)            16384     \n",
      "                                                                 \n",
      " average_pooling1d_11 (Avera  (None, 3, 256)           0         \n",
      " gePooling1D)                                                    \n",
      "                                                                 \n",
      " flatten_36 (Flatten)        (None, 768)               0         \n",
      "                                                                 \n",
      " dense_78 (Dense)            (None, 256)               196864    \n",
      "                                                                 \n",
      " dense_79 (Dense)            (None, 1)                 257       \n",
      "                                                                 \n",
      " reshape_45 (Reshape)        (None, 1, 1)              0         \n",
      "                                                                 \n",
      "=================================================================\n",
      "Total params: 213,505\n",
      "Trainable params: 213,505\n",
      "Non-trainable params: 0\n",
      "_________________________________________________________________\n"
     ]
    }
   ],
   "source": [
    "cnnPooling.summary()"
   ]
  },
  {
   "cell_type": "code",
   "execution_count": 230,
   "id": "developing-functionality",
   "metadata": {},
   "outputs": [
    {
     "name": "stdout",
     "output_type": "stream",
     "text": [
      "Mean absolute error (test): 45.54634094238281\n"
     ]
    },
    {
     "data": {
      "image/png": "[encoded data removed]",
      "text/plain": [
       "<Figure size 864x864 with 1 Axes>"
      ]
     },
     "metadata": {
      "needs_background": "light"
     },
     "output_type": "display_data"
    }
   ],
   "source": [
    "performance[\"CNN (With Pooling)\"] = cnnPooling.evaluate(testDataset, verbose=0)[1]\n",
    "print(\"Mean absolute error (test): \" + str(performance[\"CNN (With Pooling)\"]))\n",
    "\n",
    "timeSeries = data_to_time_series(normalizedData[(data[\"Country\"] == \"United States\")], width, startYear, endYear)\n",
    "inputs, labels = feature_label_split_time_series(\n",
    "        timeSeries, inputWidth, labelWidth, inputParams, labelParams)\n",
    "usDataset = time_series_to_tf_dataset(inputs, labels, inputWidth, labelWidth).batch(1)\n",
    "predictions = cnnPooling.predict(usDataset)\n",
    "plot(data, inputWidth=inputWidth, labelWidth=labelWidth, predictions=predictions, countries=[\"United States\"], codes=labelParams)"
   ]
  },
  {
   "cell_type": "markdown",
   "id": "actual-geology",
   "metadata": {},
   "source": [
    "### LSTM"
   ]
  },
  {
   "cell_type": "code",
   "execution_count": 231,
   "id": "regular-newport",
   "metadata": {
    "scrolled": true
   },
   "outputs": [
    {
     "name": "stdout",
     "output_type": "stream",
     "text": [
      "Epoch 1/100\n",
      "8976/8976 [==============================] - 63s 7ms/step - loss: 3244229.2500 - mean_absolute_error: 516.3637 - val_loss: 3244254.0000 - val_mean_absolute_error: 500.7219\n",
      "Epoch 2/100\n",
      "8976/8976 [==============================] - 59s 7ms/step - loss: 3188928.0000 - mean_absolute_error: 517.8794 - val_loss: 2718640.2500 - val_mean_absolute_error: 456.7713\n",
      "Epoch 3/100\n",
      "8976/8976 [==============================] - 59s 7ms/step - loss: 3211476.0000 - mean_absolute_error: 521.6570 - val_loss: 2939634.0000 - val_mean_absolute_error: 509.7364\n",
      "Epoch 4/100\n",
      "8976/8976 [==============================] - 59s 7ms/step - loss: 3241821.0000 - mean_absolute_error: 523.2510 - val_loss: 3258447.7500 - val_mean_absolute_error: 528.7410\n",
      "Epoch 5/100\n",
      "8976/8976 [==============================] - 59s 7ms/step - loss: 3219903.7500 - mean_absolute_error: 520.1419 - val_loss: 2710316.2500 - val_mean_absolute_error: 519.9234\n",
      "Epoch 6/100\n",
      "8976/8976 [==============================] - 59s 7ms/step - loss: 3121948.5000 - mean_absolute_error: 518.6202 - val_loss: 3557898.0000 - val_mean_absolute_error: 577.4162\n",
      "Epoch 7/100\n",
      "8976/8976 [==============================] - 59s 7ms/step - loss: 3265152.7500 - mean_absolute_error: 526.7027 - val_loss: 3780683.5000 - val_mean_absolute_error: 546.2048\n",
      "Epoch 8/100\n",
      "8976/8976 [==============================] - 59s 7ms/step - loss: 2888606.7500 - mean_absolute_error: 498.1710 - val_loss: 3268721.0000 - val_mean_absolute_error: 532.7776\n",
      "Epoch 9/100\n",
      "8976/8976 [==============================] - 59s 7ms/step - loss: 3028386.5000 - mean_absolute_error: 505.3658 - val_loss: 2194451.0000 - val_mean_absolute_error: 461.1088\n",
      "Epoch 10/100\n",
      "8976/8976 [==============================] - 59s 7ms/step - loss: 3193632.7500 - mean_absolute_error: 525.1003 - val_loss: 3799360.5000 - val_mean_absolute_error: 574.8116\n",
      "Epoch 11/100\n",
      "8976/8976 [==============================] - 59s 7ms/step - loss: 2893060.5000 - mean_absolute_error: 502.8907 - val_loss: 3650210.0000 - val_mean_absolute_error: 568.6807\n",
      "Epoch 12/100\n",
      "8976/8976 [==============================] - 59s 7ms/step - loss: 3273403.7500 - mean_absolute_error: 527.0790 - val_loss: 3375973.2500 - val_mean_absolute_error: 530.5568\n",
      "Epoch 13/100\n",
      "8976/8976 [==============================] - 59s 7ms/step - loss: 3269856.0000 - mean_absolute_error: 525.2495 - val_loss: 3138991.7500 - val_mean_absolute_error: 506.9077\n"
     ]
    }
   ],
   "source": [
    "lstm = tf.keras.Sequential([\n",
    "    tf.keras.layers.LSTM(64, return_sequences=True),\n",
    "    tf.keras.layers.LSTM(128, return_sequences=True),\n",
    "    tf.keras.layers.LSTM(256, return_sequences=True),\n",
    "    tf.keras.layers.LSTM(128, return_sequences=True),\n",
    "    tf.keras.layers.LSTM(64, return_sequences=True),\n",
    "    tf.keras.layers.LSTM(labelWidth*len(labelParams), return_sequences=False),\n",
    "    tf.keras.layers.Reshape([labelWidth, -1])\n",
    "])\n",
    "\n",
    "history = compile_and_fit(lstm, trainDataset, valDataset)"
   ]
  },
  {
   "cell_type": "code",
   "execution_count": 232,
   "id": "undefined-uganda",
   "metadata": {
    "scrolled": false
   },
   "outputs": [
    {
     "name": "stdout",
     "output_type": "stream",
     "text": [
      "Model: \"sequential_46\"\n",
      "_________________________________________________________________\n",
      " Layer (type)                Output Shape              Param #   \n",
      "=================================================================\n",
      " lstm_34 (LSTM)              (None, 9, 64)             22016     \n",
      "                                                                 \n",
      " lstm_35 (LSTM)              (None, 9, 128)            98816     \n",
      "                                                                 \n",
      " lstm_36 (LSTM)              (None, 9, 256)            394240    \n",
      "                                                                 \n",
      " lstm_37 (LSTM)              (None, 9, 128)            197120    \n",
      "                                                                 \n",
      " lstm_38 (LSTM)              (None, 9, 64)             49408     \n",
      "                                                                 \n",
      " lstm_39 (LSTM)              (None, 1)                 264       \n",
      "                                                                 \n",
      " reshape_46 (Reshape)        (None, 1, 1)              0         \n",
      "                                                                 \n",
      "=================================================================\n",
      "Total params: 761,864\n",
      "Trainable params: 761,864\n",
      "Non-trainable params: 0\n",
      "_________________________________________________________________\n"
     ]
    }
   ],
   "source": [
    "lstm.summary()"
   ]
  },
  {
   "cell_type": "code",
   "execution_count": 233,
   "id": "appointed-banner",
   "metadata": {},
   "outputs": [
    {
     "name": "stdout",
     "output_type": "stream",
     "text": [
      "Mean absolute error (test): 559.2528686523438\n"
     ]
    },
    {
     "data": {
      "image/png": "[encoded data removed]",
      "text/plain": [
       "<Figure size 864x864 with 1 Axes>"
      ]
     },
     "metadata": {
      "needs_background": "light"
     },
     "output_type": "display_data"
    }
   ],
   "source": [
    "performance[\"LSTM\"] = lstm.evaluate(testDataset, verbose=0)[1]\n",
    "print(\"Mean absolute error (test): \" + str(performance[\"LSTM\"]))\n",
    "\n",
    "timeSeries = data_to_time_series(normalizedData[(data[\"Country\"] == \"United States\")], width, startYear, endYear)\n",
    "inputs, labels = feature_label_split_time_series(\n",
    "        timeSeries, inputWidth, labelWidth, inputParams, labelParams)\n",
    "usDataset = time_series_to_tf_dataset(inputs, labels, inputWidth, labelWidth).batch(1)\n",
    "predictions = lstm.predict(usDataset)\n",
    "plot(data, inputWidth=inputWidth, labelWidth=labelWidth, predictions=predictions, countries=[\"United States\"], codes=labelParams)"
   ]
  },
  {
   "cell_type": "markdown",
   "id": "bright-advice",
   "metadata": {},
   "source": [
    "## Total Performance Report"
   ]
  },
  {
   "cell_type": "code",
   "execution_count": 234,
   "id": "vanilla-appointment",
   "metadata": {
    "scrolled": false
   },
   "outputs": [
    {
     "name": "stdout",
     "output_type": "stream",
     "text": [
      "Linear: 475.5084228515625\n",
      "Singlelayer Perceptron: 49.23954391479492\n",
      "multilayer perceptron: 25.81125831604004\n",
      "CNN (No Pooling): 48.29820251464844\n",
      "CNN (With Pooling): 45.54634094238281\n",
      "Multilayer perceptron: 24.721458435058594\n",
      "LSTM: 559.2528686523438\n"
     ]
    }
   ],
   "source": [
    "for key in performance:\n",
    "    print(key + \": \" + str(performance[key]))"
   ]
  },
  {
   "cell_type": "markdown",
   "id": "simplified-shooting",
   "metadata": {},
   "source": [
    "## Multistep / Multilabel on GDP"
   ]
  },
  {
   "cell_type": "code",
   "execution_count": 75,
   "id": "necessary-worst",
   "metadata": {},
   "outputs": [],
   "source": [
    "performance = {}"
   ]
  },
  {
   "cell_type": "code",
   "execution_count": 76,
   "id": "aerial-grain",
   "metadata": {},
   "outputs": [],
   "source": [
    "inputWidth = 9\n",
    "labelWidth = 3\n",
    "width = inputWidth + labelWidth\n",
    "inputParams = data[\"WEO Subject Code\"].unique()\n",
    "labelParams = [\"PPPGDP\"] \n",
    "trainSplit=0.8\n",
    "valSplit=0.1\n",
    "testSplit=0.1\n",
    "shuffle=True\n",
    "\n",
    "normalizedData = normalize(data)\n",
    "\n",
    "timeSeries = data_to_time_series(data, width, startYear, endYear)\n",
    "normalizedTimeSeries = data_to_time_series(normalizedData, width, startYear, endYear)\n",
    "\n",
    "inputs, labels = feature_label_split_time_series(\n",
    "        timeSeries, inputWidth, labelWidth, inputParams, labelParams)\n",
    "normalizedInputs, normalizedLabels = feature_label_split_time_series(\n",
    "        normalizedTimeSeries, inputWidth, labelWidth, inputParams, labelParams)\n",
    "\n",
    "dataset = time_series_to_tf_dataset(normalizedInputs, labels, inputWidth, labelWidth)\n",
    "\n",
    "trainDataset, valDataset, testDataset = \\\n",
    "        train_validate_test_split(dataset, trainSplit, valSplit, testSplit, shuffle)"
   ]
  },
  {
   "cell_type": "markdown",
   "id": "special-extreme",
   "metadata": {},
   "source": [
    "### Linear"
   ]
  },
  {
   "cell_type": "code",
   "execution_count": 77,
   "id": "hispanic-astrology",
   "metadata": {
    "scrolled": true
   },
   "outputs": [
    {
     "name": "stdout",
     "output_type": "stream",
     "text": [
      "Epoch 1/100\n",
      "8169/8169 [==============================] - 6s 776us/step - loss: 2837200.7500 - mean_absolute_error: 509.1316 - val_loss: 2420232.2500 - val_mean_absolute_error: 497.6844\n",
      "Epoch 2/100\n",
      "8169/8169 [==============================] - 6s 769us/step - loss: 2666461.2500 - mean_absolute_error: 498.6308 - val_loss: 2843996.0000 - val_mean_absolute_error: 487.8072\n",
      "Epoch 3/100\n",
      "8169/8169 [==============================] - 6s 766us/step - loss: 2641156.2500 - mean_absolute_error: 493.9890 - val_loss: 2737275.5000 - val_mean_absolute_error: 514.6666\n",
      "Epoch 4/100\n",
      "8169/8169 [==============================] - 6s 772us/step - loss: 2432606.5000 - mean_absolute_error: 496.2191 - val_loss: 2059742.8750 - val_mean_absolute_error: 503.5065\n",
      "Epoch 5/100\n",
      "8169/8169 [==============================] - 6s 768us/step - loss: 2496093.0000 - mean_absolute_error: 500.6657 - val_loss: 2802811.5000 - val_mean_absolute_error: 518.1441\n",
      "Epoch 6/100\n",
      "8169/8169 [==============================] - 6s 759us/step - loss: 2385164.0000 - mean_absolute_error: 486.6846 - val_loss: 3101670.2500 - val_mean_absolute_error: 539.7250\n",
      "Epoch 7/100\n",
      "8169/8169 [==============================] - 6s 768us/step - loss: 2289406.5000 - mean_absolute_error: 493.5959 - val_loss: 2574555.7500 - val_mean_absolute_error: 492.7458\n",
      "Epoch 8/100\n",
      "8169/8169 [==============================] - 6s 769us/step - loss: 2149128.5000 - mean_absolute_error: 489.0104 - val_loss: 895031.3750 - val_mean_absolute_error: 403.3322\n",
      "Epoch 9/100\n",
      "8169/8169 [==============================] - 6s 765us/step - loss: 2045358.1250 - mean_absolute_error: 485.8235 - val_loss: 1752556.7500 - val_mean_absolute_error: 473.4235\n",
      "Epoch 10/100\n",
      "8169/8169 [==============================] - 6s 766us/step - loss: 1840783.0000 - mean_absolute_error: 470.7154 - val_loss: 2135408.2500 - val_mean_absolute_error: 513.2028\n",
      "Epoch 11/100\n",
      "8169/8169 [==============================] - 6s 770us/step - loss: 1878923.6250 - mean_absolute_error: 480.3825 - val_loss: 1391564.3750 - val_mean_absolute_error: 441.2905\n",
      "Epoch 12/100\n",
      "8169/8169 [==============================] - 6s 765us/step - loss: 1800275.8750 - mean_absolute_error: 475.3039 - val_loss: 1822827.2500 - val_mean_absolute_error: 488.3540\n"
     ]
    }
   ],
   "source": [
    "linear = tf.keras.Sequential([\n",
    "    tf.keras.layers.Flatten(),\n",
    "    tf.keras.layers.Dense(units=labelWidth*len(labelParams)),\n",
    "    tf.keras.layers.Reshape([labelWidth, -1])\n",
    "])\n",
    "\n",
    "history = compile_and_fit(linear, trainDataset, valDataset)"
   ]
  },
  {
   "cell_type": "code",
   "execution_count": 78,
   "id": "oriented-evanescence",
   "metadata": {},
   "outputs": [
    {
     "name": "stdout",
     "output_type": "stream",
     "text": [
      "Model: \"sequential_11\"\n",
      "_________________________________________________________________\n",
      " Layer (type)                Output Shape              Param #   \n",
      "=================================================================\n",
      " flatten_9 (Flatten)         (None, 189)               0         \n",
      "                                                                 \n",
      " dense_20 (Dense)            (None, 3)                 570       \n",
      "                                                                 \n",
      " reshape_11 (Reshape)        (None, 3, 1)              0         \n",
      "                                                                 \n",
      "=================================================================\n",
      "Total params: 570\n",
      "Trainable params: 570\n",
      "Non-trainable params: 0\n",
      "_________________________________________________________________\n"
     ]
    }
   ],
   "source": [
    "linear.summary()"
   ]
  },
  {
   "cell_type": "code",
   "execution_count": 91,
   "id": "exceptional-crowd",
   "metadata": {
    "scrolled": false
   },
   "outputs": [
    {
     "name": "stdout",
     "output_type": "stream",
     "text": [
      "Mean absolute error (test): 544.8238525390625\n",
      "30\n"
     ]
    },
    {
     "ename": "ValueError",
     "evalue": "x and y must have same first dimension, but have shapes (3,) and (1, 3, 1)",
     "output_type": "error",
     "traceback": [
      "\u001b[0;31m---------------------------------------------------------------------------\u001b[0m",
      "\u001b[0;31mValueError\u001b[0m                                Traceback (most recent call last)",
      "\u001b[0;32m<ipython-input-91-47cd2b09734a>\u001b[0m in \u001b[0;36m<module>\u001b[0;34m\u001b[0m\n\u001b[1;32m     10\u001b[0m     \u001b[0mpredictions\u001b[0m\u001b[0;34m.\u001b[0m\u001b[0mappend\u001b[0m\u001b[0;34m(\u001b[0m\u001b[0mlinear\u001b[0m\u001b[0;34m(\u001b[0m\u001b[0mtensor\u001b[0m\u001b[0;34m[\u001b[0m\u001b[0;36m0\u001b[0m\u001b[0;34m]\u001b[0m\u001b[0;34m)\u001b[0m\u001b[0;34m.\u001b[0m\u001b[0mnumpy\u001b[0m\u001b[0;34m(\u001b[0m\u001b[0;34m)\u001b[0m\u001b[0;34m)\u001b[0m\u001b[0;34m\u001b[0m\u001b[0;34m\u001b[0m\u001b[0m\n\u001b[1;32m     11\u001b[0m \u001b[0mprint\u001b[0m\u001b[0;34m(\u001b[0m\u001b[0mlen\u001b[0m\u001b[0;34m(\u001b[0m\u001b[0mpredictions\u001b[0m\u001b[0;34m)\u001b[0m\u001b[0;34m)\u001b[0m\u001b[0;34m\u001b[0m\u001b[0;34m\u001b[0m\u001b[0m\n\u001b[0;32m---> 12\u001b[0;31m \u001b[0mplot\u001b[0m\u001b[0;34m(\u001b[0m\u001b[0mdata\u001b[0m\u001b[0;34m,\u001b[0m \u001b[0minputWidth\u001b[0m\u001b[0;34m=\u001b[0m\u001b[0minputWidth\u001b[0m\u001b[0;34m,\u001b[0m \u001b[0mlabelWidth\u001b[0m\u001b[0;34m=\u001b[0m\u001b[0mlabelWidth\u001b[0m\u001b[0;34m,\u001b[0m \u001b[0mpredictions\u001b[0m\u001b[0;34m=\u001b[0m\u001b[0mpredictions\u001b[0m\u001b[0;34m,\u001b[0m \u001b[0mcountries\u001b[0m\u001b[0;34m=\u001b[0m\u001b[0;34m[\u001b[0m\u001b[0;34m\"United States\"\u001b[0m\u001b[0;34m]\u001b[0m\u001b[0;34m,\u001b[0m \u001b[0mcodes\u001b[0m\u001b[0;34m=\u001b[0m\u001b[0mlabelParams\u001b[0m\u001b[0;34m)\u001b[0m\u001b[0;34m\u001b[0m\u001b[0;34m\u001b[0m\u001b[0m\n\u001b[0m",
      "\u001b[0;32m<ipython-input-13-ceb2c04a1137>\u001b[0m in \u001b[0;36mplot\u001b[0;34m(data, inputWidth, labelWidth, predictions, countries, codes, startYear, endYear)\u001b[0m\n\u001b[1;32m     38\u001b[0m                     \u001b[0;32mfor\u001b[0m \u001b[0mi\u001b[0m \u001b[0;32min\u001b[0m \u001b[0mrange\u001b[0m\u001b[0;34m(\u001b[0m\u001b[0mlen\u001b[0m\u001b[0;34m(\u001b[0m\u001b[0mpredictions\u001b[0m\u001b[0;34m)\u001b[0m\u001b[0;34m)\u001b[0m\u001b[0;34m:\u001b[0m\u001b[0;34m\u001b[0m\u001b[0;34m\u001b[0m\u001b[0m\n\u001b[1;32m     39\u001b[0m                         \u001b[0;32mif\u001b[0m \u001b[0mi\u001b[0m \u001b[0;34m==\u001b[0m \u001b[0;36m0\u001b[0m\u001b[0;34m:\u001b[0m\u001b[0;34m\u001b[0m\u001b[0;34m\u001b[0m\u001b[0m\n\u001b[0;32m---> 40\u001b[0;31m                             plt.plot(yearColumnsInt[inputWidth + i :inputWidth + labelWidth + i], \n\u001b[0m\u001b[1;32m     41\u001b[0m                                     \u001b[0mpredictions\u001b[0m\u001b[0;34m[\u001b[0m\u001b[0mi\u001b[0m\u001b[0;34m]\u001b[0m\u001b[0;34m,\u001b[0m\u001b[0;34m\u001b[0m\u001b[0;34m\u001b[0m\u001b[0m\n\u001b[1;32m     42\u001b[0m                                     \u001b[0mmarker\u001b[0m\u001b[0;34m=\u001b[0m\u001b[0;34m'X'\u001b[0m\u001b[0;34m,\u001b[0m \u001b[0mlabel\u001b[0m\u001b[0;34m=\u001b[0m\u001b[0;34m'Predictions'\u001b[0m\u001b[0;34m,\u001b[0m\u001b[0;34m\u001b[0m\u001b[0;34m\u001b[0m\u001b[0m\n",
      "\u001b[0;32m~/.local/lib/python3.8/site-packages/matplotlib/pyplot.py\u001b[0m in \u001b[0;36mplot\u001b[0;34m(scalex, scaley, data, *args, **kwargs)\u001b[0m\n\u001b[1;32m   2755\u001b[0m \u001b[0;34m@\u001b[0m\u001b[0m_copy_docstring_and_deprecators\u001b[0m\u001b[0;34m(\u001b[0m\u001b[0mAxes\u001b[0m\u001b[0;34m.\u001b[0m\u001b[0mplot\u001b[0m\u001b[0;34m)\u001b[0m\u001b[0;34m\u001b[0m\u001b[0;34m\u001b[0m\u001b[0m\n\u001b[1;32m   2756\u001b[0m \u001b[0;32mdef\u001b[0m \u001b[0mplot\u001b[0m\u001b[0;34m(\u001b[0m\u001b[0;34m*\u001b[0m\u001b[0margs\u001b[0m\u001b[0;34m,\u001b[0m \u001b[0mscalex\u001b[0m\u001b[0;34m=\u001b[0m\u001b[0;32mTrue\u001b[0m\u001b[0;34m,\u001b[0m \u001b[0mscaley\u001b[0m\u001b[0;34m=\u001b[0m\u001b[0;32mTrue\u001b[0m\u001b[0;34m,\u001b[0m \u001b[0mdata\u001b[0m\u001b[0;34m=\u001b[0m\u001b[0;32mNone\u001b[0m\u001b[0;34m,\u001b[0m \u001b[0;34m**\u001b[0m\u001b[0mkwargs\u001b[0m\u001b[0;34m)\u001b[0m\u001b[0;34m:\u001b[0m\u001b[0;34m\u001b[0m\u001b[0;34m\u001b[0m\u001b[0m\n\u001b[0;32m-> 2757\u001b[0;31m     return gca().plot(\n\u001b[0m\u001b[1;32m   2758\u001b[0m         \u001b[0;34m*\u001b[0m\u001b[0margs\u001b[0m\u001b[0;34m,\u001b[0m \u001b[0mscalex\u001b[0m\u001b[0;34m=\u001b[0m\u001b[0mscalex\u001b[0m\u001b[0;34m,\u001b[0m \u001b[0mscaley\u001b[0m\u001b[0;34m=\u001b[0m\u001b[0mscaley\u001b[0m\u001b[0;34m,\u001b[0m\u001b[0;34m\u001b[0m\u001b[0;34m\u001b[0m\u001b[0m\n\u001b[1;32m   2759\u001b[0m         **({\"data\": data} if data is not None else {}), **kwargs)\n",
      "\u001b[0;32m~/.local/lib/python3.8/site-packages/matplotlib/axes/_axes.py\u001b[0m in \u001b[0;36mplot\u001b[0;34m(self, scalex, scaley, data, *args, **kwargs)\u001b[0m\n\u001b[1;32m   1630\u001b[0m         \"\"\"\n\u001b[1;32m   1631\u001b[0m         \u001b[0mkwargs\u001b[0m \u001b[0;34m=\u001b[0m \u001b[0mcbook\u001b[0m\u001b[0;34m.\u001b[0m\u001b[0mnormalize_kwargs\u001b[0m\u001b[0;34m(\u001b[0m\u001b[0mkwargs\u001b[0m\u001b[0;34m,\u001b[0m \u001b[0mmlines\u001b[0m\u001b[0;34m.\u001b[0m\u001b[0mLine2D\u001b[0m\u001b[0;34m)\u001b[0m\u001b[0;34m\u001b[0m\u001b[0;34m\u001b[0m\u001b[0m\n\u001b[0;32m-> 1632\u001b[0;31m         \u001b[0mlines\u001b[0m \u001b[0;34m=\u001b[0m \u001b[0;34m[\u001b[0m\u001b[0;34m*\u001b[0m\u001b[0mself\u001b[0m\u001b[0;34m.\u001b[0m\u001b[0m_get_lines\u001b[0m\u001b[0;34m(\u001b[0m\u001b[0;34m*\u001b[0m\u001b[0margs\u001b[0m\u001b[0;34m,\u001b[0m \u001b[0mdata\u001b[0m\u001b[0;34m=\u001b[0m\u001b[0mdata\u001b[0m\u001b[0;34m,\u001b[0m \u001b[0;34m**\u001b[0m\u001b[0mkwargs\u001b[0m\u001b[0;34m)\u001b[0m\u001b[0;34m]\u001b[0m\u001b[0;34m\u001b[0m\u001b[0;34m\u001b[0m\u001b[0m\n\u001b[0m\u001b[1;32m   1633\u001b[0m         \u001b[0;32mfor\u001b[0m \u001b[0mline\u001b[0m \u001b[0;32min\u001b[0m \u001b[0mlines\u001b[0m\u001b[0;34m:\u001b[0m\u001b[0;34m\u001b[0m\u001b[0;34m\u001b[0m\u001b[0m\n\u001b[1;32m   1634\u001b[0m             \u001b[0mself\u001b[0m\u001b[0;34m.\u001b[0m\u001b[0madd_line\u001b[0m\u001b[0;34m(\u001b[0m\u001b[0mline\u001b[0m\u001b[0;34m)\u001b[0m\u001b[0;34m\u001b[0m\u001b[0;34m\u001b[0m\u001b[0m\n",
      "\u001b[0;32m~/.local/lib/python3.8/site-packages/matplotlib/axes/_base.py\u001b[0m in \u001b[0;36m__call__\u001b[0;34m(self, data, *args, **kwargs)\u001b[0m\n\u001b[1;32m    310\u001b[0m                 \u001b[0mthis\u001b[0m \u001b[0;34m+=\u001b[0m \u001b[0margs\u001b[0m\u001b[0;34m[\u001b[0m\u001b[0;36m0\u001b[0m\u001b[0;34m]\u001b[0m\u001b[0;34m,\u001b[0m\u001b[0;34m\u001b[0m\u001b[0;34m\u001b[0m\u001b[0m\n\u001b[1;32m    311\u001b[0m                 \u001b[0margs\u001b[0m \u001b[0;34m=\u001b[0m \u001b[0margs\u001b[0m\u001b[0;34m[\u001b[0m\u001b[0;36m1\u001b[0m\u001b[0;34m:\u001b[0m\u001b[0;34m]\u001b[0m\u001b[0;34m\u001b[0m\u001b[0;34m\u001b[0m\u001b[0m\n\u001b[0;32m--> 312\u001b[0;31m             \u001b[0;32myield\u001b[0m \u001b[0;32mfrom\u001b[0m \u001b[0mself\u001b[0m\u001b[0;34m.\u001b[0m\u001b[0m_plot_args\u001b[0m\u001b[0;34m(\u001b[0m\u001b[0mthis\u001b[0m\u001b[0;34m,\u001b[0m \u001b[0mkwargs\u001b[0m\u001b[0;34m)\u001b[0m\u001b[0;34m\u001b[0m\u001b[0;34m\u001b[0m\u001b[0m\n\u001b[0m\u001b[1;32m    313\u001b[0m \u001b[0;34m\u001b[0m\u001b[0m\n\u001b[1;32m    314\u001b[0m     \u001b[0;32mdef\u001b[0m \u001b[0mget_next_color\u001b[0m\u001b[0;34m(\u001b[0m\u001b[0mself\u001b[0m\u001b[0;34m)\u001b[0m\u001b[0;34m:\u001b[0m\u001b[0;34m\u001b[0m\u001b[0;34m\u001b[0m\u001b[0m\n",
      "\u001b[0;32m~/.local/lib/python3.8/site-packages/matplotlib/axes/_base.py\u001b[0m in \u001b[0;36m_plot_args\u001b[0;34m(self, tup, kwargs, return_kwargs)\u001b[0m\n\u001b[1;32m    496\u001b[0m \u001b[0;34m\u001b[0m\u001b[0m\n\u001b[1;32m    497\u001b[0m         \u001b[0;32mif\u001b[0m \u001b[0mx\u001b[0m\u001b[0;34m.\u001b[0m\u001b[0mshape\u001b[0m\u001b[0;34m[\u001b[0m\u001b[0;36m0\u001b[0m\u001b[0;34m]\u001b[0m \u001b[0;34m!=\u001b[0m \u001b[0my\u001b[0m\u001b[0;34m.\u001b[0m\u001b[0mshape\u001b[0m\u001b[0;34m[\u001b[0m\u001b[0;36m0\u001b[0m\u001b[0;34m]\u001b[0m\u001b[0;34m:\u001b[0m\u001b[0;34m\u001b[0m\u001b[0;34m\u001b[0m\u001b[0m\n\u001b[0;32m--> 498\u001b[0;31m             raise ValueError(f\"x and y must have same first dimension, but \"\n\u001b[0m\u001b[1;32m    499\u001b[0m                              f\"have shapes {x.shape} and {y.shape}\")\n\u001b[1;32m    500\u001b[0m         \u001b[0;32mif\u001b[0m \u001b[0mx\u001b[0m\u001b[0;34m.\u001b[0m\u001b[0mndim\u001b[0m \u001b[0;34m>\u001b[0m \u001b[0;36m2\u001b[0m \u001b[0;32mor\u001b[0m \u001b[0my\u001b[0m\u001b[0;34m.\u001b[0m\u001b[0mndim\u001b[0m \u001b[0;34m>\u001b[0m \u001b[0;36m2\u001b[0m\u001b[0;34m:\u001b[0m\u001b[0;34m\u001b[0m\u001b[0;34m\u001b[0m\u001b[0m\n",
      "\u001b[0;31mValueError\u001b[0m: x and y must have same first dimension, but have shapes (3,) and (1, 3, 1)"
     ]
    },
    {
     "data": {
      "image/png": "[encoded data removed]",
      "text/plain": [
       "<Figure size 864x864 with 1 Axes>"
      ]
     },
     "metadata": {
      "needs_background": "light"
     },
     "output_type": "display_data"
    }
   ],
   "source": [
    "performance[\"linear\"] = linear.evaluate(testDataset, verbose=0)[1]\n",
    "print(\"Mean absolute error (test): \" + str(performance[\"linear\"]))\n",
    "\n",
    "timeSeries = data_to_time_series(normalizedData[(data[\"Country\"] == \"United States\")], width, startYear, endYear)\n",
    "inputs, labels = feature_label_split_time_series(\n",
    "        timeSeries, inputWidth, labelWidth, inputParams, labelParams)\n",
    "usDataset = time_series_to_tf_dataset(inputs, labels, inputWidth, labelWidth).batch(1)\n",
    "predictions=np.ndarray((len(usDataset), labelWidth, len(labelParams)))\n",
    "for i, tensor in enumerate(iter(usDataset)):\n",
    "    predictions[i] = (linear(tensor[0]).numpy())\n",
    "plot(data, inputWidth=inputWidth, labelWidth=labelWidth, predictions=predictions, countries=[\"United States\"], codes=labelParams)"
   ]
  },
  {
   "cell_type": "markdown",
   "id": "rapid-wednesday",
   "metadata": {},
   "source": [
    "### Multilayer Perceptron"
   ]
  },
  {
   "cell_type": "code",
   "execution_count": null,
   "id": "thorough-stroke",
   "metadata": {
    "scrolled": true
   },
   "outputs": [],
   "source": [
    "dense = tf.keras.Sequential([\n",
    "    tf.keras.layers.Flatten(),\n",
    "    tf.keras.layers.Dense(units=512, activation='relu'),\n",
    "    tf.keras.layers.Dense(units=512, activation='relu'),\n",
    "    tf.keras.layers.Dense(units=labelWidth*len(labelParams)),\n",
    "    tf.keras.layers.Reshape([labelWidth, -1])\n",
    "])\n",
    "\n",
    "history = compile_and_fit(dense, trainDataset, valDataset)"
   ]
  },
  {
   "cell_type": "code",
   "execution_count": null,
   "id": "adaptive-alfred",
   "metadata": {},
   "outputs": [],
   "source": [
    "dense.summary()"
   ]
  },
  {
   "cell_type": "code",
   "execution_count": null,
   "id": "standard-mission",
   "metadata": {},
   "outputs": [],
   "source": [
    "performance[\"multilayer perceptron\"] = dense.evaluate(testDataset, verbose=0)[1]\n",
    "print(\"Mean absolute error (test): \" + str(performance[\"multilayer perceptron\"]))\n",
    "\n",
    "timeSeries = data_to_time_series(normalizedData[(data[\"Country\"] == \"United States\")], width, startYear, endYear)\n",
    "inputs, labels = feature_label_split_time_series(\n",
    "        timeSeries, inputWidth, labelWidth, inputParams, labelParams)\n",
    "usDataset = time_series_to_tf_dataset(inputs, labels, inputWidth, labelWidth).batch(1)\n",
    "predictions=np.ndarray((len(usDataset), labelWidth, len(labelParams)))\n",
    "for i, tensor in enumerate(iter(usDataset)):\n",
    "    predictions[i] = (dense(tensor[0]).numpy())\n",
    "plot(data, inputWidth=inputWidth, labelWidth=labelWidth, predictions=predictions, countries=[\"United States\"], codes=labelParams)"
   ]
  },
  {
   "cell_type": "markdown",
   "id": "sustainable-superintendent",
   "metadata": {},
   "source": [
    "### Convolutional Neural Network Without Pooling"
   ]
  },
  {
   "cell_type": "code",
   "execution_count": null,
   "id": "published-potter",
   "metadata": {
    "scrolled": true
   },
   "outputs": [],
   "source": [
    "cnnNoPooling = tf.keras.Sequential([\n",
    "    tf.keras.layers.Conv1D(\n",
    "            filters=32,\n",
    "            kernel_size=(3,),\n",
    "            activation='relu',\n",
    "            input_shape=(inputWidth,len(inputParams))),\n",
    "    tf.keras.layers.Conv1D(\n",
    "            filters=64,\n",
    "            kernel_size=(3,),\n",
    "            activation='relu',\n",
    "            input_shape=(inputWidth,len(inputParams))),\n",
    "        tf.keras.layers.Conv1D(\n",
    "            filters=128,\n",
    "            kernel_size=(3,),\n",
    "            activation='relu',\n",
    "            input_shape=(inputWidth,len(inputParams))),\n",
    "    tf.keras.layers.Flatten(),\n",
    "    tf.keras.layers.Dense(units=256, activation='relu'),\n",
    "    tf.keras.layers.Dense(units=labelWidth*len(labelParams)),\n",
    "    tf.keras.layers.Reshape([labelWidth, -1])\n",
    "])\n",
    "\n",
    "history = compile_and_fit(cnnNoPooling, trainDataset, valDataset)"
   ]
  },
  {
   "cell_type": "code",
   "execution_count": null,
   "id": "refined-vaccine",
   "metadata": {},
   "outputs": [],
   "source": [
    "cnnNoPooling.summary()"
   ]
  },
  {
   "cell_type": "code",
   "execution_count": null,
   "id": "cooperative-segment",
   "metadata": {},
   "outputs": [],
   "source": [
    "performance[\"CNN (No Pooling)\"] = cnnNoPooling.evaluate(testDataset, verbose=0)[1]\n",
    "print(\"Mean absolute error (test): \" + str(performance[\"CNN (No Pooling)\"]))\n",
    "\n",
    "timeSeries = data_to_time_series(normalizedData[(data[\"Country\"] == \"United States\")], width, startYear, endYear)\n",
    "inputs, labels = feature_label_split_time_series(\n",
    "        timeSeries, inputWidth, labelWidth, inputParams, labelParams)\n",
    "usDataset = time_series_to_tf_dataset(inputs, labels, inputWidth, labelWidth).batch(1)\n",
    "predictions=np.ndarray((len(usDataset), labelWidth, len(labelParams)))\n",
    "for i, tensor in enumerate(iter(usDataset)):\n",
    "    predictions[i] = (cnnNoPooling(tensor[0]).numpy())\n",
    "plot(data, inputWidth=inputWidth, labelWidth=labelWidth, predictions=predictions, countries=[\"United States\"], codes=labelParams)"
   ]
  },
  {
   "cell_type": "markdown",
   "id": "known-hamilton",
   "metadata": {},
   "source": [
    "### Convolutional Neural Network With Pooling"
   ]
  },
  {
   "cell_type": "code",
   "execution_count": null,
   "id": "psychological-assessment",
   "metadata": {},
   "outputs": [],
   "source": [
    "cnnPooling = tf.keras.Sequential([\n",
    "    tf.keras.layers.Conv1D(\n",
    "            filters=256,\n",
    "            kernel_size=(3,),\n",
    "            activation='relu',\n",
    "            input_shape=(inputWidth,len(inputParams))),\n",
    "    tf.keras.layers.AveragePooling1D(2),\n",
    "    tf.keras.layers.Flatten(),\n",
    "    tf.keras.layers.Dense(units=256, activation='relu'),\n",
    "    tf.keras.layers.Dense(units=labelWidth*len(labelParams)),\n",
    "    tf.keras.layers.Reshape([labelWidth, -1])\n",
    "])\n",
    "\n",
    "history = compile_and_fit(cnnPooling, trainDataset, valDataset)"
   ]
  },
  {
   "cell_type": "code",
   "execution_count": null,
   "id": "hindu-penalty",
   "metadata": {
    "scrolled": false
   },
   "outputs": [],
   "source": [
    "cnnPooling.summary()"
   ]
  },
  {
   "cell_type": "code",
   "execution_count": null,
   "id": "continuing-picking",
   "metadata": {},
   "outputs": [],
   "source": [
    "performance[\"CNN (With Pooling)\"] = cnnPooling.evaluate(testDataset, verbose=0)[1]\n",
    "print(\"Mean absolute error (test): \" + str(performance[\"CNN (With Pooling)\"]))\n",
    "\n",
    "timeSeries = data_to_time_series(normalizedData[(data[\"Country\"] == \"United States\")], width, startYear, endYear)\n",
    "inputs, labels = feature_label_split_time_series(\n",
    "        timeSeries, inputWidth, labelWidth, inputParams, labelParams)\n",
    "usDataset = time_series_to_tf_dataset(inputs, labels, inputWidth, labelWidth).batch(1)\n",
    "predictions=np.ndarray((len(usDataset), labelWidth, len(labelParams)))\n",
    "for i, tensor in enumerate(iter(usDataset)):\n",
    "    predictions[i] = (cnnPooling(tensor[0]).numpy())\n",
    "plot(data, inputWidth=inputWidth, labelWidth=labelWidth, predictions=predictions, countries=[\"United States\"], codes=labelParams)"
   ]
  },
  {
   "cell_type": "markdown",
   "id": "twenty-packing",
   "metadata": {},
   "source": [
    "### LSTM"
   ]
  },
  {
   "cell_type": "code",
   "execution_count": null,
   "id": "confidential-bleeding",
   "metadata": {},
   "outputs": [],
   "source": [
    "lstm = tf.keras.Sequential([\n",
    "    tf.keras.layers.LSTM(128, return_sequences=False),\n",
    "    tf.keras.layers.Dense(units=labelWidth*len(labelParams)),\n",
    "    tf.keras.layers.Reshape([labelWidth, -1])\n",
    "])\n",
    "\n",
    "history = compile_and_fit(lstm, trainDataset, valDataset)"
   ]
  },
  {
   "cell_type": "code",
   "execution_count": null,
   "id": "sacred-training",
   "metadata": {
    "scrolled": false
   },
   "outputs": [],
   "source": [
    "lstm.summary()"
   ]
  },
  {
   "cell_type": "code",
   "execution_count": null,
   "id": "stupid-apparatus",
   "metadata": {},
   "outputs": [],
   "source": [
    "performance[\"LSTM\"] = lstm.evaluate(testDataset, verbose=0)[1]\n",
    "print(\"Mean absolute error (test): \" + str(performance[\"LSTM\"]))"
   ]
  },
  {
   "cell_type": "code",
   "execution_count": null,
   "id": "prerequisite-african",
   "metadata": {},
   "outputs": [],
   "source": [
    "print(performance)"
   ]
  },
  {
   "cell_type": "markdown",
   "id": "different-integral",
   "metadata": {},
   "source": [
    "## Multiple input paramMultistep on percent annual inflation"
   ]
  },
  {
   "cell_type": "code",
   "execution_count": null,
   "id": "applicable-biotechnology",
   "metadata": {},
   "outputs": [],
   "source": [
    "performance = {}"
   ]
  },
  {
   "cell_type": "code",
   "execution_count": null,
   "id": "usual-diary",
   "metadata": {},
   "outputs": [],
   "source": [
    "inputWidth = 9\n",
    "labelWidth = 3\n",
    "width = inputWidth + labelWidth\n",
    "inputParams = data[\"WEO Subject Code\"].unique()\n",
    "labelParams = [\"PCPIPCH\"]\n",
    "trainSplit=0.8\n",
    "valSplit=0.1\n",
    "testSplit=0.1\n",
    "shuffle=True\n",
    "\n",
    "normalizedData = normalize(data)\n",
    "\n",
    "timeSeries = data_to_time_series(data, width, startYear, endYear)\n",
    "normalizedTimeSeries = data_to_time_series(normalizedData, width, startYear, endYear)\n",
    "\n",
    "inputs, labels = feature_label_split_time_series(\n",
    "        timeSeries, inputWidth, labelWidth, inputParams, labelParams)\n",
    "normalizedInputs, normalizedLabels = feature_label_split_time_series(\n",
    "        normalizedTimeSeries, inputWidth, labelWidth, inputParams, labelParams)\n",
    "\n",
    "dataset = time_series_to_tf_dataset(normalizedInputs, labels, inputWidth, labelWidth)\n",
    "\n",
    "trainDataset, valDataset, testDataset = \\\n",
    "        train_validate_test_split(dataset, trainSplit, valSplit, testSplit, shuffle)"
   ]
  },
  {
   "cell_type": "markdown",
   "id": "separated-struggle",
   "metadata": {},
   "source": [
    "### Linear"
   ]
  },
  {
   "cell_type": "code",
   "execution_count": null,
   "id": "informed-point",
   "metadata": {
    "scrolled": true
   },
   "outputs": [],
   "source": [
    "linear = tf.keras.Sequential([\n",
    "    tf.keras.layers.Flatten(),\n",
    "    tf.keras.layers.Dense(units=labelWidth*len(labelParams)),\n",
    "    tf.keras.layers.Reshape([labelWidth, -1])\n",
    "])\n",
    "\n",
    "history = compile_and_fit(linear, trainDataset, valDataset)"
   ]
  },
  {
   "cell_type": "code",
   "execution_count": null,
   "id": "fantastic-semester",
   "metadata": {},
   "outputs": [],
   "source": [
    "linear.summary()"
   ]
  },
  {
   "cell_type": "code",
   "execution_count": null,
   "id": "controversial-keeping",
   "metadata": {
    "scrolled": false
   },
   "outputs": [],
   "source": [
    "performance[\"linear\"] = linear.evaluate(testDataset, verbose=0)[1]\n",
    "print(\"Mean absolute error (test): \" + str(performance[\"linear\"]))\n",
    "\n",
    "timeSeries = data_to_time_series(normalizedData[(data[\"Country\"] == \"United States\")], width, startYear, endYear)\n",
    "inputs, labels = feature_label_split_time_series(\n",
    "        timeSeries, inputWidth, labelWidth, inputParams, labelParams)\n",
    "usDataset = time_series_to_tf_dataset(inputs, labels, inputWidth, labelWidth).batch(1)\n",
    "predictions=np.ndarray((len(usDataset), labelWidth, len(labelParams)))\n",
    "for i, tensor in enumerate(iter(usDataset)):\n",
    "    predictions[i] = (linear(tensor[0]).numpy())\n",
    "plot(data, inputWidth=inputWidth, labelWidth=labelWidth, predictions=predictions, countries=[\"United States\"], codes=labelParams)\n"
   ]
  },
  {
   "cell_type": "markdown",
   "id": "functional-lithuania",
   "metadata": {},
   "source": [
    "### Multilayer Perceptron"
   ]
  },
  {
   "cell_type": "code",
   "execution_count": null,
   "id": "determined-software",
   "metadata": {
    "scrolled": true
   },
   "outputs": [],
   "source": [
    "dense = tf.keras.Sequential([\n",
    "    tf.keras.layers.Flatten(),\n",
    "    tf.keras.layers.Dense(units=256, activation='relu'),\n",
    "    tf.keras.layers.Dense(units=256, activation='relu'),\n",
    "    tf.keras.layers.Dense(units=labelWidth*len(labelParams)),\n",
    "    tf.keras.layers.Reshape([labelWidth, -1])\n",
    "])\n",
    "\n",
    "history = compile_and_fit(dense, trainDataset, valDataset)"
   ]
  },
  {
   "cell_type": "code",
   "execution_count": null,
   "id": "needed-nashville",
   "metadata": {},
   "outputs": [],
   "source": [
    "dense.summary()"
   ]
  },
  {
   "cell_type": "code",
   "execution_count": null,
   "id": "extreme-martin",
   "metadata": {},
   "outputs": [],
   "source": [
    "performance[\"multilayer perceptron\"] = dense.evaluate(testDataset, verbose=0)[1]\n",
    "print(\"Mean absolute error (test): \" + str(performance[\"multilayer perceptron\"]))\n",
    "\n",
    "timeSeries = data_to_time_series(normalizedData[(data[\"Country\"] == \"United States\")], width, startYear, endYear)\n",
    "inputs, labels = feature_label_split_time_series(\n",
    "        timeSeries, inputWidth, labelWidth, inputParams, labelParams)\n",
    "usDataset = time_series_to_tf_dataset(inputs, labels, inputWidth, labelWidth).batch(1)\n",
    "predictions=np.ndarray((len(usDataset), labelWidth, len(labelParams)))\n",
    "for i, tensor in enumerate(iter(usDataset)):\n",
    "    predictions[i] = (dense(tensor[0]).numpy())\n",
    "plot(data, inputWidth=inputWidth, labelWidth=labelWidth, predictions=predictions, countries=[\"United States\"], codes=labelParams)"
   ]
  },
  {
   "cell_type": "markdown",
   "id": "described-oakland",
   "metadata": {},
   "source": [
    "### Convolutional Neural Network Without Pooling"
   ]
  },
  {
   "cell_type": "code",
   "execution_count": null,
   "id": "stunning-reporter",
   "metadata": {
    "scrolled": true
   },
   "outputs": [],
   "source": [
    "cnnNoPooling = tf.keras.Sequential([\n",
    "    tf.keras.layers.Conv1D(\n",
    "            filters=32,\n",
    "            kernel_size=(3,),\n",
    "            activation='relu',\n",
    "            input_shape=(inputWidth,len(inputParams))),\n",
    "    tf.keras.layers.Conv1D(\n",
    "            filters=64,\n",
    "            kernel_size=(3,),\n",
    "            activation='relu',\n",
    "            input_shape=(inputWidth,len(inputParams))),\n",
    "        tf.keras.layers.Conv1D(\n",
    "            filters=128,\n",
    "            kernel_size=(3,),\n",
    "            activation='relu',\n",
    "            input_shape=(inputWidth,len(inputParams))),\n",
    "    tf.keras.layers.Flatten(),\n",
    "    tf.keras.layers.Dense(units=256, activation='relu'),\n",
    "    tf.keras.layers.Dense(units=labelWidth*len(labelParams)),\n",
    "    tf.keras.layers.Reshape([labelWidth, -1])\n",
    "])\n",
    "\n",
    "history = compile_and_fit(cnnNoPooling, trainDataset, valDataset)"
   ]
  },
  {
   "cell_type": "code",
   "execution_count": null,
   "id": "afraid-taiwan",
   "metadata": {},
   "outputs": [],
   "source": [
    "cnnNoPooling.summary()"
   ]
  },
  {
   "cell_type": "code",
   "execution_count": null,
   "id": "elect-match",
   "metadata": {},
   "outputs": [],
   "source": [
    "performance[\"CNN (No Pooling)\"] = cnnNoPooling.evaluate(testDataset, verbose=0)[1]\n",
    "print(\"Mean absolute error (test): \" + str(performance[\"CNN (No Pooling)\"]))\n",
    "\n",
    "timeSeries = data_to_time_series(normalizedData[(data[\"Country\"] == \"United States\")], width, startYear, endYear)\n",
    "inputs, labels = feature_label_split_time_series(\n",
    "        timeSeries, inputWidth, labelWidth, inputParams, labelParams)\n",
    "usDataset = time_series_to_tf_dataset(inputs, labels, inputWidth, labelWidth).batch(1)\n",
    "predictions=np.ndarray((len(usDataset), labelWidth, len(labelParams)))\n",
    "for i, tensor in enumerate(iter(usDataset)):\n",
    "    predictions[i] = (cnnNoPooling(tensor[0]).numpy())\n",
    "plot(data, inputWidth=inputWidth, labelWidth=labelWidth, predictions=predictions, countries=[\"United States\"], codes=labelParams)"
   ]
  },
  {
   "cell_type": "markdown",
   "id": "motivated-mention",
   "metadata": {},
   "source": [
    "### Convolutional Neural Network With Pooling"
   ]
  },
  {
   "cell_type": "code",
   "execution_count": null,
   "id": "proof-marsh",
   "metadata": {},
   "outputs": [],
   "source": [
    "cnnPooling = tf.keras.Sequential([\n",
    "    tf.keras.layers.Conv1D(\n",
    "            filters=256,\n",
    "            kernel_size=(3,),\n",
    "            activation='relu',\n",
    "            input_shape=(inputWidth,len(inputParams))),\n",
    "    tf.keras.layers.AveragePooling1D(2),\n",
    "    tf.keras.layers.Flatten(),\n",
    "    tf.keras.layers.Dense(units=256, activation='relu'),\n",
    "    tf.keras.layers.Dense(units=labelWidth*len(labelParams)),\n",
    "    tf.keras.layers.Reshape([labelWidth, -1])\n",
    "])\n",
    "\n",
    "history = compile_and_fit(cnnPooling, trainDataset, valDataset)"
   ]
  },
  {
   "cell_type": "code",
   "execution_count": null,
   "id": "disciplinary-bridge",
   "metadata": {
    "scrolled": false
   },
   "outputs": [],
   "source": [
    "cnnPooling.summary()"
   ]
  },
  {
   "cell_type": "code",
   "execution_count": null,
   "id": "prescription-textbook",
   "metadata": {},
   "outputs": [],
   "source": [
    "performance[\"CNN (With Pooling)\"] = cnnPooling.evaluate(testDataset, verbose=0)[1]\n",
    "print(\"Mean absolute error (test): \" + str(performance[\"CNN (With Pooling)\"]))\n",
    "\n",
    "timeSeries = data_to_time_series(normalizedData[(data[\"Country\"] == \"United States\")], width, startYear, endYear)\n",
    "inputs, labels = feature_label_split_time_series(\n",
    "        timeSeries, inputWidth, labelWidth, inputParams, labelParams)\n",
    "usDataset = time_series_to_tf_dataset(inputs, labels, inputWidth, labelWidth).batch(1)\n",
    "predictions=np.ndarray((len(usDataset), labelWidth, len(labelParams)))\n",
    "for i, tensor in enumerate(iter(usDataset)):\n",
    "    predictions[i] = (cnnPooling(tensor[0]).numpy())\n",
    "plot(data, inputWidth=inputWidth, labelWidth=labelWidth, predictions=predictions, countries=[\"United States\"], codes=labelParams)"
   ]
  },
  {
   "cell_type": "markdown",
   "id": "controlling-douglas",
   "metadata": {},
   "source": [
    "### LSTM"
   ]
  },
  {
   "cell_type": "code",
   "execution_count": null,
   "id": "fifteen-humanity",
   "metadata": {},
   "outputs": [],
   "source": [
    "lstm = tf.keras.Sequential([\n",
    "    tf.keras.layers.LSTM(128, return_sequences=False),\n",
    "    tf.keras.layers.Dense(units=labelWidth*len(labelParams)),\n",
    "    tf.keras.layers.Reshape([labelWidth, -1])\n",
    "])\n",
    "\n",
    "history = compile_and_fit(lstm, trainDataset, valDataset)"
   ]
  },
  {
   "cell_type": "code",
   "execution_count": null,
   "id": "illegal-samba",
   "metadata": {
    "scrolled": false
   },
   "outputs": [],
   "source": [
    "lstm.summary()"
   ]
  },
  {
   "cell_type": "code",
   "execution_count": null,
   "id": "limited-georgia",
   "metadata": {},
   "outputs": [],
   "source": [
    "performance[\"LSTM\"] = lstm.evaluate(testDataset, verbose=0)[1]\n",
    "print(\"Mean absolute error (test): \" + str(performance[\"LSTM\"]))"
   ]
  },
  {
   "cell_type": "code",
   "execution_count": null,
   "id": "serious-forestry",
   "metadata": {},
   "outputs": [],
   "source": [
    "print(performance)"
   ]
  }
 ],
 "metadata": {
  "kernelspec": {
   "display_name": "MAT6973-env",
   "language": "python",
   "name": "mat6973-env"
  },
  "language_info": {
   "codemirror_mode": {
    "name": "ipython",
    "version": 3
   },
   "file_extension": ".py",
   "mimetype": "text/x-python",
   "name": "python",
   "nbconvert_exporter": "python",
   "pygments_lexer": "ipython3",
   "version": "3.8.10"
  }
 },
 "nbformat": 4,
 "nbformat_minor": 5
}
